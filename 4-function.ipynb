{
 "cells": [
  {
   "metadata": {},
   "cell_type": "markdown",
   "source": "# Introduction to Functions #",
   "id": "8f0c3c0adf9a455c"
  },
  {
   "metadata": {},
   "cell_type": "markdown",
   "source": [
    "A Function is a block of code that performs a specific task.\n",
    "\n",
    "Functions help in organizing code, reusing code and improving readability."
   ],
   "id": "cea6772e27ebca9a"
  },
  {
   "cell_type": "code",
   "id": "initial_id",
   "metadata": {
    "collapsed": true,
    "ExecuteTime": {
     "end_time": "2025-06-25T12:43:31.578804Z",
     "start_time": "2025-06-25T12:43:31.575348Z"
    }
   },
   "source": [
    "# syntax\n",
    "def function_name():\n",
    "    \"\"\"\n",
    "    Docstring\n",
    "    \"\"\"\n",
    "    # Function Body\n",
    "    return expression"
   ],
   "outputs": [],
   "execution_count": 1
  },
  {
   "metadata": {
    "ExecuteTime": {
     "end_time": "2025-06-25T12:45:17.422939Z",
     "start_time": "2025-06-25T12:45:17.419581Z"
    }
   },
   "cell_type": "code",
   "source": [
    "# why Functions?\n",
    "\n",
    "num = 24\n",
    "if num%2 == 0:\n",
    "    print (\"the number is even \")\n",
    "else :\n",
    "    print (\"the number is odd \")\n"
   ],
   "id": "327ec5421f156685",
   "outputs": [
    {
     "name": "stdout",
     "output_type": "stream",
     "text": [
      "the number is even \n"
     ]
    }
   ],
   "execution_count": 2
  },
  {
   "metadata": {
    "ExecuteTime": {
     "end_time": "2025-06-25T12:48:22.673147Z",
     "start_time": "2025-06-25T12:48:22.663455Z"
    }
   },
   "cell_type": "code",
   "source": [
    "def even_or_odd(num):\n",
    "    \"\"\"This function checks number is even or odd\"\"\"\n",
    "    if num%2==0:\n",
    "        return \"the number is even\"\n",
    "    else:\n",
    "        return \"the number is odd\""
   ],
   "id": "ee0e252c45d2dbbe",
   "outputs": [
    {
     "data": {
      "text/plain": [
       "'the number is even'"
      ]
     },
     "execution_count": 4,
     "metadata": {},
     "output_type": "execute_result"
    }
   ],
   "execution_count": 4
  },
  {
   "metadata": {
    "ExecuteTime": {
     "end_time": "2025-06-25T12:50:55.543462Z",
     "start_time": "2025-06-25T12:50:52.889198Z"
    }
   },
   "cell_type": "code",
   "source": [
    "# call the function\n",
    "number = float(input(\"Enter a number:\"))\n",
    "even_or_odd(number)"
   ],
   "id": "c2a3f15a41d81f38",
   "outputs": [
    {
     "data": {
      "text/plain": [
       "'the number is odd'"
      ]
     },
     "execution_count": 9,
     "metadata": {},
     "output_type": "execute_result"
    }
   ],
   "execution_count": 9
  },
  {
   "metadata": {},
   "cell_type": "markdown",
   "source": "## Function with parameters #",
   "id": "821c6754f8357dcc"
  },
  {
   "metadata": {
    "ExecuteTime": {
     "end_time": "2025-06-25T12:56:22.362531Z",
     "start_time": "2025-06-25T12:56:14.977794Z"
    }
   },
   "cell_type": "code",
   "source": [
    "def add(a,b):\n",
    "    return a+b\n",
    "a = float(input(\"Enter first number:\"))\n",
    "b = float(input(\"Enter second number:\"))\n",
    "print (\"The sum is:\", add(a,b))"
   ],
   "id": "9ca2e10807ae690e",
   "outputs": [
    {
     "name": "stdout",
     "output_type": "stream",
     "text": [
      "The sum is: 40.0\n"
     ]
    }
   ],
   "execution_count": 12
  },
  {
   "metadata": {
    "ExecuteTime": {
     "end_time": "2025-06-25T12:59:50.263334Z",
     "start_time": "2025-06-25T12:59:46.630892Z"
    }
   },
   "cell_type": "code",
   "source": [
    "# Default Parameters\n",
    "\n",
    "def greet(name):\n",
    "    print(f\"Hello, {name}! Welcome to the Python world!\")\n",
    "name = input(\"Enter your name (default is 'Guest'): \") or \"Guest\"\n",
    "greet(name)"
   ],
   "id": "c4fb3b92dc4c95d9",
   "outputs": [
    {
     "name": "stdout",
     "output_type": "stream",
     "text": [
      "Hello, Aryan! Welcome to the Python world!\n"
     ]
    }
   ],
   "execution_count": 17
  },
  {
   "metadata": {
    "ExecuteTime": {
     "end_time": "2025-06-25T13:01:10.238855Z",
     "start_time": "2025-06-25T13:01:06.659178Z"
    }
   },
   "cell_type": "code",
   "source": [
    "def greet(name = \"Guest\"):\n",
    "    print(f\"Hello, {name}! Welcome to the Python world!\")\n",
    "name = input(\"Enter your name: \")\n",
    "greet()"
   ],
   "id": "2ef94a3d34009630",
   "outputs": [
    {
     "name": "stdout",
     "output_type": "stream",
     "text": [
      "Hello, Guest! Welcome to the Python world!\n"
     ]
    }
   ],
   "execution_count": 20
  },
  {
   "metadata": {
    "ExecuteTime": {
     "end_time": "2025-06-25T13:03:06.522382Z",
     "start_time": "2025-06-25T13:03:06.512508Z"
    }
   },
   "cell_type": "code",
   "source": [
    "# Variable Length Arguments\n",
    "# Positional Arguments\n",
    "\n",
    "def print_number(*aryan):\n",
    "    for numbers in aryan:\n",
    "        print(numbers)\n",
    "print_number(1, 2, 3, 4, 5,\"Aryan\")"
   ],
   "id": "784669dbee931915",
   "outputs": [
    {
     "name": "stdout",
     "output_type": "stream",
     "text": [
      "1\n",
      "2\n",
      "3\n",
      "4\n",
      "5\n",
      "Aryan\n"
     ]
    }
   ],
   "execution_count": 21
  },
  {
   "metadata": {
    "ExecuteTime": {
     "end_time": "2025-06-25T13:04:14.147825Z",
     "start_time": "2025-06-25T13:04:14.143185Z"
    }
   },
   "cell_type": "code",
   "source": [
    "# Positional Arguments\n",
    "\n",
    "def print_number(*args):\n",
    "    for numbers in args:\n",
    "        print(numbers)\n",
    "print_number(1, 2, 3, 4, 5,\"Aryan\")"
   ],
   "id": "b006a23b9b98188d",
   "outputs": [
    {
     "name": "stdout",
     "output_type": "stream",
     "text": [
      "1\n",
      "2\n",
      "3\n",
      "4\n",
      "5\n",
      "Aryan\n"
     ]
    }
   ],
   "execution_count": 22
  },
  {
   "metadata": {
    "ExecuteTime": {
     "end_time": "2025-06-25T13:06:02.271221Z",
     "start_time": "2025-06-25T13:06:02.264073Z"
    }
   },
   "cell_type": "code",
   "source": [
    "# Keyword Arguments\n",
    "\n",
    "def print_details(**kwargs):\n",
    "    for key, value in kwargs.items():\n",
    "        print(f\"{key}: {value}\")\n",
    "print_details(name=\"Aryan\", age=20, city=\"Gujarat\")"
   ],
   "id": "ea14f7bef7f6e622",
   "outputs": [
    {
     "name": "stdout",
     "output_type": "stream",
     "text": [
      "name: Aryan\n",
      "age: 20\n",
      "city: Gujarat\n"
     ]
    }
   ],
   "execution_count": 24
  },
  {
   "metadata": {
    "ExecuteTime": {
     "end_time": "2025-06-25T13:13:08.884677Z",
     "start_time": "2025-06-25T13:13:08.869488Z"
    }
   },
   "cell_type": "code",
   "source": [
    "def print_details(*args, **kwargs):\n",
    "    # This loop handles positional arguments\n",
    "    for val in args:\n",
    "        print(f\"Positional argument: {val}\")\n",
    "\n",
    "    # This loop handles keyword arguments\n",
    "    for key, value in kwargs.items():\n",
    "        print(f\"{key}: {value}\")"
   ],
   "id": "c09ef27a2c59b29",
   "outputs": [],
   "execution_count": 33
  },
  {
   "metadata": {
    "ExecuteTime": {
     "end_time": "2025-06-25T13:15:03.510056Z",
     "start_time": "2025-06-25T13:15:03.496173Z"
    }
   },
   "cell_type": "code",
   "source": "print_details(1, 2, 3, 4, 5,\"Aryan\",name=\"Aryan\", age=20, city=\"Gujarat\")",
   "id": "c224179e60357f14",
   "outputs": [
    {
     "name": "stdout",
     "output_type": "stream",
     "text": [
      "Positional argument: 1\n",
      "Positional argument: 2\n",
      "Positional argument: 3\n",
      "Positional argument: 4\n",
      "Positional argument: 5\n",
      "Positional argument: Aryan\n",
      "name: Aryan\n",
      "age: 20\n",
      "city: Gujarat\n"
     ]
    }
   ],
   "execution_count": 34
  },
  {
   "metadata": {
    "ExecuteTime": {
     "end_time": "2025-06-25T13:32:38.676391Z",
     "start_time": "2025-06-25T13:32:31.611570Z"
    }
   },
   "cell_type": "code",
   "source": [
    "# Return Statement\n",
    "def multiply(a, b):\n",
    "    \"\"\"This function returns the product of two numbers.\"\"\"\n",
    "    return a * b\n",
    "a = float(input(\"Enter first number: \"))\n",
    "b = float(input(\"Enter second number: \"))\n",
    "\n",
    "multiply(a,b)"
   ],
   "id": "b7dfba76a4ceff9d",
   "outputs": [
    {
     "data": {
      "text/plain": [
       "20.0"
      ]
     },
     "execution_count": 35,
     "metadata": {},
     "output_type": "execute_result"
    }
   ],
   "execution_count": 35
  },
  {
   "metadata": {
    "ExecuteTime": {
     "end_time": "2025-06-25T13:33:15.157643Z",
     "start_time": "2025-06-25T13:33:10.412626Z"
    }
   },
   "cell_type": "code",
   "source": [
    "# Return multiple Statement\n",
    "def multiply(a, b):\n",
    "    \"\"\"This function returns the product of two numbers.\"\"\"\n",
    "    return a * b, a\n",
    "a = float(input(\"Enter first number: \"))\n",
    "b = float(input(\"Enter second number: \"))\n",
    "\n",
    "multiply(a,b)"
   ],
   "id": "78468085e55bd4d",
   "outputs": [
    {
     "data": {
      "text/plain": [
       "(20.0, 4.0)"
      ]
     },
     "execution_count": 36,
     "metadata": {},
     "output_type": "execute_result"
    }
   ],
   "execution_count": 36
  },
  {
   "metadata": {},
   "cell_type": "markdown",
   "source": "## Functions Example #",
   "id": "6d45d22f21aafabb"
  },
  {
   "metadata": {
    "ExecuteTime": {
     "end_time": "2025-06-26T09:26:09.726982Z",
     "start_time": "2025-06-26T09:26:04.885939Z"
    }
   },
   "cell_type": "code",
   "source": [
    "# Example 1: Temperature Conversion\n",
    "\n",
    "def convert_temperature(temp,unit):\n",
    "    \"\"\"This Function converts temperature between Celsius and Fahrenheit\"\"\"\n",
    "    if unit=='C':\n",
    "        return temp * 9/5 +32 # Celsius to Fahrenheit\n",
    "    elif unit=='F':\n",
    "        return (temp-32)*5/9 # Fahrenheit to Celsius\n",
    "    else:\n",
    "        return None\n",
    "temp = float(input(\"Enter temperature in Celsius:\"))\n",
    "unit = input(\"Enter unit (C/F):\").upper()\n",
    "converted_temp = convert_temperature(temp, unit)\n",
    "print(converted_temp)"
   ],
   "id": "d5aca8e6626c3429",
   "outputs": [
    {
     "name": "stdout",
     "output_type": "stream",
     "text": [
      "77.0\n"
     ]
    }
   ],
   "execution_count": 2
  },
  {
   "metadata": {
    "ExecuteTime": {
     "end_time": "2025-06-26T09:40:01.606239Z",
     "start_time": "2025-06-26T09:39:53.725907Z"
    }
   },
   "cell_type": "code",
   "source": [
    "# Example 2: Password Strength Checker\n",
    "\n",
    "def is_strong_password(password):\n",
    "    \"\"\"This Function checks if a password is strong\"\"\"\n",
    "    if len(password)<=8:\n",
    "        return \"To Small Password\"\n",
    "    if not any(char.isdigit() for char in password ):\n",
    "        return \"At least one digit is required\"\n",
    "    if not any(char.islower() for char in password):\n",
    "        return \"At least one lowercase letter is required\"\n",
    "    if not any(char.isupper() for char in password):\n",
    "        return \"At least one uppercase letter is required\"\n",
    "    if not any(char in '!@#$%^&*()_+' for char in password):\n",
    "        return \"At least one special character is required\"\n",
    "    return \"Strong Password\"\n",
    "password = input(\"Enter a password to check its strength: \")\n",
    "\n",
    "is_strong_password(password)\n",
    "# print(password)"
   ],
   "id": "413cb98a9151575b",
   "outputs": [
    {
     "data": {
      "text/plain": [
       "'To Small Password'"
      ]
     },
     "execution_count": 7,
     "metadata": {},
     "output_type": "execute_result"
    }
   ],
   "execution_count": 7
  },
  {
   "metadata": {
    "ExecuteTime": {
     "end_time": "2025-06-26T10:01:31.588187Z",
     "start_time": "2025-06-26T10:01:31.571554Z"
    }
   },
   "cell_type": "code",
   "source": [
    "# Example 3: Calculate the total cost of items in a shopping cart\n",
    "\n",
    "def calculate_total_cost(cart):\n",
    "    \"\"\"This Function calculates the total cost of items in a shopping cart\"\"\"\n",
    "    total_cost = 0\n",
    "    for item in cart:\n",
    "        total_cost += item['price']* item['quantity']\n",
    "    return total_cost\n",
    "\n",
    "## Example cart data\n",
    "cart =  [\n",
    "            {'name':'Apple', 'price':18.9, 'quantity':4},\n",
    "            {'name':'Banana', 'price':10.9, 'quantity':6},\n",
    "            {'name':'Orange', 'price':9.99, 'quantity':3}\n",
    "        ]\n",
    "\n",
    "\n",
    "\n",
    "# Calling the function\n",
    "total_cost = calculate_total_cost(cart)\n",
    "print(f\"Main Cost is ${total_cost:.2f}\" )\n",
    "print(f\"But you Pay This Cost: ${total_cost:.1f}\")\n",
    "\n",
    "\n"
   ],
   "id": "b109fdb503525985",
   "outputs": [
    {
     "name": "stdout",
     "output_type": "stream",
     "text": [
      "Main Cost is $170.97\n",
      "But you Pay This Cost: $171.0\n"
     ]
    }
   ],
   "execution_count": 34
  },
  {
   "metadata": {
    "ExecuteTime": {
     "end_time": "2025-06-26T10:39:54.420903Z",
     "start_time": "2025-06-26T10:39:44.920218Z"
    }
   },
   "cell_type": "code",
   "source": [
    "# Example 4: Check if a string is a palindrome\n",
    "def is_palindrome(s):\n",
    "    \"\"\"This Function checks if a string is a palindrome\"\"\"\n",
    "    s = s.lower().replace(\" \",\"\")\n",
    "    return s == s[::-1]\n",
    "\n",
    "s = input(\"Enter a string to check if it is a palindrome: \")\n",
    "print (f\"Original String: {s}\")\n",
    "if is_palindrome(s):\n",
    "    print(f\"a palindrome\")\n",
    "    print(s[::-1])\n",
    "else:\n",
    "    print(f\"{s} is not a palindrome\")\n"
   ],
   "id": "7fe872927f9b6b5b",
   "outputs": [
    {
     "name": "stdout",
     "output_type": "stream",
     "text": [
      "Original String: naman\n",
      "a palindrome\n",
      "naman\n"
     ]
    }
   ],
   "execution_count": 40
  },
  {
   "metadata": {
    "ExecuteTime": {
     "end_time": "2025-06-26T10:52:12.942572Z",
     "start_time": "2025-06-26T10:52:09.679666Z"
    }
   },
   "cell_type": "code",
   "source": [
    "# Example 5: Calculate the factorial of a number using recursion\n",
    "\n",
    "def factrorial(n):\n",
    "    \"\"\"This Function calculates the factorial of a number using recursion\"\"\"\n",
    "    if n == 0 or n == 1:\n",
    "        return 1\n",
    "    else:\n",
    "        return n*factrorial(n-1)\n",
    "n = int(input(\"Enter a number to calculate its factorial:\"))\n",
    "print(f\"The Factorial of {n} is {factrorial(n)}\")\n"
   ],
   "id": "505057e70e931e29",
   "outputs": [
    {
     "name": "stdout",
     "output_type": "stream",
     "text": [
      "The Factorial of 5 is 120\n"
     ]
    }
   ],
   "execution_count": 41
  },
  {
   "metadata": {
    "ExecuteTime": {
     "end_time": "2025-06-26T11:05:58.166244Z",
     "start_time": "2025-06-26T11:05:47.142637Z"
    }
   },
   "cell_type": "code",
   "source": [
    "# Example 6: validate Email Address\n",
    "\n",
    "import re\n",
    "\n",
    "# Email Validation Function\n",
    "\n",
    "def is_valid_email(email):\n",
    "    \"\"\"This Function checks if an email address is valid\"\"\"\n",
    "    pattern = r'^[a-zA-Z0-9_.+-]+@[a-zA-Z0-9-]+\\.[a-zA-Z0-9-.]+$'\n",
    "    return re.match(pattern,email) is not None\n",
    "\n",
    "email = input(\"Enter an email address: \")\n",
    "if is_valid_email(email):\n",
    "    print(f\"{email} is a valid email address.\")\n",
    "else:\n",
    "    print(f\"{email} is not a valid email address.\")"
   ],
   "id": "bda2bb7bc7a36a3f",
   "outputs": [
    {
     "name": "stdout",
     "output_type": "stream",
     "text": [
      "asagdhad@gmail is not a valid email address.\n"
     ]
    }
   ],
   "execution_count": 43
  },
  {
   "metadata": {},
   "cell_type": "code",
   "outputs": [],
   "execution_count": null,
   "source": "",
   "id": "e44d13bf6ef35699"
  }
 ],
 "metadata": {
  "kernelspec": {
   "display_name": "Python 3",
   "language": "python",
   "name": "python3"
  },
  "language_info": {
   "codemirror_mode": {
    "name": "ipython",
    "version": 2
   },
   "file_extension": ".py",
   "mimetype": "text/x-python",
   "name": "python",
   "nbconvert_exporter": "python",
   "pygments_lexer": "ipython2",
   "version": "2.7.6"
  }
 },
 "nbformat": 4,
 "nbformat_minor": 5
}
