{
 "cells": [
  {
   "metadata": {},
   "cell_type": "markdown",
   "source": "# Introduction to Functions #",
   "id": "8f0c3c0adf9a455c"
  },
  {
   "metadata": {},
   "cell_type": "markdown",
   "source": [
    "A Function is a block of code that performs a specific task.\n",
    "\n",
    "Functions help in organizing code, reusing code and improving readability."
   ],
   "id": "cea6772e27ebca9a"
  },
  {
   "cell_type": "code",
   "id": "initial_id",
   "metadata": {
    "collapsed": true,
    "ExecuteTime": {
     "end_time": "2025-06-25T12:43:31.578804Z",
     "start_time": "2025-06-25T12:43:31.575348Z"
    }
   },
   "source": [
    "# syntax\n",
    "def function_name():\n",
    "    \"\"\"\n",
    "    Docstring\n",
    "    \"\"\"\n",
    "    # Function Body\n",
    "    return expression"
   ],
   "outputs": [],
   "execution_count": 1
  },
  {
   "metadata": {
    "ExecuteTime": {
     "end_time": "2025-06-25T12:45:17.422939Z",
     "start_time": "2025-06-25T12:45:17.419581Z"
    }
   },
   "cell_type": "code",
   "source": [
    "# why Functions?\n",
    "\n",
    "num = 24\n",
    "if num%2 == 0:\n",
    "    print (\"the number is even \")\n",
    "else :\n",
    "    print (\"the number is odd \")\n"
   ],
   "id": "327ec5421f156685",
   "outputs": [
    {
     "name": "stdout",
     "output_type": "stream",
     "text": [
      "the number is even \n"
     ]
    }
   ],
   "execution_count": 2
  },
  {
   "metadata": {
    "ExecuteTime": {
     "end_time": "2025-06-25T12:48:22.673147Z",
     "start_time": "2025-06-25T12:48:22.663455Z"
    }
   },
   "cell_type": "code",
   "source": [
    "def even_or_odd(num):\n",
    "    \"\"\"This function checks number is even or odd\"\"\"\n",
    "    if num%2==0:\n",
    "        return \"the number is even\"\n",
    "    else:\n",
    "        return \"the number is odd\""
   ],
   "id": "ee0e252c45d2dbbe",
   "outputs": [
    {
     "data": {
      "text/plain": [
       "'the number is even'"
      ]
     },
     "execution_count": 4,
     "metadata": {},
     "output_type": "execute_result"
    }
   ],
   "execution_count": 4
  },
  {
   "metadata": {
    "ExecuteTime": {
     "end_time": "2025-06-25T12:50:55.543462Z",
     "start_time": "2025-06-25T12:50:52.889198Z"
    }
   },
   "cell_type": "code",
   "source": [
    "# call the function\n",
    "number = float(input(\"Enter a number:\"))\n",
    "even_or_odd(number)"
   ],
   "id": "c2a3f15a41d81f38",
   "outputs": [
    {
     "data": {
      "text/plain": [
       "'the number is odd'"
      ]
     },
     "execution_count": 9,
     "metadata": {},
     "output_type": "execute_result"
    }
   ],
   "execution_count": 9
  },
  {
   "metadata": {},
   "cell_type": "markdown",
   "source": "## Function with parameters #",
   "id": "821c6754f8357dcc"
  },
  {
   "metadata": {
    "ExecuteTime": {
     "end_time": "2025-06-25T12:56:22.362531Z",
     "start_time": "2025-06-25T12:56:14.977794Z"
    }
   },
   "cell_type": "code",
   "source": [
    "def add(a,b):\n",
    "    return a+b\n",
    "a = float(input(\"Enter first number:\"))\n",
    "b = float(input(\"Enter second number:\"))\n",
    "print (\"The sum is:\", add(a,b))"
   ],
   "id": "9ca2e10807ae690e",
   "outputs": [
    {
     "name": "stdout",
     "output_type": "stream",
     "text": [
      "The sum is: 40.0\n"
     ]
    }
   ],
   "execution_count": 12
  },
  {
   "metadata": {
    "ExecuteTime": {
     "end_time": "2025-06-25T12:59:50.263334Z",
     "start_time": "2025-06-25T12:59:46.630892Z"
    }
   },
   "cell_type": "code",
   "source": [
    "# Default Parameters\n",
    "\n",
    "def greet(name):\n",
    "    print(f\"Hello, {name}! Welcome to the Python world!\")\n",
    "name = input(\"Enter your name (default is 'Guest'): \") or \"Guest\"\n",
    "greet(name)"
   ],
   "id": "c4fb3b92dc4c95d9",
   "outputs": [
    {
     "name": "stdout",
     "output_type": "stream",
     "text": [
      "Hello, Aryan! Welcome to the Python world!\n"
     ]
    }
   ],
   "execution_count": 17
  },
  {
   "metadata": {
    "ExecuteTime": {
     "end_time": "2025-06-25T13:01:10.238855Z",
     "start_time": "2025-06-25T13:01:06.659178Z"
    }
   },
   "cell_type": "code",
   "source": [
    "def greet(name = \"Guest\"):\n",
    "    print(f\"Hello, {name}! Welcome to the Python world!\")\n",
    "name = input(\"Enter your name: \")\n",
    "greet()"
   ],
   "id": "2ef94a3d34009630",
   "outputs": [
    {
     "name": "stdout",
     "output_type": "stream",
     "text": [
      "Hello, Guest! Welcome to the Python world!\n"
     ]
    }
   ],
   "execution_count": 20
  },
  {
   "metadata": {
    "ExecuteTime": {
     "end_time": "2025-06-25T13:03:06.522382Z",
     "start_time": "2025-06-25T13:03:06.512508Z"
    }
   },
   "cell_type": "code",
   "source": [
    "# Variable Length Arguments\n",
    "# Positional Arguments\n",
    "\n",
    "def print_number(*aryan):\n",
    "    for numbers in aryan:\n",
    "        print(numbers)\n",
    "print_number(1, 2, 3, 4, 5,\"Aryan\")"
   ],
   "id": "784669dbee931915",
   "outputs": [
    {
     "name": "stdout",
     "output_type": "stream",
     "text": [
      "1\n",
      "2\n",
      "3\n",
      "4\n",
      "5\n",
      "Aryan\n"
     ]
    }
   ],
   "execution_count": 21
  },
  {
   "metadata": {
    "ExecuteTime": {
     "end_time": "2025-06-25T13:04:14.147825Z",
     "start_time": "2025-06-25T13:04:14.143185Z"
    }
   },
   "cell_type": "code",
   "source": [
    "# Positional Arguments\n",
    "\n",
    "def print_number(*args):\n",
    "    for numbers in args:\n",
    "        print(numbers)\n",
    "print_number(1, 2, 3, 4, 5,\"Aryan\")"
   ],
   "id": "b006a23b9b98188d",
   "outputs": [
    {
     "name": "stdout",
     "output_type": "stream",
     "text": [
      "1\n",
      "2\n",
      "3\n",
      "4\n",
      "5\n",
      "Aryan\n"
     ]
    }
   ],
   "execution_count": 22
  },
  {
   "metadata": {
    "ExecuteTime": {
     "end_time": "2025-06-25T13:06:02.271221Z",
     "start_time": "2025-06-25T13:06:02.264073Z"
    }
   },
   "cell_type": "code",
   "source": [
    "# Keyword Arguments\n",
    "\n",
    "def print_details(**kwargs):\n",
    "    for key, value in kwargs.items():\n",
    "        print(f\"{key}: {value}\")\n",
    "print_details(name=\"Aryan\", age=20, city=\"Gujarat\")"
   ],
   "id": "ea14f7bef7f6e622",
   "outputs": [
    {
     "name": "stdout",
     "output_type": "stream",
     "text": [
      "name: Aryan\n",
      "age: 20\n",
      "city: Gujarat\n"
     ]
    }
   ],
   "execution_count": 24
  },
  {
   "metadata": {
    "ExecuteTime": {
     "end_time": "2025-06-25T13:13:08.884677Z",
     "start_time": "2025-06-25T13:13:08.869488Z"
    }
   },
   "cell_type": "code",
   "source": [
    "def print_details(*args, **kwargs):\n",
    "    # This loop handles positional arguments\n",
    "    for val in args:\n",
    "        print(f\"Positional argument: {val}\")\n",
    "\n",
    "    # This loop handles keyword arguments\n",
    "    for key, value in kwargs.items():\n",
    "        print(f\"{key}: {value}\")"
   ],
   "id": "c09ef27a2c59b29",
   "outputs": [],
   "execution_count": 33
  },
  {
   "metadata": {
    "ExecuteTime": {
     "end_time": "2025-06-25T13:15:03.510056Z",
     "start_time": "2025-06-25T13:15:03.496173Z"
    }
   },
   "cell_type": "code",
   "source": "print_details(1, 2, 3, 4, 5,\"Aryan\",name=\"Aryan\", age=20, city=\"Gujarat\")",
   "id": "c224179e60357f14",
   "outputs": [
    {
     "name": "stdout",
     "output_type": "stream",
     "text": [
      "Positional argument: 1\n",
      "Positional argument: 2\n",
      "Positional argument: 3\n",
      "Positional argument: 4\n",
      "Positional argument: 5\n",
      "Positional argument: Aryan\n",
      "name: Aryan\n",
      "age: 20\n",
      "city: Gujarat\n"
     ]
    }
   ],
   "execution_count": 34
  },
  {
   "metadata": {
    "ExecuteTime": {
     "end_time": "2025-06-25T13:32:38.676391Z",
     "start_time": "2025-06-25T13:32:31.611570Z"
    }
   },
   "cell_type": "code",
   "source": [
    "# Return Statement\n",
    "def multiply(a, b):\n",
    "    \"\"\"This function returns the product of two numbers.\"\"\"\n",
    "    return a * b\n",
    "a = float(input(\"Enter first number: \"))\n",
    "b = float(input(\"Enter second number: \"))\n",
    "\n",
    "multiply(a,b)"
   ],
   "id": "b7dfba76a4ceff9d",
   "outputs": [
    {
     "data": {
      "text/plain": [
       "20.0"
      ]
     },
     "execution_count": 35,
     "metadata": {},
     "output_type": "execute_result"
    }
   ],
   "execution_count": 35
  },
  {
   "metadata": {
    "ExecuteTime": {
     "end_time": "2025-06-25T13:33:15.157643Z",
     "start_time": "2025-06-25T13:33:10.412626Z"
    }
   },
   "cell_type": "code",
   "source": [
    "# Return multiple Statement\n",
    "def multiply(a, b):\n",
    "    \"\"\"This function returns the product of two numbers.\"\"\"\n",
    "    return a * b, a\n",
    "a = float(input(\"Enter first number: \"))\n",
    "b = float(input(\"Enter second number: \"))\n",
    "\n",
    "multiply(a,b)"
   ],
   "id": "78468085e55bd4d",
   "outputs": [
    {
     "data": {
      "text/plain": [
       "(20.0, 4.0)"
      ]
     },
     "execution_count": 36,
     "metadata": {},
     "output_type": "execute_result"
    }
   ],
   "execution_count": 36
  }
 ],
 "metadata": {
  "kernelspec": {
   "display_name": "Python 3",
   "language": "python",
   "name": "python3"
  },
  "language_info": {
   "codemirror_mode": {
    "name": "ipython",
    "version": 2
   },
   "file_extension": ".py",
   "mimetype": "text/x-python",
   "name": "python",
   "nbconvert_exporter": "python",
   "pygments_lexer": "ipython2",
   "version": "2.7.6"
  }
 },
 "nbformat": 4,
 "nbformat_minor": 5
}
