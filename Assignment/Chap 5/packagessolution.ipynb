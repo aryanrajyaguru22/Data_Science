{
 "cells": [
  {
   "cell_type": "markdown",
   "metadata": {},
   "source": [
    "# Module 5: Modules and Packages Assignments\n",
    "## Lesson 5.1: Importing Modules\n",
    "### Assignment 1: Importing and Using Modules\n",
    "\n",
    "Import the `math` module and use it to calculate the square root of 25 and the sine of 90 degrees."
   ],
   "id": "f7f24bc250ed59a8"
  },
  {
   "cell_type": "code",
   "metadata": {
    "ExecuteTime": {
     "end_time": "2025-06-27T07:23:55.401222Z",
     "start_time": "2025-06-27T07:23:55.395636Z"
    }
   },
   "source": [
    "import math\n",
    "\n",
    "print(math.sqrt(25))  # 5.0\n",
    "print(math.sin(math.radians(90)))  # 1.0"
   ],
   "id": "3cb9dc0fe0341a15",
   "outputs": [
    {
     "name": "stdout",
     "output_type": "stream",
     "text": [
      "5.0\n",
      "1.0\n"
     ]
    }
   ],
   "execution_count": 1
  },
  {
   "cell_type": "markdown",
   "metadata": {},
   "source": [
    "### Assignment 2: Aliasing Modules\n",
    "\n",
    "Import the `datetime` module with an alias and use it to print the current date and time."
   ],
   "id": "1377b833610386ec"
  },
  {
   "cell_type": "code",
   "metadata": {
    "ExecuteTime": {
     "end_time": "2025-06-27T07:23:55.583639Z",
     "start_time": "2025-06-27T07:23:55.580130Z"
    }
   },
   "source": [
    "import datetime as dt\n",
    "\n",
    "print(dt.datetime.now())"
   ],
   "id": "be3ba9391aeec2d4",
   "outputs": [
    {
     "name": "stdout",
     "output_type": "stream",
     "text": [
      "2025-06-27 12:53:55.581999\n"
     ]
    }
   ],
   "execution_count": 2
  },
  {
   "cell_type": "markdown",
   "metadata": {},
   "source": [
    "### Assignment 3: Importing Specific Functions\n",
    "\n",
    "Import the `randint` function from the `random` module and use it to generate a random integer between 1 and 100."
   ],
   "id": "2a1e2a2b1f727a2f"
  },
  {
   "cell_type": "code",
   "metadata": {
    "ExecuteTime": {
     "end_time": "2025-06-27T07:23:55.911438Z",
     "start_time": "2025-06-27T07:23:55.908331Z"
    }
   },
   "source": [
    "from random import randint\n",
    "\n",
    "print(randint(1, 100))"
   ],
   "id": "2bf517ea38e5011a",
   "outputs": [
    {
     "name": "stdout",
     "output_type": "stream",
     "text": [
      "62\n"
     ]
    }
   ],
   "execution_count": 3
  },
  {
   "cell_type": "markdown",
   "metadata": {},
   "source": [
    "### Assignment 4: Importing Multiple Functions\n",
    "\n",
    "Import the `sqrt` and `pow` functions from the `math` module and use them to calculate the square root of 16 and 2 raised to the power of 3."
   ],
   "id": "8d3993fdc445e3f"
  },
  {
   "cell_type": "code",
   "metadata": {
    "ExecuteTime": {
     "end_time": "2025-06-27T07:23:56.148242Z",
     "start_time": "2025-06-27T07:23:56.144497Z"
    }
   },
   "source": [
    "from math import sqrt, pow\n",
    "\n",
    "print(sqrt(16))  # 4.0\n",
    "print(pow(2, 3))  # 8.0"
   ],
   "id": "6a85433275d085f",
   "outputs": [
    {
     "name": "stdout",
     "output_type": "stream",
     "text": [
      "4.0\n",
      "8.0\n"
     ]
    }
   ],
   "execution_count": 4
  },
  {
   "cell_type": "markdown",
   "metadata": {},
   "source": [
    "### Assignment 5: Handling Import Errors\n",
    "\n",
    "Write code that attempts to import a non-existent module and gracefully handles the import error by printing an error message."
   ],
   "id": "68ee4b3aa9c63dce"
  },
  {
   "cell_type": "code",
   "metadata": {
    "ExecuteTime": {
     "end_time": "2025-06-27T07:23:56.206867Z",
     "start_time": "2025-06-27T07:23:56.202801Z"
    }
   },
   "source": [
    "try:\n",
    "    import non_existent_module\n",
    "except ImportError as e:\n",
    "    print(f\"Error importing module: {e}\")"
   ],
   "id": "47b87147ae20fb99",
   "outputs": [
    {
     "name": "stdout",
     "output_type": "stream",
     "text": [
      "Error importing module: No module named 'non_existent_module'\n"
     ]
    }
   ],
   "execution_count": 5
  },
  {
   "cell_type": "markdown",
   "metadata": {},
   "source": [
    "## Lesson 5.2: Standard Library Overview\n",
    "### Assignment 6: Working with the `os` Module\n",
    "\n",
    "Use the `os` module to create a new directory, list the contents of the current directory, and remove the newly created directory."
   ],
   "id": "feacf78a85b8afd8"
  },
  {
   "cell_type": "code",
   "metadata": {
    "ExecuteTime": {
     "end_time": "2025-06-27T07:23:56.268311Z",
     "start_time": "2025-06-27T07:23:56.262924Z"
    }
   },
   "source": [
    "import os\n",
    "\n",
    "# Create a new directory\n",
    "os.mkdir('new_directory')\n",
    "\n",
    "# List contents of the current directory\n",
    "print(os.listdir('.'))\n",
    "\n",
    "# Remove the newly created directory\n",
    "os.rmdir('new_directory')\n",
    "print(os.listdir('.'))"
   ],
   "id": "892a255006f0cd62",
   "outputs": [
    {
     "name": "stdout",
     "output_type": "stream",
     "text": [
      "['new_directory', 'packagesquestion.ipynb', 'packagessolution.ipynb']\n",
      "['packagesquestion.ipynb', 'packagessolution.ipynb']\n"
     ]
    }
   ],
   "execution_count": 6
  },
  {
   "cell_type": "markdown",
   "metadata": {},
   "source": [
    "### Assignment 7: Working with the `sys` Module\n",
    "\n",
    "Use the `sys` module to print the Python version currently in use and the command-line arguments passed to the script."
   ],
   "id": "1d65ba3851ff89c9"
  },
  {
   "cell_type": "code",
   "metadata": {
    "ExecuteTime": {
     "end_time": "2025-06-27T07:23:56.585579Z",
     "start_time": "2025-06-27T07:23:56.582223Z"
    }
   },
   "source": [
    "import sys\n",
    "\n",
    "print(f\"Python version: {sys.version}\")\n",
    "print(f\"Command-line arguments: {sys.argv}\")"
   ],
   "id": "b8c4e6f4aeeb04ab",
   "outputs": [
    {
     "name": "stdout",
     "output_type": "stream",
     "text": [
      "Python version: 3.13.1 (tags/v3.13.1:0671451, Dec  3 2024, 19:06:28) [MSC v.1942 64 bit (AMD64)]\n",
      "Command-line arguments: ['S:\\\\Internship\\\\Funnmedia\\\\myvenv\\\\Lib\\\\site-packages\\\\ipykernel_launcher.py', '-f', 'C:\\\\Users\\\\aryan\\\\AppData\\\\Roaming\\\\jupyter\\\\runtime\\\\kernel-e4298ba9-33d8-446f-add5-62ff8bc6c791.json']\n"
     ]
    }
   ],
   "execution_count": 7
  },
  {
   "cell_type": "markdown",
   "metadata": {},
   "source": [
    "### Assignment 8: Working with the `math` Module\n",
    "\n",
    "Use the `math` module to calculate the greatest common divisor (GCD) of two numbers and the factorial of a number."
   ],
   "id": "c511afb3627955b1"
  },
  {
   "cell_type": "code",
   "metadata": {
    "ExecuteTime": {
     "end_time": "2025-06-27T07:23:56.725319Z",
     "start_time": "2025-06-27T07:23:56.721214Z"
    }
   },
   "source": [
    "import math\n",
    "\n",
    "print(math.gcd(48, 18))  # 6\n",
    "print(math.factorial(5))  # 120"
   ],
   "id": "5a9e49b3759400cb",
   "outputs": [
    {
     "name": "stdout",
     "output_type": "stream",
     "text": [
      "6\n",
      "120\n"
     ]
    }
   ],
   "execution_count": 8
  },
  {
   "cell_type": "markdown",
   "metadata": {},
   "source": [
    "### Assignment 9: Working with the `datetime` Module\n",
    "\n",
    "Use the `datetime` module to print the current date, calculate the date 100 days from today, and determine the day of the week for a given date."
   ],
   "id": "370a787949bffe91"
  },
  {
   "cell_type": "code",
   "metadata": {
    "ExecuteTime": {
     "end_time": "2025-06-27T07:23:56.818765Z",
     "start_time": "2025-06-27T07:23:56.812176Z"
    }
   },
   "source": [
    "import datetime\n",
    "\n",
    "# Current date\n",
    "today = datetime.date.today()\n",
    "print(f\"Today's date: {today}\")\n",
    "\n",
    "# Date 100 days from today\n",
    "future_date = today + datetime.timedelta(days=100)\n",
    "print(f\"Date 100 days from today: {future_date}\")\n",
    "\n",
    "# Day of the week for a given date\n",
    "given_date = datetime.date(2022, 1, 1)\n",
    "print(f\"Day of the week for 2022-01-01: {given_date.strftime('%A')}\")"
   ],
   "id": "ac5cbb12b35bc8e2",
   "outputs": [
    {
     "name": "stdout",
     "output_type": "stream",
     "text": [
      "Today's date: 2025-06-27\n",
      "Date 100 days from today: 2025-10-05\n",
      "Day of the week for 2022-01-01: Saturday\n"
     ]
    }
   ],
   "execution_count": 9
  },
  {
   "cell_type": "markdown",
   "metadata": {},
   "source": [
    "### Assignment 10: Working with the `random` Module\n",
    "\n",
    "Use the `random` module to generate a list of 5 random numbers between 1 and 50 and shuffle the elements of a list."
   ],
   "id": "f04318154ca7f229"
  },
  {
   "cell_type": "code",
   "metadata": {
    "ExecuteTime": {
     "end_time": "2025-06-27T07:23:56.901931Z",
     "start_time": "2025-06-27T07:23:56.897341Z"
    }
   },
   "source": [
    "import random\n",
    "\n",
    "# List of 5 random numbers between 1 and 50\n",
    "random_numbers = [random.randint(1, 50) for _ in range(5)]\n",
    "print(random_numbers)\n",
    "\n",
    "# Shuffle a list\n",
    "lst = [1, 2, 3, 4, 5]\n",
    "random.shuffle(lst)\n",
    "print(lst)"
   ],
   "id": "8b1bb4378d919626",
   "outputs": [
    {
     "name": "stdout",
     "output_type": "stream",
     "text": [
      "[19, 33, 4, 36, 37]\n",
      "[5, 3, 4, 1, 2]\n"
     ]
    }
   ],
   "execution_count": 10
  },
  {
   "cell_type": "markdown",
   "metadata": {},
   "source": [
    "## Lesson 5.3: Creating and Using Packages\n",
    "### Assignment 11: Creating a Simple Package\n",
    "\n",
    "Create a package named `mypackage` with two modules: `module1` and `module2`. `module1` should contain a function that adds two numbers, and `module2` should contain a function that multiplies two numbers. Write code to use these functions."
   ],
   "id": "49523335f1590a27"
  },
  {
   "cell_type": "code",
   "metadata": {
    "ExecuteTime": {
     "end_time": "2025-06-27T07:23:57.203535Z",
     "start_time": "2025-06-27T07:23:56.943839Z"
    }
   },
   "source": [
    "# File structure:\n",
    "# mypackage/\n",
    "#   __init__.py\n",
    "#   module1.py\n",
    "#   module2.py\n",
    "\n",
    "# Content of module1.py\n",
    "# def add(a, b):\n",
    "#     return a + b\n",
    "\n",
    "# Content of module2.py\n",
    "# def multiply(a, b):\n",
    "#     return a * b\n",
    "\n",
    "# Using the package\n",
    "from mypackage import module1, module2\n",
    "\n",
    "print(module1.add(2, 3))  # 5\n",
    "print(module2.multiply(2, 3))  # 6"
   ],
   "id": "72f80c31396de0b5",
   "outputs": [
    {
     "ename": "ModuleNotFoundError",
     "evalue": "No module named 'mypackage'",
     "output_type": "error",
     "traceback": [
      "\u001B[31m---------------------------------------------------------------------------\u001B[39m",
      "\u001B[31mModuleNotFoundError\u001B[39m                       Traceback (most recent call last)",
      "\u001B[36mCell\u001B[39m\u001B[36m \u001B[39m\u001B[32mIn[11]\u001B[39m\u001B[32m, line 16\u001B[39m\n\u001B[32m      1\u001B[39m \u001B[38;5;66;03m# File structure:\u001B[39;00m\n\u001B[32m      2\u001B[39m \u001B[38;5;66;03m# mypackage/\u001B[39;00m\n\u001B[32m      3\u001B[39m \u001B[38;5;66;03m#   __init__.py\u001B[39;00m\n\u001B[32m   (...)\u001B[39m\u001B[32m     14\u001B[39m \n\u001B[32m     15\u001B[39m \u001B[38;5;66;03m# Using the package\u001B[39;00m\n\u001B[32m---> \u001B[39m\u001B[32m16\u001B[39m \u001B[38;5;28;01mfrom\u001B[39;00m\u001B[38;5;250m \u001B[39m\u001B[34;01mmypackage\u001B[39;00m\u001B[38;5;250m \u001B[39m\u001B[38;5;28;01mimport\u001B[39;00m module1, module2\n\u001B[32m     18\u001B[39m \u001B[38;5;28mprint\u001B[39m(module1.add(\u001B[32m2\u001B[39m, \u001B[32m3\u001B[39m))  \u001B[38;5;66;03m# 5\u001B[39;00m\n\u001B[32m     19\u001B[39m \u001B[38;5;28mprint\u001B[39m(module2.multiply(\u001B[32m2\u001B[39m, \u001B[32m3\u001B[39m))  \u001B[38;5;66;03m# 6\u001B[39;00m\n",
      "\u001B[31mModuleNotFoundError\u001B[39m: No module named 'mypackage'"
     ]
    }
   ],
   "execution_count": 11
  },
  {
   "cell_type": "markdown",
   "metadata": {},
   "source": [
    "### Assignment 12: Using `__init__.py`\n",
    "\n",
    "Modify the `mypackage` package to include an `__init__.py` file that imports the functions from `module1` and `module2`. Write code to use these functions."
   ],
   "id": "cea3fe57103de05a"
  },
  {
   "cell_type": "code",
   "execution_count": null,
   "metadata": {},
   "outputs": [],
   "source": [
    "# Content of __init__.py\n",
    "# from .module1 import add\n",
    "# from .module2 import multiply\n",
    "\n",
    "# Using the package\n",
    "from mypackage import add, multiply\n",
    "\n",
    "print(add(2, 3))  # 5\n",
    "print(multiply(2, 3))  # 6"
   ],
   "id": "344289b04731db43"
  },
  {
   "cell_type": "markdown",
   "metadata": {},
   "source": [
    "### Assignment 13: Importing from a Package\n",
    "\n",
    "Write code to import and use the functions from `mypackage` without explicitly importing `module1` and `module2`."
   ],
   "id": "bc9771c26a74b4b1"
  },
  {
   "cell_type": "code",
   "execution_count": null,
   "metadata": {},
   "outputs": [],
   "source": [
    "from mypackage import add, multiply\n",
    "\n",
    "print(add(2, 3))  # 5\n",
    "print(multiply(2, 3))  # 6"
   ],
   "id": "c7ec0331c8de6ead"
  },
  {
   "cell_type": "markdown",
   "metadata": {},
   "source": [
    "### Assignment 14: Relative Imports\n",
    "\n",
    "Create a subpackage named `subpackage` within `mypackage` and move `module2` into `subpackage`. Modify the import statements in `__init__.py` to use relative imports. Write code to use the functions from both modules."
   ],
   "id": "b8f313e5b0b5f53f"
  },
  {
   "cell_type": "code",
   "execution_count": null,
   "metadata": {},
   "outputs": [],
   "source": [
    "# File structure:\n",
    "# mypackage/\n",
    "#   __init__.py\n",
    "#   module1.py\n",
    "#   subpackage/\n",
    "#     __init__.py\n",
    "#     module2.py\n",
    "\n",
    "# Content of __init__.py in mypackage\n",
    "# from .module1 import add\n",
    "# from .subpackage.module2 import multiply\n",
    "\n",
    "# Using the package\n",
    "from mypackage import add, multiply\n",
    "\n",
    "print(add(2, 3))  # 5\n",
    "print(multiply(2, 3))  # 6"
   ],
   "id": "f2bc5f049612e2f5"
  },
  {
   "cell_type": "markdown",
   "metadata": {},
   "source": [
    "### Assignment 15: Handling Package Import Errors\n",
    "\n",
    "Write code that attempts to import a non-existent function from `mypackage` and gracefully handles the import error by printing an error message."
   ],
   "id": "cedef3f3e03ebefd"
  },
  {
   "cell_type": "code",
   "execution_count": null,
   "metadata": {},
   "outputs": [],
   "source": [
    "try:\n",
    "    from mypackage import non_existent_function\n",
    "except ImportError as e:\n",
    "    print(f\"Error importing function: {e}\")"
   ],
   "id": "3b59c7fd8732dfe8"
  }
 ],
 "metadata": {
  "kernelspec": {
   "display_name": "Python 3",
   "language": "python",
   "name": "python3"
  },
  "language_info": {
   "codemirror_mode": {
    "name": "ipython",
    "version": 3
   },
   "file_extension": ".py",
   "mimetype": "text/x-python",
   "name": "python",
   "nbconvert_exporter": "python",
   "pygments_lexer": "ipython3",
   "version": "3.9.7"
  }
 },
 "nbformat": 4,
 "nbformat_minor": 5
}
