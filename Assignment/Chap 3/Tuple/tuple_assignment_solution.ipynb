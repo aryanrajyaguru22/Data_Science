{
 "cells": [
  {
   "cell_type": "markdown",
   "metadata": {},
   "source": [
    "# Module 3: Data Structures Assignments\n",
    "## Lesson 3.2: Tuples\n",
    "### Assignment 1: Creating and Accessing Tuples\n",
    "\n",
    "Create a tuple with the first 10 positive integers. Print the tuple."
   ],
   "id": "4377dd752c4a1209"
  },
  {
   "cell_type": "code",
   "metadata": {
    "ExecuteTime": {
     "end_time": "2025-06-25T09:37:10.948625Z",
     "start_time": "2025-06-25T09:37:10.944851Z"
    }
   },
   "source": [
    "tpl = tuple(range(1, 11))\n",
    "print(tpl)"
   ],
   "id": "3d8273316afd676d",
   "outputs": [
    {
     "name": "stdout",
     "output_type": "stream",
     "text": [
      "(1, 2, 3, 4, 5, 6, 7, 8, 9, 10)\n"
     ]
    }
   ],
   "execution_count": 1
  },
  {
   "cell_type": "markdown",
   "metadata": {},
   "source": [
    "### Assignment 2: Accessing Tuple Elements\n",
    "\n",
    "Print the first, middle, and last elements of the tuple created in Assignment 1."
   ],
   "id": "f016f1e8baf41eaa"
  },
  {
   "cell_type": "code",
   "metadata": {
    "ExecuteTime": {
     "end_time": "2025-06-25T09:37:10.962524Z",
     "start_time": "2025-06-25T09:37:10.959108Z"
    }
   },
   "source": [
    "print(f\"First element: {tpl[0]}\")\n",
    "print(f\"Middle element: {tpl[len(tpl) // 2]}\")\n",
    "print(f\"Last element: {tpl[-1]}\")"
   ],
   "id": "a15b44c0e18c5693",
   "outputs": [
    {
     "name": "stdout",
     "output_type": "stream",
     "text": [
      "First element: 1\n",
      "Middle element: 6\n",
      "Last element: 10\n"
     ]
    }
   ],
   "execution_count": 2
  },
  {
   "cell_type": "markdown",
   "metadata": {},
   "source": [
    "### Assignment 3: Tuple Slicing\n",
    "\n",
    "Print the first three elements, the last three elements, and the elements from index 2 to 5 of the tuple created in Assignment 1."
   ],
   "id": "86a7d1183cca018e"
  },
  {
   "cell_type": "code",
   "metadata": {
    "ExecuteTime": {
     "end_time": "2025-06-25T09:37:11.187685Z",
     "start_time": "2025-06-25T09:37:11.183738Z"
    }
   },
   "source": [
    "print(f\"First three elements: {tpl[:3]}\")\n",
    "print(f\"Last three elements: {tpl[-3:]}\")\n",
    "print(f\"Elements from index 2 to 5: {tpl[2:6]}\")"
   ],
   "id": "12674f65e5d168fc",
   "outputs": [
    {
     "name": "stdout",
     "output_type": "stream",
     "text": [
      "First three elements: (1, 2, 3)\n",
      "Last three elements: (8, 9, 10)\n",
      "Elements from index 2 to 5: (3, 4, 5, 6)\n"
     ]
    }
   ],
   "execution_count": 3
  },
  {
   "cell_type": "markdown",
   "metadata": {},
   "source": [
    "### Assignment 4: Nested Tuples\n",
    "\n",
    "Create a nested tuple representing a 3x3 matrix and print the matrix. Access and print the element at the second row and third column."
   ],
   "id": "5559d3722f659915"
  },
  {
   "cell_type": "code",
   "metadata": {
    "ExecuteTime": {
     "end_time": "2025-06-25T09:37:11.232239Z",
     "start_time": "2025-06-25T09:37:11.226071Z"
    }
   },
   "source": [
    "matrix = (\n",
    "    (1, 2, 3),\n",
    "    (4, 5, 6),\n",
    "    (7, 8, 9)\n",
    ")\n",
    "print(\"Matrix:\")\n",
    "for row in matrix:\n",
    "    print(row)\n",
    "print(f\"Element at second row and third column: {matrix[1][2]}\")"
   ],
   "id": "7b8a5acbee856fe4",
   "outputs": [
    {
     "name": "stdout",
     "output_type": "stream",
     "text": [
      "Matrix:\n",
      "(1, 2, 3)\n",
      "(4, 5, 6)\n",
      "(7, 8, 9)\n",
      "Element at second row and third column: 6\n"
     ]
    }
   ],
   "execution_count": 4
  },
  {
   "cell_type": "markdown",
   "metadata": {},
   "source": [
    "### Assignment 5: Tuple Concatenation\n",
    "\n",
    "Concatenate two tuples: (1, 2, 3) and (4, 5, 6). Print the resulting tuple."
   ],
   "id": "67b41aea23224439"
  },
  {
   "cell_type": "code",
   "metadata": {
    "ExecuteTime": {
     "end_time": "2025-06-25T09:37:11.255559Z",
     "start_time": "2025-06-25T09:37:11.252532Z"
    }
   },
   "source": [
    "tpl1 = (1, 2, 3)\n",
    "tpl2 = (4, 5, 6)\n",
    "concatenated = tpl1 + tpl2\n",
    "print(concatenated)"
   ],
   "id": "522431b437ffd9c8",
   "outputs": [
    {
     "name": "stdout",
     "output_type": "stream",
     "text": [
      "(1, 2, 3, 4, 5, 6)\n"
     ]
    }
   ],
   "execution_count": 5
  },
  {
   "cell_type": "markdown",
   "metadata": {},
   "source": [
    "### Assignment 6: Tuple Methods\n",
    "\n",
    "Create a tuple with duplicate elements and count the occurrences of an element. Find the index of the first occurrence of an element in the tuple."
   ],
   "id": "90703157dbe07261"
  },
  {
   "cell_type": "code",
   "metadata": {
    "ExecuteTime": {
     "end_time": "2025-06-25T09:37:11.267920Z",
     "start_time": "2025-06-25T09:37:11.263878Z"
    }
   },
   "source": [
    "tpl = (1, 2, 2, 3, 4, 4, 4, 5)\n",
    "print(f\"Occurrences of 4: {tpl.count(4)}\")\n",
    "print(f\"Index of first occurrence of 2: {tpl.index(2)}\")"
   ],
   "id": "af9567d6159b2286",
   "outputs": [
    {
     "name": "stdout",
     "output_type": "stream",
     "text": [
      "Occurrences of 4: 3\n",
      "Index of first occurrence of 2: 1\n"
     ]
    }
   ],
   "execution_count": 6
  },
  {
   "cell_type": "markdown",
   "metadata": {},
   "source": [
    "### Assignment 7: Unpacking Tuples\n",
    "\n",
    "Create a tuple with 5 elements and unpack it into 5 variables. Print the variables."
   ],
   "id": "eede5f3b9cf47389"
  },
  {
   "cell_type": "code",
   "metadata": {
    "ExecuteTime": {
     "end_time": "2025-06-25T09:37:11.293893Z",
     "start_time": "2025-06-25T09:37:11.290527Z"
    }
   },
   "source": [
    "tpl = (1, 2, 3, 4, 5)\n",
    "a, b, c, d, e = tpl\n",
    "print(a, b, c, d, e)"
   ],
   "id": "ca37666a552ee42f",
   "outputs": [
    {
     "name": "stdout",
     "output_type": "stream",
     "text": [
      "1 2 3 4 5\n"
     ]
    }
   ],
   "execution_count": 7
  },
  {
   "cell_type": "markdown",
   "metadata": {},
   "source": [
    "### Assignment 8: Tuple Conversion\n",
    "\n",
    "Convert a list of the first 5 positive integers to a tuple. Print the tuple."
   ],
   "id": "9de3d99bb589fb2a"
  },
  {
   "cell_type": "code",
   "metadata": {
    "ExecuteTime": {
     "end_time": "2025-06-25T09:37:11.333873Z",
     "start_time": "2025-06-25T09:37:11.330136Z"
    }
   },
   "source": [
    "lst = [1, 2, 3, 4, 5]\n",
    "tpl = tuple(lst)\n",
    "print(tpl)"
   ],
   "id": "bf1167ac1348ff2f",
   "outputs": [
    {
     "name": "stdout",
     "output_type": "stream",
     "text": [
      "(1, 2, 3, 4, 5)\n"
     ]
    }
   ],
   "execution_count": 8
  },
  {
   "cell_type": "markdown",
   "metadata": {},
   "source": [
    "### Assignment 9: Tuple of Tuples\n",
    "\n",
    "Create a tuple containing 3 tuples, each with 3 elements. Print the tuple of tuples."
   ],
   "id": "11406ce0a12f138c"
  },
  {
   "cell_type": "code",
   "metadata": {
    "ExecuteTime": {
     "end_time": "2025-06-25T09:37:11.354932Z",
     "start_time": "2025-06-25T09:37:11.351303Z"
    }
   },
   "source": [
    "tpl_of_tpls = (\n",
    "    (1, 2, 3),\n",
    "    (4, 5, 6),\n",
    "    (7, 8, 9)\n",
    ")\n",
    "print(tpl_of_tpls)"
   ],
   "id": "111aac7f2b883b44",
   "outputs": [
    {
     "name": "stdout",
     "output_type": "stream",
     "text": [
      "((1, 2, 3), (4, 5, 6), (7, 8, 9))\n"
     ]
    }
   ],
   "execution_count": 9
  },
  {
   "cell_type": "markdown",
   "metadata": {},
   "source": [
    "### Assignment 10: Tuple and List\n",
    "\n",
    "Create a tuple with the first 5 positive integers. Convert it to a list, append the number 6, and convert it back to a tuple. Print the resulting tuple."
   ],
   "id": "daa71e7bb39489ee"
  },
  {
   "cell_type": "code",
   "metadata": {
    "ExecuteTime": {
     "end_time": "2025-06-25T09:37:11.379596Z",
     "start_time": "2025-06-25T09:37:11.376252Z"
    }
   },
   "source": [
    "tpl = (1, 2, 3, 4, 5)\n",
    "lst = list(tpl)\n",
    "lst.append(6)\n",
    "tpl = tuple(lst)\n",
    "print(tpl)"
   ],
   "id": "329fc3802e94696f",
   "outputs": [
    {
     "name": "stdout",
     "output_type": "stream",
     "text": [
      "(1, 2, 3, 4, 5, 6)\n"
     ]
    }
   ],
   "execution_count": 10
  },
  {
   "cell_type": "markdown",
   "metadata": {},
   "source": [
    "### Assignment 11: Tuple and String\n",
    "\n",
    "Create a tuple with the characters of a string. Join the tuple elements into a single string. Print the string."
   ],
   "id": "dd97bd491170536b"
  },
  {
   "cell_type": "code",
   "metadata": {
    "ExecuteTime": {
     "end_time": "2025-06-25T09:37:11.407551Z",
     "start_time": "2025-06-25T09:37:11.404181Z"
    }
   },
   "source": [
    "string = \"hello\"\n",
    "tpl = tuple(string)\n",
    "joined_string = ''.join(tpl)\n",
    "print(joined_string)"
   ],
   "id": "2b359eac2e1338d0",
   "outputs": [
    {
     "name": "stdout",
     "output_type": "stream",
     "text": [
      "hello\n"
     ]
    }
   ],
   "execution_count": 11
  },
  {
   "cell_type": "markdown",
   "metadata": {},
   "source": [
    "### Assignment 12: Tuple and Dictionary\n",
    "\n",
    "Create a dictionary with tuple keys and integer values. Print the dictionary."
   ],
   "id": "d0884af08d16117d"
  },
  {
   "cell_type": "code",
   "metadata": {
    "ExecuteTime": {
     "end_time": "2025-06-25T09:37:11.426974Z",
     "start_time": "2025-06-25T09:37:11.423175Z"
    }
   },
   "source": [
    "tpl_dict = {\n",
    "    (1, 2): 3,\n",
    "    (4, 5): 6,\n",
    "    (7, 8): 9\n",
    "}\n",
    "print(tpl_dict)"
   ],
   "id": "c4ada61dd5b8c10a",
   "outputs": [
    {
     "name": "stdout",
     "output_type": "stream",
     "text": [
      "{(1, 2): 3, (4, 5): 6, (7, 8): 9}\n"
     ]
    }
   ],
   "execution_count": 12
  },
  {
   "cell_type": "markdown",
   "metadata": {},
   "source": [
    "### Assignment 13: Nested Tuple Iteration\n",
    "\n",
    "Create a nested tuple and iterate over the elements, printing each element."
   ],
   "id": "19b5f2ba0717127f"
  },
  {
   "cell_type": "code",
   "metadata": {
    "ExecuteTime": {
     "end_time": "2025-06-25T09:37:11.470816Z",
     "start_time": "2025-06-25T09:37:11.467624Z"
    }
   },
   "source": [
    "nested_tpl = (\n",
    "    (1, 2, 3),\n",
    "    (4, 5, 6),\n",
    "    (7, 8, 9)\n",
    ")\n",
    "for tpl in nested_tpl:\n",
    "    for elem in tpl:\n",
    "        print(elem)"
   ],
   "id": "4062b69aaf6ce453",
   "outputs": [
    {
     "name": "stdout",
     "output_type": "stream",
     "text": [
      "1\n",
      "2\n",
      "3\n",
      "4\n",
      "5\n",
      "6\n",
      "7\n",
      "8\n",
      "9\n"
     ]
    }
   ],
   "execution_count": 13
  },
  {
   "cell_type": "markdown",
   "metadata": {},
   "source": [
    "### Assignment 14: Tuple and Set\n",
    "\n",
    "Create a tuple with duplicate elements. Convert it to a set to remove duplicates and print the resulting set."
   ],
   "id": "7165865098786f8c"
  },
  {
   "cell_type": "code",
   "metadata": {
    "ExecuteTime": {
     "end_time": "2025-06-25T09:37:11.513047Z",
     "start_time": "2025-06-25T09:37:11.509624Z"
    }
   },
   "source": [
    "tpl = (1, 2, 2, 3, 4, 4, 4, 5)\n",
    "unique_set = set(tpl)\n",
    "print(unique_set)"
   ],
   "id": "19ef648f896c4a13",
   "outputs": [
    {
     "name": "stdout",
     "output_type": "stream",
     "text": [
      "{1, 2, 3, 4, 5}\n"
     ]
    }
   ],
   "execution_count": 14
  },
  {
   "cell_type": "markdown",
   "metadata": {},
   "source": [
    "### Assignment 15: Tuple Functions\n",
    "\n",
    "Write functions that take a tuple and return the minimum, maximum, and sum of the elements. Print the results for a sample tuple."
   ],
   "id": "ec5f77abdde66666"
  },
  {
   "cell_type": "code",
   "metadata": {
    "ExecuteTime": {
     "end_time": "2025-06-25T09:37:11.548995Z",
     "start_time": "2025-06-25T09:37:11.544814Z"
    }
   },
   "source": [
    "def min_in_tuple(tpl):\n",
    "    return min(tpl)\n",
    "\n",
    "def max_in_tuple(tpl):\n",
    "    return max(tpl)\n",
    "\n",
    "def sum_of_tuple(tpl):\n",
    "    return sum(tpl)\n",
    "\n",
    "sample_tpl = (1, 2, 3, 4, 5)\n",
    "print(f\"Minimum: {min_in_tuple(sample_tpl)}\")\n",
    "print(f\"Maximum: {max_in_tuple(sample_tpl)}\")\n",
    "print(f\"Sum: {sum_of_tuple(sample_tpl)}\")"
   ],
   "id": "fe8809f76fcc7b43",
   "outputs": [
    {
     "name": "stdout",
     "output_type": "stream",
     "text": [
      "Minimum: 1\n",
      "Maximum: 5\n",
      "Sum: 15\n"
     ]
    }
   ],
   "execution_count": 15
  }
 ],
 "metadata": {
  "kernelspec": {
   "display_name": "Python 3",
   "language": "python",
   "name": "python3"
  },
  "language_info": {
   "codemirror_mode": {
    "name": "ipython",
    "version": 3
   },
   "file_extension": ".py",
   "mimetype": "text/x-python",
   "name": "python",
   "nbconvert_exporter": "python",
   "pygments_lexer": "ipython3",
   "version": "3.9.7"
  }
 },
 "nbformat": 4,
 "nbformat_minor": 5
}
