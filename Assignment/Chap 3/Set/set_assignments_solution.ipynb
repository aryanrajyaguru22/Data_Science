{
 "cells": [
  {
   "cell_type": "markdown",
   "metadata": {},
   "source": [
    "# Module 3: Data Structures Assignments\n",
    "## Lesson 3.3: Sets\n",
    "### Assignment 1: Creating and Accessing Sets\n",
    "\n",
    "Create a set with the first 10 positive integers. Print the set."
   ],
   "id": "267c06493ed88f83"
  },
  {
   "cell_type": "code",
   "metadata": {
    "ExecuteTime": {
     "end_time": "2025-06-25T10:24:24.799179Z",
     "start_time": "2025-06-25T10:24:24.794484Z"
    }
   },
   "source": [
    "s = set(range(1, 11))\n",
    "print(s)"
   ],
   "id": "c5f73b345f8f8a4f",
   "outputs": [
    {
     "name": "stdout",
     "output_type": "stream",
     "text": [
      "{1, 2, 3, 4, 5, 6, 7, 8, 9, 10}\n"
     ]
    }
   ],
   "execution_count": 1
  },
  {
   "cell_type": "markdown",
   "metadata": {},
   "source": [
    "### Assignment 2: Adding and Removing Elements\n",
    "\n",
    "Add the number 11 to the set created in Assignment 1. Then remove the number 1 from the set. Print the modified set."
   ],
   "id": "8b27065bc8deb1ef"
  },
  {
   "cell_type": "code",
   "metadata": {
    "ExecuteTime": {
     "end_time": "2025-06-25T10:24:24.811931Z",
     "start_time": "2025-06-25T10:24:24.808427Z"
    }
   },
   "source": [
    "s.add(11)\n",
    "s.remove(1)\n",
    "print(s)"
   ],
   "id": "43a01455397dc0ff",
   "outputs": [
    {
     "name": "stdout",
     "output_type": "stream",
     "text": [
      "{2, 3, 4, 5, 6, 7, 8, 9, 10, 11}\n"
     ]
    }
   ],
   "execution_count": 2
  },
  {
   "cell_type": "markdown",
   "metadata": {},
   "source": [
    "### Assignment 3: Set Operations\n",
    "\n",
    "Create two sets: one with the first 5 positive integers and another with the first 5 even integers. Perform and print the results of union, intersection, difference, and symmetric difference operations on these sets."
   ],
   "id": "e821f8ba7f80080f"
  },
  {
   "cell_type": "code",
   "metadata": {
    "ExecuteTime": {
     "end_time": "2025-06-25T10:24:25.031039Z",
     "start_time": "2025-06-25T10:24:25.027089Z"
    }
   },
   "source": [
    "set1 = set(range(1, 6))\n",
    "set2 = set(range(2, 11, 2))\n",
    "print(f\"Union: {set1 | set2}\")\n",
    "print(f\"Intersection: {set1 & set2}\")\n",
    "print(f\"Difference (set1 - set2): {set1 - set2}\")\n",
    "print(f\"Symmetric Difference: {set1 ^ set2}\")"
   ],
   "id": "f80b6b438d0d8afe",
   "outputs": [
    {
     "name": "stdout",
     "output_type": "stream",
     "text": [
      "Union: {1, 2, 3, 4, 5, 6, 8, 10}\n",
      "Intersection: {2, 4}\n",
      "Difference (set1 - set2): {1, 3, 5}\n",
      "Symmetric Difference: {1, 3, 5, 6, 8, 10}\n"
     ]
    }
   ],
   "execution_count": 3
  },
  {
   "cell_type": "markdown",
   "metadata": {},
   "source": [
    "### Assignment 4: Set Comprehensions\n",
    "\n",
    "Create a new set containing the squares of the first 10 positive integers using a set comprehension. Print the new set."
   ],
   "id": "30cd97e0fc01ca4b"
  },
  {
   "cell_type": "code",
   "metadata": {
    "ExecuteTime": {
     "end_time": "2025-06-25T10:24:25.077572Z",
     "start_time": "2025-06-25T10:24:25.073933Z"
    }
   },
   "source": [
    "squares = {x**2 for x in range(1, 11)}\n",
    "print(squares)"
   ],
   "id": "83a7c6a3bd9c9475",
   "outputs": [
    {
     "name": "stdout",
     "output_type": "stream",
     "text": [
      "{64, 1, 4, 36, 100, 9, 16, 49, 81, 25}\n"
     ]
    }
   ],
   "execution_count": 4
  },
  {
   "cell_type": "markdown",
   "metadata": {},
   "source": [
    "### Assignment 5: Filtering Sets\n",
    "\n",
    "Create a new set containing only the even numbers from the set created in Assignment 1 using a set comprehension. Print the new set."
   ],
   "id": "86e7398a8e909eaf"
  },
  {
   "cell_type": "code",
   "metadata": {
    "ExecuteTime": {
     "end_time": "2025-06-25T10:24:25.093931Z",
     "start_time": "2025-06-25T10:24:25.090925Z"
    }
   },
   "source": [
    "evens = {x for x in s if x % 2 == 0}\n",
    "print(evens)"
   ],
   "id": "99415cacda129b59",
   "outputs": [
    {
     "name": "stdout",
     "output_type": "stream",
     "text": [
      "{2, 4, 6, 8, 10}\n"
     ]
    }
   ],
   "execution_count": 5
  },
  {
   "cell_type": "markdown",
   "metadata": {},
   "source": [
    "### Assignment 6: Set Methods\n",
    "\n",
    "Create a set with duplicate elements and remove the duplicates using set methods. Print the modified set."
   ],
   "id": "7491a34017365ab9"
  },
  {
   "cell_type": "code",
   "metadata": {
    "ExecuteTime": {
     "end_time": "2025-06-25T10:24:25.110252Z",
     "start_time": "2025-06-25T10:24:25.107070Z"
    }
   },
   "source": [
    "s = {1, 2, 2, 3, 4, 4, 5}\n",
    "unique_s = set(s)\n",
    "print(unique_s)"
   ],
   "id": "5243d91f691d6291",
   "outputs": [
    {
     "name": "stdout",
     "output_type": "stream",
     "text": [
      "{1, 2, 3, 4, 5}\n"
     ]
    }
   ],
   "execution_count": 6
  },
  {
   "cell_type": "markdown",
   "metadata": {},
   "source": [
    "### Assignment 7: Subsets and Supersets\n",
    "\n",
    "Create two sets: one with the first 5 positive integers and another with the first 3 positive integers. Check if the second set is a subset of the first set and if the first set is a superset of the second set. Print the results."
   ],
   "id": "4309e963cdc4f9b2"
  },
  {
   "cell_type": "code",
   "metadata": {
    "ExecuteTime": {
     "end_time": "2025-06-25T10:24:25.126732Z",
     "start_time": "2025-06-25T10:24:25.123387Z"
    }
   },
   "source": [
    "set1 = set(range(1, 6))\n",
    "set2 = set(range(1, 4))\n",
    "print(f\"Is set2 a subset of set1? {set2.issubset(set1)}\")\n",
    "print(f\"Is set1 a superset of set2? {set1.issuperset(set2)}\")"
   ],
   "id": "e724e4f9c038305d",
   "outputs": [
    {
     "name": "stdout",
     "output_type": "stream",
     "text": [
      "Is set2 a subset of set1? True\n",
      "Is set1 a superset of set2? True\n"
     ]
    }
   ],
   "execution_count": 7
  },
  {
   "cell_type": "markdown",
   "metadata": {},
   "source": [
    "### Assignment 8: Frozenset\n",
    "\n",
    "Create a frozenset with the first 5 positive integers. Print the frozenset."
   ],
   "id": "85f58e611181c416"
  },
  {
   "cell_type": "code",
   "metadata": {
    "ExecuteTime": {
     "end_time": "2025-06-25T10:24:25.163013Z",
     "start_time": "2025-06-25T10:24:25.160235Z"
    }
   },
   "source": [
    "fs = frozenset(range(1, 6))\n",
    "print(fs)"
   ],
   "id": "a4233ff344bdb28",
   "outputs": [
    {
     "name": "stdout",
     "output_type": "stream",
     "text": [
      "frozenset({1, 2, 3, 4, 5})\n"
     ]
    }
   ],
   "execution_count": 8
  },
  {
   "cell_type": "markdown",
   "metadata": {},
   "source": [
    "### Assignment 9: Set and List Conversion\n",
    "\n",
    "Create a set with the first 5 positive integers. Convert it to a list, append the number 6, and convert it back to a set. Print the resulting set."
   ],
   "id": "32947da4044a3a42"
  },
  {
   "cell_type": "code",
   "metadata": {
    "ExecuteTime": {
     "end_time": "2025-06-25T10:24:25.184742Z",
     "start_time": "2025-06-25T10:24:25.181480Z"
    }
   },
   "source": [
    "s = set(range(1, 6))\n",
    "lst = list(s)\n",
    "lst.append(6)\n",
    "s = set(lst)\n",
    "print(s)"
   ],
   "id": "ede679fb429980d3",
   "outputs": [
    {
     "name": "stdout",
     "output_type": "stream",
     "text": [
      "{1, 2, 3, 4, 5, 6}\n"
     ]
    }
   ],
   "execution_count": 9
  },
  {
   "cell_type": "markdown",
   "metadata": {},
   "source": [
    "### Assignment 10: Set and Dictionary\n",
    "\n",
    "Create a dictionary with set keys and integer values. Print the dictionary."
   ],
   "id": "da9ee6a8b315fc5"
  },
  {
   "cell_type": "code",
   "metadata": {
    "ExecuteTime": {
     "end_time": "2025-06-25T10:24:25.211781Z",
     "start_time": "2025-06-25T10:24:25.208292Z"
    }
   },
   "source": [
    "d = {\n",
    "    frozenset({1, 2}): 3,\n",
    "    frozenset({3, 4}): 7,\n",
    "    frozenset({5, 6}): 11\n",
    "}\n",
    "print(d)"
   ],
   "id": "a316f19d8555b4e0",
   "outputs": [
    {
     "name": "stdout",
     "output_type": "stream",
     "text": [
      "{frozenset({1, 2}): 3, frozenset({3, 4}): 7, frozenset({5, 6}): 11}\n"
     ]
    }
   ],
   "execution_count": 10
  },
  {
   "cell_type": "markdown",
   "metadata": {},
   "source": [
    "### Assignment 11: Iterating Over Sets\n",
    "\n",
    "Create a set and iterate over the elements, printing each element."
   ],
   "id": "1caf518bd1d5554d"
  },
  {
   "cell_type": "code",
   "metadata": {
    "ExecuteTime": {
     "end_time": "2025-06-25T10:24:25.241693Z",
     "start_time": "2025-06-25T10:24:25.238672Z"
    }
   },
   "source": [
    "s = set(range(1, 6))\n",
    "for elem in s:\n",
    "    print(elem)"
   ],
   "id": "b0eea17dc5ea4532",
   "outputs": [
    {
     "name": "stdout",
     "output_type": "stream",
     "text": [
      "1\n",
      "2\n",
      "3\n",
      "4\n",
      "5\n"
     ]
    }
   ],
   "execution_count": 11
  },
  {
   "cell_type": "markdown",
   "metadata": {},
   "source": [
    "### Assignment 12: Removing Elements from Sets\n",
    "\n",
    "Create a set and remove elements from it until it is empty. Print the set after each removal."
   ],
   "id": "11f568162d7edc50"
  },
  {
   "cell_type": "code",
   "metadata": {
    "ExecuteTime": {
     "end_time": "2025-06-25T10:24:25.262455Z",
     "start_time": "2025-06-25T10:24:25.259360Z"
    }
   },
   "source": [
    "s = set(range(1, 6))\n",
    "while s:\n",
    "    s.pop()\n",
    "    print(s)"
   ],
   "id": "59fe2a143b883e95",
   "outputs": [
    {
     "name": "stdout",
     "output_type": "stream",
     "text": [
      "{2, 3, 4, 5}\n",
      "{3, 4, 5}\n",
      "{4, 5}\n",
      "{5}\n",
      "set()\n"
     ]
    }
   ],
   "execution_count": 12
  },
  {
   "cell_type": "markdown",
   "metadata": {},
   "source": [
    "### Assignment 13: Set Symmetric Difference Update\n",
    "\n",
    "Create two sets and update the first set with the symmetric difference of the two sets. Print the modified first set."
   ],
   "id": "291c29870d7636d3"
  },
  {
   "cell_type": "code",
   "metadata": {
    "ExecuteTime": {
     "end_time": "2025-06-25T10:24:25.289526Z",
     "start_time": "2025-06-25T10:24:25.286254Z"
    }
   },
   "source": [
    "set1 = {1, 2, 3}\n",
    "set2 = {3, 4, 5}\n",
    "set1.symmetric_difference_update(set2)\n",
    "print(set1)"
   ],
   "id": "4100002eaa81a198",
   "outputs": [
    {
     "name": "stdout",
     "output_type": "stream",
     "text": [
      "{1, 2, 4, 5}\n"
     ]
    }
   ],
   "execution_count": 13
  },
  {
   "cell_type": "markdown",
   "metadata": {},
   "source": [
    "### Assignment 14: Set Membership Testing\n",
    "\n",
    "Create a set and test if certain elements are present in the set. Print the results."
   ],
   "id": "969b0f860cccb303"
  },
  {
   "cell_type": "code",
   "metadata": {
    "ExecuteTime": {
     "end_time": "2025-06-25T10:24:25.311210Z",
     "start_time": "2025-06-25T10:24:25.307544Z"
    }
   },
   "source": [
    "s = set(range(1, 6))\n",
    "print(3 in s)\n",
    "print(6 in s)"
   ],
   "id": "ee1ca5d222e203ec",
   "outputs": [
    {
     "name": "stdout",
     "output_type": "stream",
     "text": [
      "True\n",
      "False\n"
     ]
    }
   ],
   "execution_count": 14
  },
  {
   "cell_type": "markdown",
   "metadata": {},
   "source": [
    "### Assignment 15: Set of Tuples\n",
    "\n",
    "Create a set containing tuples, where each tuple contains two elements. Print the set."
   ],
   "id": "10b0d947bfdc4f2"
  },
  {
   "cell_type": "code",
   "metadata": {
    "ExecuteTime": {
     "end_time": "2025-06-25T10:24:25.377060Z",
     "start_time": "2025-06-25T10:24:25.374066Z"
    }
   },
   "source": [
    "s = { (1, 2), (3, 4), (5, 6) }\n",
    "print(s)"
   ],
   "id": "54c1b42f9d2bd3af",
   "outputs": [
    {
     "name": "stdout",
     "output_type": "stream",
     "text": [
      "{(1, 2), (3, 4), (5, 6)}\n"
     ]
    }
   ],
   "execution_count": 15
  }
 ],
 "metadata": {
  "kernelspec": {
   "display_name": "Python 3",
   "language": "python",
   "name": "python3"
  },
  "language_info": {
   "codemirror_mode": {
    "name": "ipython",
    "version": 3
   },
   "file_extension": ".py",
   "mimetype": "text/x-python",
   "name": "python",
   "nbconvert_exporter": "python",
   "pygments_lexer": "ipython3",
   "version": "3.9.7"
  }
 },
 "nbformat": 4,
 "nbformat_minor": 5
}
