{
 "cells": [
  {
   "metadata": {},
   "cell_type": "markdown",
   "source": "# Module and Package  importing #",
   "id": "3a5d8a43ebf9c80b"
  },
  {
   "metadata": {},
   "cell_type": "markdown",
   "source": [
    "In Python modules and packages help organize and reuse code.\n",
    "\n",
    "Here's a comprehensive guide on how to import them.\n"
   ],
   "id": "6a3a1d647dc008c3"
  },
  {
   "cell_type": "code",
   "id": "initial_id",
   "metadata": {
    "collapsed": true,
    "ExecuteTime": {
     "end_time": "2025-06-27T05:28:07.382841Z",
     "start_time": "2025-06-27T05:27:59.988725Z"
    }
   },
   "source": [
    "import math\n",
    "x = float(input(\"Enter a number to find its square root: \"))\n",
    "# math.sqrt(x)\n",
    "print (f\"The square root of {x} is {math.sqrt(x)}\")"
   ],
   "outputs": [
    {
     "name": "stdout",
     "output_type": "stream",
     "text": [
      "The square root of 256.0 is 16.0\n"
     ]
    }
   ],
   "execution_count": 7
  },
  {
   "metadata": {
    "ExecuteTime": {
     "end_time": "2025-06-27T05:32:06.809359Z",
     "start_time": "2025-06-27T05:32:06.765535Z"
    }
   },
   "cell_type": "code",
   "source": [
    "from math import sqrt, pi\n",
    "print(sqrt(16))\n",
    "print(pi)"
   ],
   "id": "b7cd5c7f80650147",
   "outputs": [
    {
     "name": "stdout",
     "output_type": "stream",
     "text": [
      "4.0\n",
      "3.141592653589793\n"
     ]
    }
   ],
   "execution_count": 8
  },
  {
   "metadata": {
    "ExecuteTime": {
     "end_time": "2025-06-27T05:43:01.491394Z",
     "start_time": "2025-06-27T05:43:01.333412Z"
    }
   },
   "cell_type": "code",
   "source": [
    "import numpy as np\n",
    "np.array([1,2,3,4,5])"
   ],
   "id": "baafcf39e08bde56",
   "outputs": [
    {
     "data": {
      "text/plain": [
       "array([1, 2, 3, 4, 5])"
      ]
     },
     "execution_count": 10,
     "metadata": {},
     "output_type": "execute_result"
    }
   ],
   "execution_count": 10
  },
  {
   "metadata": {
    "ExecuteTime": {
     "end_time": "2025-06-27T05:45:35.925393Z",
     "start_time": "2025-06-27T05:45:35.914614Z"
    }
   },
   "cell_type": "code",
   "source": [
    "from math import *\n",
    "print(sqrt(9))\n",
    "print(pi)"
   ],
   "id": "96d6135f287fe59a",
   "outputs": [
    {
     "name": "stdout",
     "output_type": "stream",
     "text": [
      "3.0\n",
      "3.141592653589793\n"
     ]
    }
   ],
   "execution_count": 15
  },
  {
   "metadata": {
    "ExecuteTime": {
     "end_time": "2025-06-27T05:51:41.312784Z",
     "start_time": "2025-06-27T05:51:41.262219Z"
    }
   },
   "cell_type": "code",
   "source": [
    "from package.maths import addition\n",
    "print(addition(1,2))"
   ],
   "id": "c81eaa94b806662a",
   "outputs": [
    {
     "name": "stdout",
     "output_type": "stream",
     "text": [
      "3\n"
     ]
    }
   ],
   "execution_count": 16
  },
  {
   "metadata": {},
   "cell_type": "code",
   "outputs": [],
   "execution_count": null,
   "source": "",
   "id": "fe9c75e9f7d31d94"
  }
 ],
 "metadata": {
  "kernelspec": {
   "display_name": "Python 3",
   "language": "python",
   "name": "python3"
  },
  "language_info": {
   "codemirror_mode": {
    "name": "ipython",
    "version": 2
   },
   "file_extension": ".py",
   "mimetype": "text/x-python",
   "name": "python",
   "nbconvert_exporter": "python",
   "pygments_lexer": "ipython2",
   "version": "2.7.6"
  }
 },
 "nbformat": 4,
 "nbformat_minor": 5
}
