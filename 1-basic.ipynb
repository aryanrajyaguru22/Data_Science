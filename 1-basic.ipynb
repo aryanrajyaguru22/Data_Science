{
 "cells": [
  {
   "cell_type": "markdown",
   "id": "39c8431a",
   "metadata": {},
   "source": [
    "Basic Syntax Rules In Python"
   ]
  },
  {
   "cell_type": "code",
   "execution_count": 3,
   "id": "9c6291d8",
   "metadata": {},
   "outputs": [
    {
     "name": "stdout",
     "output_type": "stream",
     "text": [
      "Aryan\n",
      "Rajyaguru\n"
     ]
    }
   ],
   "source": [
    "# Case sensitivity in Python \n",
    "\n",
    "name = \"Aryan\"\n",
    "Name = \"Rajyaguru\"\n",
    "\n",
    "print(name)\n",
    "print(Name)"
   ]
  },
  {
   "cell_type": "code",
   "execution_count": 4,
   "id": "3a7d7755",
   "metadata": {},
   "outputs": [
    {
     "name": "stdout",
     "output_type": "stream",
     "text": [
      "You are an adult.\n"
     ]
    }
   ],
   "source": [
    "# Indentation in Python\n",
    "\n",
    "age = 20\n",
    "\n",
    "if age >= 18:\n",
    "    print(\"You are an adult.\")\n",
    "else :\n",
    "    print(\"You are a minor.\")"
   ]
  },
  {
   "cell_type": "code",
   "execution_count": 5,
   "id": "aecc14de",
   "metadata": {},
   "outputs": [
    {
     "name": "stdout",
     "output_type": "stream",
     "text": [
      "Hello World!\n"
     ]
    }
   ],
   "source": [
    "# Single Line comment\n",
    "print(\"Hello World!\")\n"
   ]
  },
  {
   "cell_type": "code",
   "execution_count": 6,
   "id": "71c777eb",
   "metadata": {},
   "outputs": [
    {
     "name": "stdout",
     "output_type": "stream",
     "text": [
      "190\n"
     ]
    }
   ],
   "source": [
    "# Line Continuation in Python\n",
    "\n",
    "# Use a backslash(\\) to continue a line\n",
    "\n",
    "Total = 1+2+3+4+5+6+7+8+9+10 + \\\n",
    "        11+12+13+14+15+16+17+18+19\n",
    "print(Total)"
   ]
  },
  {
   "cell_type": "code",
   "execution_count": 7,
   "id": "071d38ec",
   "metadata": {},
   "outputs": [
    {
     "name": "stdout",
     "output_type": "stream",
     "text": [
      "15\n"
     ]
    }
   ],
   "source": [
    "#  Multiple Statements on a single line\n",
    "\n",
    "x=5;y=10;z=x+y \n",
    "print(z)"
   ]
  },
  {
   "cell_type": "markdown",
   "id": "e35dd8e5",
   "metadata": {},
   "source": [
    "Understand Semnatics in python"
   ]
  },
  {
   "cell_type": "code",
   "execution_count": 8,
   "id": "e1d1681e",
   "metadata": {},
   "outputs": [
    {
     "name": "stdout",
     "output_type": "stream",
     "text": [
      "<class 'int'>\n"
     ]
    }
   ],
   "source": [
    "# Variable assignment in Python\n",
    "age = 20 \n",
    "# Type Inference\n",
    "print(type(age))"
   ]
  },
  {
   "cell_type": "code",
   "execution_count": 9,
   "id": "c40889e3",
   "metadata": {},
   "outputs": [
    {
     "name": "stdout",
     "output_type": "stream",
     "text": [
      "Correct Indentation\n",
      "This will Print\n",
      "End of the Program\n"
     ]
    }
   ],
   "source": [
    "# Code Example of Indentation\n",
    "if True :\n",
    "    print(\"Correct Indentation\")\n",
    "    if False :\n",
    "        print(\"Incorrect Indentation\") \n",
    "    print(\"This will Print\")\n",
    "print(\"End of the Program\")"
   ]
  },
  {
   "cell_type": "markdown",
   "id": "98dd3418",
   "metadata": {},
   "source": [
    "Variable In Python"
   ]
  },
  {
   "cell_type": "code",
   "execution_count": 10,
   "id": "9a17d621",
   "metadata": {},
   "outputs": [
    {
     "name": "stdout",
     "output_type": "stream",
     "text": [
      "<class 'int'>\n"
     ]
    }
   ],
   "source": [
    "age = 20\n",
    "height = 5.9\n",
    "name = \"Aryan\"\n",
    "is_student = True\n",
    "\n",
    "print(type (age))       # <class 'int'>\n"
   ]
  },
  {
   "cell_type": "code",
   "execution_count": 11,
   "id": "b8ffac92",
   "metadata": {},
   "outputs": [
    {
     "data": {
      "text/plain": [
       "float"
      ]
     },
     "execution_count": 11,
     "metadata": {},
     "output_type": "execute_result"
    }
   ],
   "source": [
    "# Type Checking and conversion\n",
    "type(height)\n"
   ]
  },
  {
   "cell_type": "code",
   "execution_count": 12,
   "id": "78b91351",
   "metadata": {},
   "outputs": [
    {
     "name": "stdout",
     "output_type": "stream",
     "text": [
      "20\n"
     ]
    },
    {
     "data": {
      "text/plain": [
       "str"
      ]
     },
     "execution_count": 12,
     "metadata": {},
     "output_type": "execute_result"
    }
   ],
   "source": [
    "# Type Conversion \n",
    "\n",
    "age_str = str(age)  # Convert int to str\n",
    "print(age_str)  # Output: '20'\n",
    "type(age_str)  # <class 'str'>"
   ]
  },
  {
   "cell_type": "code",
   "execution_count": 15,
   "id": "4b5e33bf",
   "metadata": {},
   "outputs": [
    {
     "name": "stdout",
     "output_type": "stream",
     "text": [
      "25\n",
      "<class 'int'>\n"
     ]
    }
   ],
   "source": [
    "age = '25'\n",
    "int(age)\n",
    "print(age)  # Output: 25\n",
    "print(type(int(age)))  # <class 'int'>\n",
    "\n"
   ]
  },
  {
   "cell_type": "code",
   "execution_count": 16,
   "id": "c273a394",
   "metadata": {},
   "outputs": [
    {
     "name": "stdout",
     "output_type": "stream",
     "text": [
      "5\n"
     ]
    },
    {
     "data": {
      "text/plain": [
       "int"
      ]
     },
     "execution_count": 16,
     "metadata": {},
     "output_type": "execute_result"
    }
   ],
   "source": [
    "height = 5.9\n",
    "height_int = int(height)  # Convert float to str\n",
    "print(height_int)\n",
    "type(height_int)  # <class 'int'>"
   ]
  },
  {
   "cell_type": "code",
   "execution_count": 18,
   "id": "bd89ccef",
   "metadata": {},
   "outputs": [
    {
     "name": "stdout",
     "output_type": "stream",
     "text": [
      "10 <class 'int'>\n",
      "Hello <class 'str'>\n",
      "3.14 <class 'float'>\n"
     ]
    }
   ],
   "source": [
    "# Dyanamic Typing in Python\n",
    "var=10\n",
    "print(var, type(var))  # Output: 10 <class 'int'>\n",
    "\n",
    "var=\"Hello\"\n",
    "print(var, type(var))\n",
    "\n",
    "var=3.14\n",
    "print(var, type(var))\n"
   ]
  },
  {
   "cell_type": "code",
   "execution_count": 21,
   "id": "396e00ca",
   "metadata": {},
   "outputs": [
    {
     "name": "stdout",
     "output_type": "stream",
     "text": [
      "20 <class 'int'>\n"
     ]
    }
   ],
   "source": [
    "# input in python\n",
    "\n",
    "age =int(input(\"Enter your age: \"))\n",
    "print(age, type(age))"
   ]
  },
  {
   "cell_type": "code",
   "execution_count": 22,
   "id": "400933d1",
   "metadata": {},
   "outputs": [
    {
     "name": "stdout",
     "output_type": "stream",
     "text": [
      "Sum: 65.0\n",
      "Difference: 25.0\n",
      "Multiplication: 900.0\n",
      "Division: 2.25\n"
     ]
    }
   ],
   "source": [
    "# Simple Calculator\n",
    "num1 = float(input(\"Enter First nUmber:\"))\n",
    "num2 = float(input(\"Enter Second Number:\"))\n",
    "\n",
    "sum = num1 + num2\n",
    "diff = num1 - num2\n",
    "mul = num1 * num2\n",
    "div = num1 / num2\n",
    "\n",
    "print(\"Sum:\", sum)\n",
    "print(\"Difference:\", diff)\n",
    "print(\"Multiplication:\", mul)\n",
    "print(\"Division:\", div)\n",
    "\n"
   ]
  },
  {
   "cell_type": "markdown",
   "id": "ec7377d4",
   "metadata": {},
   "source": [
    "Basic Data types in Python"
   ]
  },
  {
   "cell_type": "code",
   "execution_count": 31,
   "id": "271e76c6",
   "metadata": {},
   "outputs": [
    {
     "name": "stdout",
     "output_type": "stream",
     "text": [
      "20 <class 'int'>\n",
      "5.9 <class 'float'>\n",
      "Aryan <class 'str'>\n",
      "True <class 'bool'>\n"
     ]
    }
   ],
   "source": [
    "# Data Type in Python\n",
    "\n",
    "age = 20\n",
    "print(age,type(age)) # <class 'int'>\n",
    "\n",
    "height = 5.9\n",
    "print(height,type(height)) # <class 'float'>\n",
    "\n",
    "name = \"Aryan\"\n",
    "print(name,type(name)) # <class 'str'>\n",
    "\n",
    "is_student = True # Boolean Data Type\n",
    "print(is_student,type(is_student))"
   ]
  },
  {
   "cell_type": "markdown",
   "id": "b01d5679",
   "metadata": {},
   "source": [
    "Operators In Python"
   ]
  },
  {
   "cell_type": "code",
   "execution_count": 39,
   "id": "064631a3",
   "metadata": {},
   "outputs": [
    {
     "name": "stdout",
     "output_type": "stream",
     "text": [
      "15\n",
      "5\n",
      "50\n",
      "2.0\n",
      "extra Operations\n",
      "2\n",
      "0\n",
      "100000\n"
     ]
    }
   ],
   "source": [
    "# Arithmetic Operations in Python\n",
    "\n",
    "a = 10\n",
    "b = 5 \n",
    "\n",
    "print(a+b) # Addition\n",
    "print(a-b) # Subtraction\n",
    "print(a*b) # Multiplication\n",
    "print(a/b) # Division\n",
    "\n",
    "print(\"extra Operations\")\n",
    "\n",
    "print(a//b) # Floor Division\n",
    "print(a%b) # Modulus\n",
    "print(a**b) # Exponentiation"
   ]
  },
  {
   "cell_type": "code",
   "execution_count": 41,
   "id": "711db5a3",
   "metadata": {},
   "outputs": [
    {
     "data": {
      "text/plain": [
       "True"
      ]
     },
     "execution_count": 41,
     "metadata": {},
     "output_type": "execute_result"
    }
   ],
   "source": [
    "# Comparison Operators in Python\n",
    "# == Equal to\n",
    "# != Not equal to\n",
    "\n",
    "a =10 \n",
    "b =10 \n",
    "a==b\n",
    "\n",
    "str1 =\"Aryan\"\n",
    "str2 =\"ARYAN\"\n",
    "str1 != str2   "
   ]
  },
  {
   "cell_type": "code",
   "execution_count": 42,
   "id": "09055dc3",
   "metadata": {},
   "outputs": [
    {
     "data": {
      "text/plain": [
       "True"
      ]
     },
     "execution_count": 42,
     "metadata": {},
     "output_type": "execute_result"
    }
   ],
   "source": [
    "# Greater than\n",
    "a = 10\n",
    "b = 5   \n",
    "a>b"
   ]
  },
  {
   "cell_type": "code",
   "execution_count": 43,
   "id": "51a39d8c",
   "metadata": {},
   "outputs": [
    {
     "data": {
      "text/plain": [
       "False"
      ]
     },
     "execution_count": 43,
     "metadata": {},
     "output_type": "execute_result"
    }
   ],
   "source": [
    "# less than\n",
    "a = 10\n",
    "b = 5\n",
    "a<b\n"
   ]
  },
  {
   "cell_type": "code",
   "execution_count": 44,
   "id": "4cd27c0f",
   "metadata": {},
   "outputs": [
    {
     "data": {
      "text/plain": [
       "True"
      ]
     },
     "execution_count": 44,
     "metadata": {},
     "output_type": "execute_result"
    }
   ],
   "source": [
    "# greater than or equal to\n",
    "a = 10\n",
    "b = 10 \n",
    "a >= b"
   ]
  },
  {
   "cell_type": "code",
   "execution_count": 46,
   "id": "936ca29a",
   "metadata": {},
   "outputs": [
    {
     "data": {
      "text/plain": [
       "False"
      ]
     },
     "execution_count": 46,
     "metadata": {},
     "output_type": "execute_result"
    }
   ],
   "source": [
    "# less than or equal to\n",
    "a = 80\n",
    "b = 50 \n",
    "a <= b"
   ]
  },
  {
   "cell_type": "code",
   "execution_count": null,
   "id": "473068f2",
   "metadata": {},
   "outputs": [
    {
     "name": "stdout",
     "output_type": "stream",
     "text": [
      "False\n"
     ]
    }
   ],
   "source": [
    "# Logical Operators in Python\n",
    "# AND\n",
    "X = True\n",
    "Y = False\n",
    "\n",
    "result =  X and Y\n",
    "print(result)"
   ]
  },
  {
   "cell_type": "code",
   "execution_count": 49,
   "id": "ea36a82c",
   "metadata": {},
   "outputs": [
    {
     "name": "stdout",
     "output_type": "stream",
     "text": [
      "True\n"
     ]
    }
   ],
   "source": [
    "# OR\n",
    "X = True\n",
    "Y = False\n",
    "\n",
    "result = X or Y\n",
    "print(result)"
   ]
  },
  {
   "cell_type": "code",
   "execution_count": 50,
   "id": "f75d9321",
   "metadata": {},
   "outputs": [
    {
     "name": "stdout",
     "output_type": "stream",
     "text": [
      "False\n"
     ]
    }
   ],
   "source": [
    "# NOT \n",
    "X = True\n",
    "result = not X\n",
    "print(result)"
   ]
  }
 ],
 "metadata": {
  "kernelspec": {
   "display_name": "myvenv",
   "language": "python",
   "name": "python3"
  },
  "language_info": {
   "codemirror_mode": {
    "name": "ipython",
    "version": 3
   },
   "file_extension": ".py",
   "mimetype": "text/x-python",
   "name": "python",
   "nbconvert_exporter": "python",
   "pygments_lexer": "ipython3",
   "version": "3.13.1"
  }
 },
 "nbformat": 4,
 "nbformat_minor": 5
}
