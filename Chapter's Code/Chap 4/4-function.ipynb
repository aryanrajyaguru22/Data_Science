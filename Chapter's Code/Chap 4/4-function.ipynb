{
 "cells": [
  {
   "metadata": {},
   "cell_type": "markdown",
   "source": "# Introduction to Functions #",
   "id": "8f0c3c0adf9a455c"
  },
  {
   "metadata": {},
   "cell_type": "markdown",
   "source": [
    "A Function is a block of code that performs a specific task.\n",
    "\n",
    "Functions help in organizing code, reusing code and improving readability."
   ],
   "id": "cea6772e27ebca9a"
  },
  {
   "cell_type": "code",
   "id": "initial_id",
   "metadata": {
    "collapsed": true,
    "ExecuteTime": {
     "end_time": "2025-06-25T12:43:31.578804Z",
     "start_time": "2025-06-25T12:43:31.575348Z"
    }
   },
   "source": [
    "# syntax\n",
    "def function_name():\n",
    "    \"\"\"\n",
    "    Docstring\n",
    "    \"\"\"\n",
    "    # Function Body\n",
    "    return expression"
   ],
   "outputs": [],
   "execution_count": 1
  },
  {
   "metadata": {
    "ExecuteTime": {
     "end_time": "2025-06-25T12:45:17.422939Z",
     "start_time": "2025-06-25T12:45:17.419581Z"
    }
   },
   "cell_type": "code",
   "source": [
    "# why Functions?\n",
    "\n",
    "num = 24\n",
    "if num%2 == 0:\n",
    "    print (\"the number is even \")\n",
    "else :\n",
    "    print (\"the number is odd \")\n"
   ],
   "id": "327ec5421f156685",
   "outputs": [
    {
     "name": "stdout",
     "output_type": "stream",
     "text": [
      "the number is even \n"
     ]
    }
   ],
   "execution_count": 2
  },
  {
   "metadata": {
    "ExecuteTime": {
     "end_time": "2025-06-25T12:48:22.673147Z",
     "start_time": "2025-06-25T12:48:22.663455Z"
    }
   },
   "cell_type": "code",
   "source": [
    "def even_or_odd(num):\n",
    "    \"\"\"This function checks number is even or odd\"\"\"\n",
    "    if num%2==0:\n",
    "        return \"the number is even\"\n",
    "    else:\n",
    "        return \"the number is odd\""
   ],
   "id": "ee0e252c45d2dbbe",
   "outputs": [
    {
     "data": {
      "text/plain": [
       "'the number is even'"
      ]
     },
     "execution_count": 4,
     "metadata": {},
     "output_type": "execute_result"
    }
   ],
   "execution_count": 4
  },
  {
   "metadata": {
    "ExecuteTime": {
     "end_time": "2025-06-25T12:50:55.543462Z",
     "start_time": "2025-06-25T12:50:52.889198Z"
    }
   },
   "cell_type": "code",
   "source": [
    "# call the function\n",
    "number = float(input(\"Enter a number:\"))\n",
    "even_or_odd(number)"
   ],
   "id": "c2a3f15a41d81f38",
   "outputs": [
    {
     "data": {
      "text/plain": [
       "'the number is odd'"
      ]
     },
     "execution_count": 9,
     "metadata": {},
     "output_type": "execute_result"
    }
   ],
   "execution_count": 9
  },
  {
   "metadata": {},
   "cell_type": "markdown",
   "source": "## Function with parameters #",
   "id": "821c6754f8357dcc"
  },
  {
   "metadata": {
    "ExecuteTime": {
     "end_time": "2025-06-25T12:56:22.362531Z",
     "start_time": "2025-06-25T12:56:14.977794Z"
    }
   },
   "cell_type": "code",
   "source": [
    "def add(a,b):\n",
    "    return a+b\n",
    "a = float(input(\"Enter first number:\"))\n",
    "b = float(input(\"Enter second number:\"))\n",
    "print (\"The sum is:\", add(a,b))"
   ],
   "id": "9ca2e10807ae690e",
   "outputs": [
    {
     "name": "stdout",
     "output_type": "stream",
     "text": [
      "The sum is: 40.0\n"
     ]
    }
   ],
   "execution_count": 12
  },
  {
   "metadata": {
    "ExecuteTime": {
     "end_time": "2025-06-25T12:59:50.263334Z",
     "start_time": "2025-06-25T12:59:46.630892Z"
    }
   },
   "cell_type": "code",
   "source": [
    "# Default Parameters\n",
    "\n",
    "def greet(name):\n",
    "    print(f\"Hello, {name}! Welcome to the Python world!\")\n",
    "name = input(\"Enter your name (default is 'Guest'): \") or \"Guest\"\n",
    "greet(name)"
   ],
   "id": "c4fb3b92dc4c95d9",
   "outputs": [
    {
     "name": "stdout",
     "output_type": "stream",
     "text": [
      "Hello, Aryan! Welcome to the Python world!\n"
     ]
    }
   ],
   "execution_count": 17
  },
  {
   "metadata": {
    "ExecuteTime": {
     "end_time": "2025-06-25T13:01:10.238855Z",
     "start_time": "2025-06-25T13:01:06.659178Z"
    }
   },
   "cell_type": "code",
   "source": [
    "def greet(name = \"Guest\"):\n",
    "    print(f\"Hello, {name}! Welcome to the Python world!\")\n",
    "name = input(\"Enter your name: \")\n",
    "greet()"
   ],
   "id": "2ef94a3d34009630",
   "outputs": [
    {
     "name": "stdout",
     "output_type": "stream",
     "text": [
      "Hello, Guest! Welcome to the Python world!\n"
     ]
    }
   ],
   "execution_count": 20
  },
  {
   "metadata": {
    "ExecuteTime": {
     "end_time": "2025-06-25T13:03:06.522382Z",
     "start_time": "2025-06-25T13:03:06.512508Z"
    }
   },
   "cell_type": "code",
   "source": [
    "# Variable Length Arguments\n",
    "# Positional Arguments\n",
    "\n",
    "def print_number(*aryan):\n",
    "    for numbers in aryan:\n",
    "        print(numbers)\n",
    "print_number(1, 2, 3, 4, 5,\"Aryan\")"
   ],
   "id": "784669dbee931915",
   "outputs": [
    {
     "name": "stdout",
     "output_type": "stream",
     "text": [
      "1\n",
      "2\n",
      "3\n",
      "4\n",
      "5\n",
      "Aryan\n"
     ]
    }
   ],
   "execution_count": 21
  },
  {
   "metadata": {
    "ExecuteTime": {
     "end_time": "2025-06-25T13:04:14.147825Z",
     "start_time": "2025-06-25T13:04:14.143185Z"
    }
   },
   "cell_type": "code",
   "source": [
    "# Positional Arguments\n",
    "\n",
    "def print_number(*args):\n",
    "    for numbers in args:\n",
    "        print(numbers)\n",
    "print_number(1, 2, 3, 4, 5,\"Aryan\")"
   ],
   "id": "b006a23b9b98188d",
   "outputs": [
    {
     "name": "stdout",
     "output_type": "stream",
     "text": [
      "1\n",
      "2\n",
      "3\n",
      "4\n",
      "5\n",
      "Aryan\n"
     ]
    }
   ],
   "execution_count": 22
  },
  {
   "metadata": {
    "ExecuteTime": {
     "end_time": "2025-06-25T13:06:02.271221Z",
     "start_time": "2025-06-25T13:06:02.264073Z"
    }
   },
   "cell_type": "code",
   "source": [
    "# Keyword Arguments\n",
    "\n",
    "def print_details(**kwargs):\n",
    "    for key, value in kwargs.items():\n",
    "        print(f\"{key}: {value}\")\n",
    "print_details(name=\"Aryan\", age=20, city=\"Gujarat\")"
   ],
   "id": "ea14f7bef7f6e622",
   "outputs": [
    {
     "name": "stdout",
     "output_type": "stream",
     "text": [
      "name: Aryan\n",
      "age: 20\n",
      "city: Gujarat\n"
     ]
    }
   ],
   "execution_count": 24
  },
  {
   "metadata": {
    "ExecuteTime": {
     "end_time": "2025-06-25T13:13:08.884677Z",
     "start_time": "2025-06-25T13:13:08.869488Z"
    }
   },
   "cell_type": "code",
   "source": [
    "def print_details(*args, **kwargs):\n",
    "    # This loop handles positional arguments\n",
    "    for val in args:\n",
    "        print(f\"Positional argument: {val}\")\n",
    "\n",
    "    # This loop handles keyword arguments\n",
    "    for key, value in kwargs.items():\n",
    "        print(f\"{key}: {value}\")"
   ],
   "id": "c09ef27a2c59b29",
   "outputs": [],
   "execution_count": 33
  },
  {
   "metadata": {
    "ExecuteTime": {
     "end_time": "2025-06-25T13:15:03.510056Z",
     "start_time": "2025-06-25T13:15:03.496173Z"
    }
   },
   "cell_type": "code",
   "source": "print_details(1, 2, 3, 4, 5,\"Aryan\",name=\"Aryan\", age=20, city=\"Gujarat\")",
   "id": "c224179e60357f14",
   "outputs": [
    {
     "name": "stdout",
     "output_type": "stream",
     "text": [
      "Positional argument: 1\n",
      "Positional argument: 2\n",
      "Positional argument: 3\n",
      "Positional argument: 4\n",
      "Positional argument: 5\n",
      "Positional argument: Aryan\n",
      "name: Aryan\n",
      "age: 20\n",
      "city: Gujarat\n"
     ]
    }
   ],
   "execution_count": 34
  },
  {
   "metadata": {
    "ExecuteTime": {
     "end_time": "2025-06-25T13:32:38.676391Z",
     "start_time": "2025-06-25T13:32:31.611570Z"
    }
   },
   "cell_type": "code",
   "source": [
    "# Return Statement\n",
    "def multiply(a, b):\n",
    "    \"\"\"This function returns the product of two numbers.\"\"\"\n",
    "    return a * b\n",
    "a = float(input(\"Enter first number: \"))\n",
    "b = float(input(\"Enter second number: \"))\n",
    "\n",
    "multiply(a,b)"
   ],
   "id": "b7dfba76a4ceff9d",
   "outputs": [
    {
     "data": {
      "text/plain": [
       "20.0"
      ]
     },
     "execution_count": 35,
     "metadata": {},
     "output_type": "execute_result"
    }
   ],
   "execution_count": 35
  },
  {
   "metadata": {
    "ExecuteTime": {
     "end_time": "2025-06-25T13:33:15.157643Z",
     "start_time": "2025-06-25T13:33:10.412626Z"
    }
   },
   "cell_type": "code",
   "source": [
    "# Return multiple Statement\n",
    "def multiply(a, b):\n",
    "    \"\"\"This function returns the product of two numbers.\"\"\"\n",
    "    return a * b, a\n",
    "a = float(input(\"Enter first number: \"))\n",
    "b = float(input(\"Enter second number: \"))\n",
    "\n",
    "multiply(a,b)"
   ],
   "id": "78468085e55bd4d",
   "outputs": [
    {
     "data": {
      "text/plain": [
       "(20.0, 4.0)"
      ]
     },
     "execution_count": 36,
     "metadata": {},
     "output_type": "execute_result"
    }
   ],
   "execution_count": 36
  },
  {
   "metadata": {},
   "cell_type": "markdown",
   "source": "## Functions Example #",
   "id": "6d45d22f21aafabb"
  },
  {
   "metadata": {
    "ExecuteTime": {
     "end_time": "2025-06-26T09:26:09.726982Z",
     "start_time": "2025-06-26T09:26:04.885939Z"
    }
   },
   "cell_type": "code",
   "source": [
    "# Example 1: Temperature Conversion\n",
    "\n",
    "def convert_temperature(temp,unit):\n",
    "    \"\"\"This Function converts temperature between Celsius and Fahrenheit\"\"\"\n",
    "    if unit=='C':\n",
    "        return temp * 9/5 +32 # Celsius to Fahrenheit\n",
    "    elif unit=='F':\n",
    "        return (temp-32)*5/9 # Fahrenheit to Celsius\n",
    "    else:\n",
    "        return None\n",
    "temp = float(input(\"Enter temperature in Celsius:\"))\n",
    "unit = input(\"Enter unit (C/F):\").upper()\n",
    "converted_temp = convert_temperature(temp, unit)\n",
    "print(converted_temp)"
   ],
   "id": "d5aca8e6626c3429",
   "outputs": [
    {
     "name": "stdout",
     "output_type": "stream",
     "text": [
      "77.0\n"
     ]
    }
   ],
   "execution_count": 2
  },
  {
   "metadata": {
    "ExecuteTime": {
     "end_time": "2025-06-26T09:40:01.606239Z",
     "start_time": "2025-06-26T09:39:53.725907Z"
    }
   },
   "cell_type": "code",
   "source": [
    "# Example 2: Password Strength Checker\n",
    "\n",
    "def is_strong_password(password):\n",
    "    \"\"\"This Function checks if a password is strong\"\"\"\n",
    "    if len(password)<=8:\n",
    "        return \"To Small Password\"\n",
    "    if not any(char.isdigit() for char in password ):\n",
    "        return \"At least one digit is required\"\n",
    "    if not any(char.islower() for char in password):\n",
    "        return \"At least one lowercase letter is required\"\n",
    "    if not any(char.isupper() for char in password):\n",
    "        return \"At least one uppercase letter is required\"\n",
    "    if not any(char in '!@#$%^&*()_+' for char in password):\n",
    "        return \"At least one special character is required\"\n",
    "    return \"Strong Password\"\n",
    "password = input(\"Enter a password to check its strength: \")\n",
    "\n",
    "is_strong_password(password)\n",
    "# print(password)"
   ],
   "id": "413cb98a9151575b",
   "outputs": [
    {
     "data": {
      "text/plain": [
       "'To Small Password'"
      ]
     },
     "execution_count": 7,
     "metadata": {},
     "output_type": "execute_result"
    }
   ],
   "execution_count": 7
  },
  {
   "metadata": {
    "ExecuteTime": {
     "end_time": "2025-06-26T10:01:31.588187Z",
     "start_time": "2025-06-26T10:01:31.571554Z"
    }
   },
   "cell_type": "code",
   "source": [
    "# Example 3: Calculate the total cost of items in a shopping cart\n",
    "\n",
    "def calculate_total_cost(cart):\n",
    "    \"\"\"This Function calculates the total cost of items in a shopping cart\"\"\"\n",
    "    total_cost = 0\n",
    "    for item in cart:\n",
    "        total_cost += item['price']* item['quantity']\n",
    "    return total_cost\n",
    "\n",
    "## Example cart data\n",
    "cart =  [\n",
    "            {'name':'Apple', 'price':18.9, 'quantity':4},\n",
    "            {'name':'Banana', 'price':10.9, 'quantity':6},\n",
    "            {'name':'Orange', 'price':9.99, 'quantity':3}\n",
    "        ]\n",
    "\n",
    "\n",
    "\n",
    "# Calling the function\n",
    "total_cost = calculate_total_cost(cart)\n",
    "print(f\"Main Cost is ${total_cost:.2f}\" )\n",
    "print(f\"But you Pay This Cost: ${total_cost:.1f}\")\n",
    "\n",
    "\n"
   ],
   "id": "b109fdb503525985",
   "outputs": [
    {
     "name": "stdout",
     "output_type": "stream",
     "text": [
      "Main Cost is $170.97\n",
      "But you Pay This Cost: $171.0\n"
     ]
    }
   ],
   "execution_count": 34
  },
  {
   "metadata": {
    "ExecuteTime": {
     "end_time": "2025-06-26T10:39:54.420903Z",
     "start_time": "2025-06-26T10:39:44.920218Z"
    }
   },
   "cell_type": "code",
   "source": [
    "# Example 4: Check if a string is a palindrome\n",
    "def is_palindrome(s):\n",
    "    \"\"\"This Function checks if a string is a palindrome\"\"\"\n",
    "    s = s.lower().replace(\" \",\"\")\n",
    "    return s == s[::-1]\n",
    "\n",
    "s = input(\"Enter a string to check if it is a palindrome: \")\n",
    "print (f\"Original String: {s}\")\n",
    "if is_palindrome(s):\n",
    "    print(f\"a palindrome\")\n",
    "    print(s[::-1])\n",
    "else:\n",
    "    print(f\"{s} is not a palindrome\")\n"
   ],
   "id": "7fe872927f9b6b5b",
   "outputs": [
    {
     "name": "stdout",
     "output_type": "stream",
     "text": [
      "Original String: naman\n",
      "a palindrome\n",
      "naman\n"
     ]
    }
   ],
   "execution_count": 40
  },
  {
   "metadata": {
    "ExecuteTime": {
     "end_time": "2025-06-26T10:52:12.942572Z",
     "start_time": "2025-06-26T10:52:09.679666Z"
    }
   },
   "cell_type": "code",
   "source": [
    "# Example 5: Calculate the factorial of a number using recursion\n",
    "\n",
    "def factrorial(n):\n",
    "    \"\"\"This Function calculates the factorial of a number using recursion\"\"\"\n",
    "    if n == 0 or n == 1:\n",
    "        return 1\n",
    "    else:\n",
    "        return n*factrorial(n-1)\n",
    "n = int(input(\"Enter a number to calculate its factorial:\"))\n",
    "print(f\"The Factorial of {n} is {factrorial(n)}\")\n"
   ],
   "id": "505057e70e931e29",
   "outputs": [
    {
     "name": "stdout",
     "output_type": "stream",
     "text": [
      "The Factorial of 5 is 120\n"
     ]
    }
   ],
   "execution_count": 41
  },
  {
   "metadata": {
    "ExecuteTime": {
     "end_time": "2025-06-26T11:05:58.166244Z",
     "start_time": "2025-06-26T11:05:47.142637Z"
    }
   },
   "cell_type": "code",
   "source": [
    "# Example 6: validate Email Address\n",
    "\n",
    "import re\n",
    "\n",
    "# Email Validation Function\n",
    "\n",
    "def is_valid_email(email):\n",
    "    \"\"\"This Function checks if an email address is valid\"\"\"\n",
    "    pattern = r'^[a-zA-Z0-9_.+-]+@[a-zA-Z0-9-]+\\.[a-zA-Z0-9-.]+$'\n",
    "    return re.match(pattern,email) is not None\n",
    "\n",
    "email = input(\"Enter an email address: \")\n",
    "if is_valid_email(email):\n",
    "    print(f\"{email} is a valid email address.\")\n",
    "else:\n",
    "    print(f\"{email} is not a valid email address.\")"
   ],
   "id": "bda2bb7bc7a36a3f",
   "outputs": [
    {
     "name": "stdout",
     "output_type": "stream",
     "text": [
      "asagdhad@gmail is not a valid email address.\n"
     ]
    }
   ],
   "execution_count": 43
  },
  {
   "metadata": {},
   "cell_type": "markdown",
   "source": "## Lambda Functions #",
   "id": "9be2c7876417d438"
  },
  {
   "metadata": {},
   "cell_type": "markdown",
   "source": [
    "Lambda Functions are small anonymous functions\n",
    "\n",
    "Define using the Lambda Keyword.\n",
    "\n",
    "They Can Have any number of arguments but only one expression.\n",
    "\n",
    "They are commonly used for short operations or as arguments to higher-order functions.\n",
    "\n"
   ],
   "id": "2980fd039cac19b2"
  },
  {
   "metadata": {
    "ExecuteTime": {
     "end_time": "2025-06-26T11:12:05.469436Z",
     "start_time": "2025-06-26T11:12:05.437013Z"
    }
   },
   "cell_type": "code",
   "source": [
    "# syntax\n",
    "lambda arguments:  expression"
   ],
   "id": "e44d13bf6ef35699",
   "outputs": [
    {
     "data": {
      "text/plain": [
       "<function __main__.<lambda>(arguments)>"
      ]
     },
     "execution_count": 44,
     "metadata": {},
     "output_type": "execute_result"
    }
   ],
   "execution_count": 44
  },
  {
   "metadata": {
    "ExecuteTime": {
     "end_time": "2025-06-26T11:13:55.794804Z",
     "start_time": "2025-06-26T11:13:55.784784Z"
    }
   },
   "cell_type": "code",
   "source": [
    "def addition(a,b):\n",
    "    return a + b\n",
    "addition(2,3)"
   ],
   "id": "ff4aa320eca7a85a",
   "outputs": [
    {
     "data": {
      "text/plain": [
       "5"
      ]
     },
     "execution_count": 45,
     "metadata": {},
     "output_type": "execute_result"
    }
   ],
   "execution_count": 45
  },
  {
   "metadata": {
    "ExecuteTime": {
     "end_time": "2025-06-26T11:16:05.340193Z",
     "start_time": "2025-06-26T11:16:05.335316Z"
    }
   },
   "cell_type": "code",
   "source": [
    "adi =  lambda a,b : a+b\n",
    "type(adi)\n",
    "print(adi(2,6))"
   ],
   "id": "7a0daf637b3413ae",
   "outputs": [
    {
     "name": "stdout",
     "output_type": "stream",
     "text": [
      "8\n"
     ]
    }
   ],
   "execution_count": 47
  },
  {
   "metadata": {
    "ExecuteTime": {
     "end_time": "2025-06-26T11:19:19.900589Z",
     "start_time": "2025-06-26T11:19:19.895092Z"
    }
   },
   "cell_type": "code",
   "source": [
    "def even(num):\n",
    "    if num%2==0:\n",
    "        return True\n",
    "    else:\n",
    "        return False\n",
    "even(786)"
   ],
   "id": "58641228e78b8be5",
   "outputs": [
    {
     "data": {
      "text/plain": [
       "True"
      ]
     },
     "execution_count": 57,
     "metadata": {},
     "output_type": "execute_result"
    }
   ],
   "execution_count": 57
  },
  {
   "metadata": {
    "ExecuteTime": {
     "end_time": "2025-06-26T11:19:36.608522Z",
     "start_time": "2025-06-26T11:19:36.604955Z"
    }
   },
   "cell_type": "code",
   "source": [
    "even = lambda num: num%2==0\n",
    "print(even(78569996))"
   ],
   "id": "30f2a81d49f4224",
   "outputs": [
    {
     "name": "stdout",
     "output_type": "stream",
     "text": [
      "True\n"
     ]
    }
   ],
   "execution_count": 60
  },
  {
   "metadata": {
    "ExecuteTime": {
     "end_time": "2025-06-26T11:20:34.699604Z",
     "start_time": "2025-06-26T11:20:34.692868Z"
    }
   },
   "cell_type": "code",
   "source": [
    "def addition (x,y,z):\n",
    "    return x+y+z\n",
    "addition(10,20,30)"
   ],
   "id": "b65e80a188014ab7",
   "outputs": [
    {
     "data": {
      "text/plain": [
       "60"
      ]
     },
     "execution_count": 62,
     "metadata": {},
     "output_type": "execute_result"
    }
   ],
   "execution_count": 62
  },
  {
   "metadata": {
    "ExecuteTime": {
     "end_time": "2025-06-26T11:21:34.749406Z",
     "start_time": "2025-06-26T11:21:34.725030Z"
    }
   },
   "cell_type": "code",
   "source": [
    "addition = lambda x,y,z: x+y+z\n",
    "addition(200,200,-40)"
   ],
   "id": "ec18f7e51778740f",
   "outputs": [
    {
     "data": {
      "text/plain": [
       "360"
      ]
     },
     "execution_count": 65,
     "metadata": {},
     "output_type": "execute_result"
    }
   ],
   "execution_count": 65
  },
  {
   "metadata": {
    "ExecuteTime": {
     "end_time": "2025-06-26T11:23:21.227253Z",
     "start_time": "2025-06-26T11:23:21.216048Z"
    }
   },
   "cell_type": "code",
   "source": [
    "# Map() -> applies a function to all items in a list\n",
    "\n",
    "number = [1,2,3,4,5,6,7]\n",
    "def square(number):\n",
    "    return number**2\n"
   ],
   "id": "c9e3c2bae7ffb987",
   "outputs": [
    {
     "data": {
      "text/plain": [
       "4"
      ]
     },
     "execution_count": 67,
     "metadata": {},
     "output_type": "execute_result"
    }
   ],
   "execution_count": 67
  },
  {
   "metadata": {
    "ExecuteTime": {
     "end_time": "2025-06-26T11:25:24.998498Z",
     "start_time": "2025-06-26T11:25:24.972851Z"
    }
   },
   "cell_type": "code",
   "source": "list(map(lambda x:x**2, number))",
   "id": "24340dd8bbad68c1",
   "outputs": [
    {
     "data": {
      "text/plain": [
       "[1, 4, 9, 16, 25, 36, 49]"
      ]
     },
     "execution_count": 69,
     "metadata": {},
     "output_type": "execute_result"
    }
   ],
   "execution_count": 69
  },
  {
   "metadata": {},
   "cell_type": "markdown",
   "source": "## Map Function #",
   "id": "7ef000351bb446ca"
  },
  {
   "metadata": {},
   "cell_type": "markdown",
   "source": [
    "Map() function applies a given function to all items in an input list (or any other iterable) and returns a map object (an iterator).\n",
    "\n",
    "This is Particularly useful for transforming data in a list comprehensively."
   ],
   "id": "7ea1d3394f42d235"
  },
  {
   "metadata": {
    "ExecuteTime": {
     "end_time": "2025-06-26T11:33:11.752484Z",
     "start_time": "2025-06-26T11:33:11.678394Z"
    }
   },
   "cell_type": "code",
   "source": [
    "def square(x):\n",
    "    return x*x\n",
    "square(100)"
   ],
   "id": "19ec80c2f219879c",
   "outputs": [
    {
     "data": {
      "text/plain": [
       "10000"
      ]
     },
     "execution_count": 70,
     "metadata": {},
     "output_type": "execute_result"
    }
   ],
   "execution_count": 70
  },
  {
   "metadata": {
    "ExecuteTime": {
     "end_time": "2025-06-26T11:34:40.700631Z",
     "start_time": "2025-06-26T11:34:40.692274Z"
    }
   },
   "cell_type": "code",
   "source": [
    "numbers = [1,2,3,4,5,6,7,8,9]\n",
    "list(map(square, numbers))"
   ],
   "id": "becfcc915091682d",
   "outputs": [
    {
     "data": {
      "text/plain": [
       "[1, 4, 9, 16, 25, 36, 49, 64, 81]"
      ]
     },
     "execution_count": 73,
     "metadata": {},
     "output_type": "execute_result"
    }
   ],
   "execution_count": 73
  },
  {
   "metadata": {
    "ExecuteTime": {
     "end_time": "2025-06-26T11:36:37.349559Z",
     "start_time": "2025-06-26T11:36:37.342257Z"
    }
   },
   "cell_type": "code",
   "source": [
    "# Lambda Function with a map\n",
    "\n",
    "numbers = [1,2,3,4,5,6,7,8,9]\n",
    "list(map(lambda x:x*x, numbers))"
   ],
   "id": "412139195f375c74",
   "outputs": [
    {
     "data": {
      "text/plain": [
       "[1, 4, 9, 16, 25, 36, 49, 64, 81]"
      ]
     },
     "execution_count": 76,
     "metadata": {},
     "output_type": "execute_result"
    }
   ],
   "execution_count": 76
  },
  {
   "metadata": {
    "ExecuteTime": {
     "end_time": "2025-06-26T11:38:29.578978Z",
     "start_time": "2025-06-26T11:38:29.489684Z"
    }
   },
   "cell_type": "code",
   "source": [
    "# Map Multiple Iterable\n",
    "\n",
    "numbers1 = [1,2,3]\n",
    "numbers2 = [4,5,6]\n",
    "\n",
    "list(map(lambda x,y: x+y, numbers1, numbers2))"
   ],
   "id": "e2411192d0632e85",
   "outputs": [
    {
     "data": {
      "text/plain": [
       "[5, 7, 9]"
      ]
     },
     "execution_count": 77,
     "metadata": {},
     "output_type": "execute_result"
    }
   ],
   "execution_count": 77
  },
  {
   "metadata": {
    "ExecuteTime": {
     "end_time": "2025-06-26T11:41:47.974923Z",
     "start_time": "2025-06-26T11:41:47.969790Z"
    }
   },
   "cell_type": "code",
   "source": [
    "# map to convert strings to integers\n",
    "\n",
    "str_numbers = ['1','2','3','4','5']\n",
    "int_numbers = list(map(int, str_numbers))\n",
    "print(int_numbers)\n",
    "# print(str_numbers)\n",
    "# type(int_numbers)"
   ],
   "id": "395649414cb97a0e",
   "outputs": [
    {
     "name": "stdout",
     "output_type": "stream",
     "text": [
      "[1, 2, 3, 4, 5]\n"
     ]
    }
   ],
   "execution_count": 82
  },
  {
   "metadata": {
    "ExecuteTime": {
     "end_time": "2025-06-26T11:51:58.327031Z",
     "start_time": "2025-06-26T11:51:58.322790Z"
    }
   },
   "cell_type": "code",
   "source": [
    "words = ['apple','banana','cherry']\n",
    "upper_word = list(map(str.upper, words))\n",
    "print(upper_word)"
   ],
   "id": "fa6c87746c3bfc6",
   "outputs": [
    {
     "name": "stdout",
     "output_type": "stream",
     "text": [
      "['APPLE', 'BANANA', 'CHERRY']\n"
     ]
    }
   ],
   "execution_count": 92
  },
  {
   "metadata": {
    "ExecuteTime": {
     "end_time": "2025-06-26T11:46:32.824949Z",
     "start_time": "2025-06-26T11:46:32.820848Z"
    }
   },
   "cell_type": "code",
   "source": [
    "def get_name(person):\n",
    "    return person['name']\n",
    "\n",
    "person = [\n",
    "    {'name': 'Aryan','age': 20 },\n",
    "    {'name': 'Aman','age': 25 }\n",
    "]\n",
    "list (map(get_name, person))"
   ],
   "id": "e0d4d5a7c4e9b7c4",
   "outputs": [
    {
     "data": {
      "text/plain": [
       "['Aryan', 'Aman']"
      ]
     },
     "execution_count": 90,
     "metadata": {},
     "output_type": "execute_result"
    }
   ],
   "execution_count": 90
  },
  {
   "metadata": {},
   "cell_type": "markdown",
   "source": "## Filter Function #",
   "id": "36e1b5fe91d23c58"
  },
  {
   "metadata": {},
   "cell_type": "markdown",
   "source": [
    "The Filter() function constructs an iterator from elements of an iterable for which a function returns true.\n",
    "\n",
    "It is used to filter out items from a list (or any other iterable) based on a condition."
   ],
   "id": "9e5bdb2ce78bfb71"
  },
  {
   "metadata": {
    "ExecuteTime": {
     "end_time": "2025-06-26T11:53:36.611016Z",
     "start_time": "2025-06-26T11:53:36.589955Z"
    }
   },
   "cell_type": "code",
   "source": [
    "def even(num):\n",
    "    if num%2==0:\n",
    "        return True\n",
    "even(26)"
   ],
   "id": "d93f17f346782774",
   "outputs": [
    {
     "data": {
      "text/plain": [
       "True"
      ]
     },
     "execution_count": 93,
     "metadata": {},
     "output_type": "execute_result"
    }
   ],
   "execution_count": 93
  },
  {
   "metadata": {
    "ExecuteTime": {
     "end_time": "2025-06-26T11:54:29.626692Z",
     "start_time": "2025-06-26T11:54:29.617356Z"
    }
   },
   "cell_type": "code",
   "source": [
    "lst = [1,2,3,4,5,6]\n",
    "list(filter(even, lst))"
   ],
   "id": "9ac1fd57eacd976f",
   "outputs": [
    {
     "data": {
      "text/plain": [
       "[2, 4, 6]"
      ]
     },
     "execution_count": 94,
     "metadata": {},
     "output_type": "execute_result"
    }
   ],
   "execution_count": 94
  },
  {
   "metadata": {
    "ExecuteTime": {
     "end_time": "2025-06-26T11:56:26.586815Z",
     "start_time": "2025-06-26T11:56:26.576822Z"
    }
   },
   "cell_type": "code",
   "source": [
    "# Lambda Function with a filter\n",
    "numbers = [1,2,3,4,5,6,7,8,9]\n",
    "greater_then_five = list(filter(lambda x:x> 5 , numbers))\n",
    "print(greater_then_five)"
   ],
   "id": "8b52ee7829bf3324",
   "outputs": [
    {
     "name": "stdout",
     "output_type": "stream",
     "text": [
      "[6, 7, 8, 9]\n"
     ]
    }
   ],
   "execution_count": 96
  },
  {
   "metadata": {
    "ExecuteTime": {
     "end_time": "2025-06-26T11:57:52.248559Z",
     "start_time": "2025-06-26T11:57:52.236427Z"
    }
   },
   "cell_type": "code",
   "source": [
    "numbers = [1,2,3,4,5,6,7,8,9]\n",
    "even_grweater_then_five =  list(filter(lambda x:x>5 and x%2==0, numbers))\n",
    "print(even_grweater_then_five)"
   ],
   "id": "9a97b88ec6e79d6d",
   "outputs": [
    {
     "name": "stdout",
     "output_type": "stream",
     "text": [
      "[6, 8]\n"
     ]
    }
   ],
   "execution_count": 99
  },
  {
   "metadata": {
    "ExecuteTime": {
     "end_time": "2025-06-26T12:01:18.231682Z",
     "start_time": "2025-06-26T12:01:18.220021Z"
    }
   },
   "cell_type": "code",
   "source": [
    "def age_greater_than_25(person):\n",
    "    return person['age'] >=25\n",
    "\n",
    "person = [\n",
    "    {'name': 'Aryan','age': 20 },\n",
    "    {'name': 'Aman','age': 25 },\n",
    "    {'name': 'Krish','age': 18 },\n",
    "    {'name': 'Rohan','age': 30 },\n",
    "    {'name': 'Sita','age': 28 },\n",
    "    {'name': 'Gita','age': 22 }\n",
    "]\n",
    "\n",
    "list(filter(lambda x:x['age']>25 , person))"
   ],
   "id": "ee634094550659c3",
   "outputs": [
    {
     "data": {
      "text/plain": [
       "[{'name': 'Rohan', 'age': 30}, {'name': 'Sita', 'age': 28}]"
      ]
     },
     "execution_count": 104,
     "metadata": {},
     "output_type": "execute_result"
    }
   ],
   "execution_count": 104
  }
 ],
 "metadata": {
  "kernelspec": {
   "display_name": "Python 3",
   "language": "python",
   "name": "python3"
  },
  "language_info": {
   "codemirror_mode": {
    "name": "ipython",
    "version": 2
   },
   "file_extension": ".py",
   "mimetype": "text/x-python",
   "name": "python",
   "nbconvert_exporter": "python",
   "pygments_lexer": "ipython2",
   "version": "2.7.6"
  }
 },
 "nbformat": 4,
 "nbformat_minor": 5
}
