{
 "cells": [
  {
   "cell_type": "markdown",
   "id": "c64f97bf519bfa1",
   "metadata": {},
   "source": [
    "# Classes and Objects"
   ]
  },
  {
   "cell_type": "markdown",
   "id": "2232a319c9a8398f",
   "metadata": {},
   "source": [
    "Object Oriented Programming (oop) is a programming paradigm that uses 'objects' to design applications and computer programs.\n",
    "\n",
    "OOP allows for modeling real world scenarios using classes and objects.\n",
    "\n",
    "This lesson covers the basics of creating clases and objects in, including instance variables and methods."
   ]
  },
  {
   "cell_type": "code",
   "execution_count": 22,
   "id": "initial_id",
   "metadata": {
    "ExecuteTime": {
     "end_time": "2025-06-27T12:10:11.348776Z",
     "start_time": "2025-06-27T12:10:11.344870Z"
    },
    "collapsed": true
   },
   "outputs": [
    {
     "name": "stdout",
     "output_type": "stream",
     "text": [
      "<__main__.car object at 0x0000017162C7A900>\n",
      "<__main__.car object at 0x0000017162A8BED0>\n"
     ]
    }
   ],
   "source": [
    "#  A class is a blueprint for creating objects. Attributes, methods\n",
    "class car :\n",
    "    pass\n",
    "\n",
    "audi = car()  # audi is an instance of the class car\n",
    "bmw = car()   # bmw is another instance of the class car\n",
    "\n",
    "print(audi)\n",
    "print(bmw)"
   ]
  },
  {
   "cell_type": "code",
   "execution_count": 23,
   "id": "d874597c",
   "metadata": {},
   "outputs": [
    {
     "name": "stdout",
     "output_type": "stream",
     "text": [
      "4\n"
     ]
    }
   ],
   "source": [
    "audi.windows = 4\n",
    "print(audi.windows)"
   ]
  },
  {
   "cell_type": "code",
   "execution_count": 24,
   "id": "da2ac0d8",
   "metadata": {},
   "outputs": [
    {
     "data": {
      "text/plain": [
       "['__class__',\n",
       " '__delattr__',\n",
       " '__dict__',\n",
       " '__dir__',\n",
       " '__doc__',\n",
       " '__eq__',\n",
       " '__firstlineno__',\n",
       " '__format__',\n",
       " '__ge__',\n",
       " '__getattribute__',\n",
       " '__getstate__',\n",
       " '__gt__',\n",
       " '__hash__',\n",
       " '__init__',\n",
       " '__init_subclass__',\n",
       " '__le__',\n",
       " '__lt__',\n",
       " '__module__',\n",
       " '__ne__',\n",
       " '__new__',\n",
       " '__reduce__',\n",
       " '__reduce_ex__',\n",
       " '__repr__',\n",
       " '__setattr__',\n",
       " '__sizeof__',\n",
       " '__static_attributes__',\n",
       " '__str__',\n",
       " '__subclasshook__',\n",
       " '__weakref__',\n",
       " 'door']"
      ]
     },
     "execution_count": 24,
     "metadata": {},
     "output_type": "execute_result"
    }
   ],
   "source": [
    "tata = car()\n",
    "tata.door = 4\n",
    "# print(tata.door)\n",
    "\n",
    "dir(tata)"
   ]
  },
  {
   "cell_type": "code",
   "execution_count": 25,
   "id": "1fb2af22ba27e6bc",
   "metadata": {},
   "outputs": [
    {
     "name": "stdout",
     "output_type": "stream",
     "text": [
      "Tommy\n",
      "3\n"
     ]
    }
   ],
   "source": [
    "# Instance variable and Methods\n",
    "class Dog:\n",
    "    # Constructor\n",
    "    def __init__(self,name, age):\n",
    "        self.name =  name \n",
    "        self.age = age\n",
    "        \n",
    "## create objects\n",
    "dog1 = Dog(\"Tommy\", 3)\n",
    "print(dog1.name)\n",
    "print(dog1.age)"
   ]
  },
  {
   "cell_type": "code",
   "execution_count": 26,
   "id": "bd09101b",
   "metadata": {},
   "outputs": [
    {
     "name": "stdout",
     "output_type": "stream",
     "text": [
      "Rocky\n",
      "5\n"
     ]
    }
   ],
   "source": [
    "dog2 = Dog(\"Rocky\", 5)\n",
    "print(dog2.name)\n",
    "print(dog2.age)"
   ]
  },
  {
   "cell_type": "code",
   "execution_count": 27,
   "id": "eb6d07f2",
   "metadata": {},
   "outputs": [
    {
     "name": "stdout",
     "output_type": "stream",
     "text": [
      "Tommy says woof!!!\n",
      "Rocky says woof!!!\n"
     ]
    }
   ],
   "source": [
    "# Instances method \n",
    "class Dog:\n",
    "    def __init__(self,name,age):\n",
    "        self.name = name \n",
    "        self.age = age\n",
    "    \n",
    "    def bark(self):\n",
    "        print(f\"{self.name} says woof!!!\")\n",
    "        \n",
    "        \n",
    "dog1 = Dog(\"Tommy\", 3)\n",
    "dog1.bark()\n",
    "\n",
    "dog2 = Dog(\"Rocky\", 5)\n",
    "dog2.bark()"
   ]
  },
  {
   "cell_type": "code",
   "execution_count": 28,
   "id": "8c12f266",
   "metadata": {},
   "outputs": [
    {
     "name": "stdout",
     "output_type": "stream",
     "text": [
      "Account owner: Aryan\n",
      "Initial balance: 100000\n"
     ]
    }
   ],
   "source": [
    "# Modeling a bank account \n",
    "\n",
    "# Define a class for bank account \n",
    "\n",
    "class BankAccount:\n",
    "    def __init__(self,owner, balance = 0):\n",
    "        self.owner = owner\n",
    "        self.balance = balance\n",
    "        \n",
    "    def deposit(self, amount):\n",
    "        self.balance += amount\n",
    "        print(f\"{amount} deposited. New balance is {self.balance}\")\n",
    "        \n",
    "    def withdraw(self, amount):\n",
    "        if amount > self.balance:\n",
    "            print(\"Insufficient funds\")\n",
    "        else:\n",
    "            self.balance -= amount\n",
    "            print(f\"{amount} withdrawn. New balance is {self.balance}\") \n",
    "    \n",
    "    def get_balance(self):\n",
    "        return self.balance\n",
    "    \n",
    "\n",
    "# Create an instance of BankAccount    \n",
    "account = BankAccount(\"Aryan\", 100000)\n",
    "print(f\"Account owner: {account.owner}\")\n",
    "print(f\"Initial balance: {account.get_balance()}\")"
   ]
  },
  {
   "cell_type": "code",
   "execution_count": 29,
   "id": "c2704592",
   "metadata": {},
   "outputs": [
    {
     "name": "stdout",
     "output_type": "stream",
     "text": [
      "50000 deposited. New balance is 150000\n"
     ]
    }
   ],
   "source": [
    "# Call Instances methods \n",
    "\n",
    "account.deposit(50000)"
   ]
  },
  {
   "cell_type": "code",
   "execution_count": 30,
   "id": "6b05e7b6",
   "metadata": {},
   "outputs": [
    {
     "name": "stdout",
     "output_type": "stream",
     "text": [
      "Insufficient funds\n"
     ]
    }
   ],
   "source": [
    "# Call Instances Methods\n",
    "account.withdraw(200000)"
   ]
  },
  {
   "cell_type": "code",
   "execution_count": 31,
   "id": "7b7732f9",
   "metadata": {},
   "outputs": [
    {
     "name": "stdout",
     "output_type": "stream",
     "text": [
      "2000 withdrawn. New balance is 148000\n"
     ]
    }
   ],
   "source": [
    "# Call Instances Methods\n",
    "account.withdraw(2000)"
   ]
  }
 ],
 "metadata": {
  "kernelspec": {
   "display_name": "myvenv",
   "language": "python",
   "name": "python3"
  },
  "language_info": {
   "codemirror_mode": {
    "name": "ipython",
    "version": 3
   },
   "file_extension": ".py",
   "mimetype": "text/x-python",
   "name": "python",
   "nbconvert_exporter": "python",
   "pygments_lexer": "ipython3",
   "version": "3.13.1"
  }
 },
 "nbformat": 4,
 "nbformat_minor": 5
}
