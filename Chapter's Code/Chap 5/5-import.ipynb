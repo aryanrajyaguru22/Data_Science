{
 "cells": [
  {
   "metadata": {},
   "cell_type": "markdown",
   "source": "# Module and Package  importing #",
   "id": "3a5d8a43ebf9c80b"
  },
  {
   "metadata": {},
   "cell_type": "markdown",
   "source": [
    "In Python modules and packages help organize and reuse code.\n",
    "\n",
    "Here's a comprehensive guide on how to import them.\n"
   ],
   "id": "6a3a1d647dc008c3"
  },
  {
   "cell_type": "code",
   "id": "initial_id",
   "metadata": {
    "collapsed": true,
    "ExecuteTime": {
     "end_time": "2025-06-27T05:28:07.382841Z",
     "start_time": "2025-06-27T05:27:59.988725Z"
    }
   },
   "source": [
    "import math\n",
    "x = float(input(\"Enter a number to find its square root: \"))\n",
    "# math.sqrt(x)\n",
    "print (f\"The square root of {x} is {math.sqrt(x)}\")"
   ],
   "outputs": [
    {
     "name": "stdout",
     "output_type": "stream",
     "text": [
      "The square root of 256.0 is 16.0\n"
     ]
    }
   ],
   "execution_count": 7
  },
  {
   "metadata": {
    "ExecuteTime": {
     "end_time": "2025-06-27T05:32:06.809359Z",
     "start_time": "2025-06-27T05:32:06.765535Z"
    }
   },
   "cell_type": "code",
   "source": [
    "from math import sqrt, pi\n",
    "print(sqrt(16))\n",
    "print(pi)"
   ],
   "id": "b7cd5c7f80650147",
   "outputs": [
    {
     "name": "stdout",
     "output_type": "stream",
     "text": [
      "4.0\n",
      "3.141592653589793\n"
     ]
    }
   ],
   "execution_count": 8
  },
  {
   "metadata": {
    "ExecuteTime": {
     "end_time": "2025-06-27T05:43:01.491394Z",
     "start_time": "2025-06-27T05:43:01.333412Z"
    }
   },
   "cell_type": "code",
   "source": [
    "import numpy as np\n",
    "np.array([1,2,3,4,5])"
   ],
   "id": "baafcf39e08bde56",
   "outputs": [
    {
     "data": {
      "text/plain": [
       "array([1, 2, 3, 4, 5])"
      ]
     },
     "execution_count": 10,
     "metadata": {},
     "output_type": "execute_result"
    }
   ],
   "execution_count": 10
  },
  {
   "metadata": {
    "ExecuteTime": {
     "end_time": "2025-06-27T05:45:35.925393Z",
     "start_time": "2025-06-27T05:45:35.914614Z"
    }
   },
   "cell_type": "code",
   "source": [
    "from math import *\n",
    "print(sqrt(9))\n",
    "print(pi)"
   ],
   "id": "96d6135f287fe59a",
   "outputs": [
    {
     "name": "stdout",
     "output_type": "stream",
     "text": [
      "3.0\n",
      "3.141592653589793\n"
     ]
    }
   ],
   "execution_count": 15
  },
  {
   "metadata": {
    "ExecuteTime": {
     "end_time": "2025-06-27T06:37:47.390545Z",
     "start_time": "2025-06-27T06:37:38.167068Z"
    }
   },
   "cell_type": "code",
   "source": [
    "from package.maths import addition, subtraction\n",
    "from package.subpackages.md import multiplication, division\n",
    "a = float(input(\"Enter first number: \"))\n",
    "b = float(input(\"Enter second number: \"))\n",
    "sum = addition(a, b)\n",
    "print (f\"The sum of {a} and {b} is {sum}\")\n",
    "sub = subtraction(a, b)\n",
    "print (f\"The sub of {a} and {b} is {sub}\")\n",
    "mul = multiplication(a, b)\n",
    "print (f\"The mul of {a} and {b} is {mul}\")\n",
    "div = division(a, b)\n",
    "print (f\"The div of {a} and {b} is {div}\")"
   ],
   "id": "c81eaa94b806662a",
   "outputs": [
    {
     "name": "stdout",
     "output_type": "stream",
     "text": [
      "The sum of 36.0 and 6.0 is 42.0\n",
      "The sub of 36.0 and 6.0 is 30.0\n",
      "The mul of 36.0 and 6.0 is 216.0\n",
      "The div of 36.0 and 6.0 is 6.0\n"
     ]
    }
   ],
   "execution_count": 21
  },
  {
   "metadata": {},
   "cell_type": "markdown",
   "source": "# Standard Library Overview #",
   "id": "c8ce59aead09b580"
  },
  {
   "metadata": {},
   "cell_type": "markdown",
   "source": [
    "Python's Standard Library is a vast collection of modules and packages that come bundled with python, providing a wide range of functionalities out of the box.\n",
    "\n",
    "Here's an overview of some of the mosst commonly used modules and packages in the python Standard Library."
   ],
   "id": "205a06dccc77381f"
  },
  {
   "metadata": {
    "ExecuteTime": {
     "end_time": "2025-06-27T06:43:41.347414Z",
     "start_time": "2025-06-27T06:43:41.340645Z"
    }
   },
   "cell_type": "code",
   "source": [
    "import array\n",
    "arr = array.array('i',[1,2,3,4,5])\n",
    "print(arr)"
   ],
   "id": "71d746d71167376e",
   "outputs": [
    {
     "name": "stdout",
     "output_type": "stream",
     "text": [
      "array('i', [1, 2, 3, 4, 5])\n"
     ]
    }
   ],
   "execution_count": 23
  },
  {
   "metadata": {
    "ExecuteTime": {
     "end_time": "2025-06-27T06:44:24.912271Z",
     "start_time": "2025-06-27T06:44:24.904447Z"
    }
   },
   "cell_type": "code",
   "source": [
    "import math\n",
    "print(sqrt(16))\n",
    "print(pi)"
   ],
   "id": "8088b95057b4183b",
   "outputs": [
    {
     "name": "stdout",
     "output_type": "stream",
     "text": [
      "4.0\n",
      "3.141592653589793\n"
     ]
    }
   ],
   "execution_count": 24
  },
  {
   "metadata": {
    "ExecuteTime": {
     "end_time": "2025-06-27T06:47:32.050260Z",
     "start_time": "2025-06-27T06:47:32.046411Z"
    }
   },
   "cell_type": "code",
   "source": [
    "# Random\n",
    "import random\n",
    "print(random.randint(1, 99))  # Random integer between 1 and 10\n",
    "print(random.choice([\"Apple\",\"Banana\",\"Cherry\"]))"
   ],
   "id": "3a28f514a0ebc38c",
   "outputs": [
    {
     "name": "stdout",
     "output_type": "stream",
     "text": [
      "83\n",
      "Banana\n"
     ]
    }
   ],
   "execution_count": 33
  },
  {
   "metadata": {
    "ExecuteTime": {
     "end_time": "2025-06-27T06:51:05.015356Z",
     "start_time": "2025-06-27T06:51:05.011166Z"
    }
   },
   "cell_type": "code",
   "source": [
    "# File and Directory Access\n",
    "\n",
    "import os\n",
    "print(os.getcwd())\n"
   ],
   "id": "ff5bfdfda89ee550",
   "outputs": [
    {
     "name": "stdout",
     "output_type": "stream",
     "text": [
      "S:\\Internship\\Funnmedia\n"
     ]
    }
   ],
   "execution_count": 36
  },
  {
   "metadata": {
    "ExecuteTime": {
     "end_time": "2025-06-27T06:58:51.329747Z",
     "start_time": "2025-06-27T06:58:51.266646Z"
    }
   },
   "cell_type": "code",
   "source": [
    "# High Level Operation on files and collection of files\n",
    "import shutil\n",
    "shutil.copyfile(\"requirements.txt\", \"requied lib.txt\")"
   ],
   "id": "443239c7f50e053",
   "outputs": [
    {
     "data": {
      "text/plain": [
       "'requied lib.txt'"
      ]
     },
     "execution_count": 37,
     "metadata": {},
     "output_type": "execute_result"
    }
   ],
   "execution_count": 37
  },
  {
   "metadata": {
    "ExecuteTime": {
     "end_time": "2025-06-27T07:02:37.561819Z",
     "start_time": "2025-06-27T07:02:37.530648Z"
    }
   },
   "cell_type": "code",
   "source": [
    "# Data Serialization\n",
    "import json\n",
    "data = {\"name\": \"Aryan\", \"age\": 20, \"city\": \"Ahmedabad\"}\n",
    "json_str = json.dumps(data)\n",
    "print(json_str)\n",
    "print(type(json_str))\n",
    "\n",
    "# json.loads(json_str)  # Convert JSON string back to Python object\n",
    "parsed_data = json.loads(json_str)\n",
    "print (parsed_data)\n",
    "print(type(parsed_data))"
   ],
   "id": "ca77fd331d4a0ab1",
   "outputs": [
    {
     "name": "stdout",
     "output_type": "stream",
     "text": [
      "{\"name\": \"Aryan\", \"age\": 20, \"city\": \"Ahmedabad\"}\n",
      "<class 'str'>\n",
      "{'name': 'Aryan', 'age': 20, 'city': 'Ahmedabad'}\n",
      "<class 'dict'>\n"
     ]
    }
   ],
   "execution_count": 40
  },
  {
   "metadata": {
    "ExecuteTime": {
     "end_time": "2025-06-27T07:13:47.488619Z",
     "start_time": "2025-06-27T07:13:47.309744Z"
    }
   },
   "cell_type": "code",
   "source": [
    "# CSV\n",
    "\n",
    "import csv\n",
    "with open('example.csv', mode = 'w', newline='') as file:\n",
    "    writer = csv.writer(file)\n",
    "    writer.writerow(['Name', 'Age', 'state'])\n",
    "    writer.writerow(['Aryan', 20, 'Gujarat'])\n",
    "    writer.writerow(['Bob', 25, 'Los Angeles'])\n",
    "\n",
    "with open('example.csv', mode = 'r') as file:\n",
    "    reader = csv.reader(file)\n",
    "    for row in reader:\n",
    "        print(row)"
   ],
   "id": "f1f010a38d9df835",
   "outputs": [
    {
     "name": "stdout",
     "output_type": "stream",
     "text": [
      "['Name', 'Age', 'state']\n",
      "['Aryan', '20', 'Gujarat']\n",
      "['Bob', '25', 'Los Angeles']\n"
     ]
    }
   ],
   "execution_count": 41
  },
  {
   "metadata": {
    "ExecuteTime": {
     "end_time": "2025-06-27T07:16:23.504463Z",
     "start_time": "2025-06-27T07:16:23.498382Z"
    }
   },
   "cell_type": "code",
   "source": [
    "# Date and time\n",
    "\n",
    "from datetime import datetime, timedelta\n",
    "now =  datetime.now()\n",
    "print(\"Current date and time:\", now)\n",
    "\n",
    "yesterday = now-timedelta(days=1)\n",
    "print(\"Yesterday's date and time:\", yesterday)"
   ],
   "id": "b19bb62e335cb30c",
   "outputs": [
    {
     "name": "stdout",
     "output_type": "stream",
     "text": [
      "Current date and time: 2025-06-27 12:46:23.502080\n",
      "Yesterday's date and time: 2025-06-26 12:46:23.502080\n"
     ]
    }
   ],
   "execution_count": 43
  },
  {
   "metadata": {
    "ExecuteTime": {
     "end_time": "2025-06-27T07:17:31.139674Z",
     "start_time": "2025-06-27T07:17:30.117879Z"
    }
   },
   "cell_type": "code",
   "source": [
    "# time\n",
    "\n",
    "import time\n",
    "print(time.time())\n",
    "time.sleep(1)\n",
    "print(\"1 second later\")\n",
    "print (time.time())"
   ],
   "id": "e025ee0637557c9b",
   "outputs": [
    {
     "name": "stdout",
     "output_type": "stream",
     "text": [
      "1751008650.136352\n",
      "1 second later\n",
      "1751008651.1378472\n"
     ]
    }
   ],
   "execution_count": 44
  },
  {
   "metadata": {
    "ExecuteTime": {
     "end_time": "2025-06-27T07:19:15.774593Z",
     "start_time": "2025-06-27T07:19:15.767563Z"
    }
   },
   "cell_type": "code",
   "source": [
    "# Regular Expressions\n",
    "\n",
    "import re\n",
    "\n",
    "pattern = r'\\d+'\n",
    "text = \"There are 123 apples.\"\n",
    "match_pattern = re.search(pattern, text)\n",
    "print (match_pattern.group())  # Output: 123"
   ],
   "id": "255fa67166b7e721",
   "outputs": [
    {
     "name": "stdout",
     "output_type": "stream",
     "text": [
      "123\n"
     ]
    }
   ],
   "execution_count": 46
  }
 ],
 "metadata": {
  "kernelspec": {
   "display_name": "Python 3",
   "language": "python",
   "name": "python3"
  },
  "language_info": {
   "codemirror_mode": {
    "name": "ipython",
    "version": 2
   },
   "file_extension": ".py",
   "mimetype": "text/x-python",
   "name": "python",
   "nbconvert_exporter": "python",
   "pygments_lexer": "ipython2",
   "version": "2.7.6"
  }
 },
 "nbformat": 4,
 "nbformat_minor": 5
}
