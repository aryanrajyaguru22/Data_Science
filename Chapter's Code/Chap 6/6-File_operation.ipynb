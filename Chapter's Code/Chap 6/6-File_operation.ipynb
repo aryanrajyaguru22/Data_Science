{
 "cells": [
  {
   "metadata": {},
   "cell_type": "markdown",
   "source": "# File Operation - Read and Write #",
   "id": "5e83da70f32562b4"
  },
  {
   "metadata": {},
   "cell_type": "markdown",
   "source": [
    "File Handling is a crucial part of any programming language.\n",
    "\n",
    "python provides built-in functions and methods to read from and write tofiles, both text and binary.\n",
    "\n",
    "This Lesson will cover the basics of file handling including reading and writing text files and binary files."
   ],
   "id": "3986436b097f964b"
  },
  {
   "cell_type": "code",
   "id": "initial_id",
   "metadata": {
    "collapsed": true,
    "ExecuteTime": {
     "end_time": "2025-06-27T09:43:07.147968Z",
     "start_time": "2025-06-27T09:43:07.121857Z"
    }
   },
   "source": [
    "# Read A whole file\n",
    "\n",
    "with open('example.txt', 'r') as file:\n",
    "    content = file.read()\n",
    "    print(content)"
   ],
   "outputs": [
    {
     "name": "stdout",
     "output_type": "stream",
     "text": [
      "Hello World!\n",
      "Hello Aryan\n",
      "This is a new line that will be overwrite \n",
      "This is a new line that will be appended \n",
      "This is another new line that will be appended \n",
      "\n"
     ]
    }
   ],
   "execution_count": 8
  },
  {
   "metadata": {
    "ExecuteTime": {
     "end_time": "2025-06-27T09:43:07.237016Z",
     "start_time": "2025-06-27T09:43:07.229585Z"
    }
   },
   "cell_type": "code",
   "source": [
    "# Read A file line by line\n",
    "\n",
    "with open('example.txt', 'r') as file :\n",
    "    for line in file :\n",
    "        print(line.strip()) #strip() removes the newline character at the end of each line"
   ],
   "id": "d9b173dcebfd5a3d",
   "outputs": [
    {
     "name": "stdout",
     "output_type": "stream",
     "text": [
      "Hello World!\n",
      "Hello Aryan\n",
      "This is a new line that will be overwrite\n",
      "This is a new line that will be appended\n",
      "This is another new line that will be appended\n"
     ]
    }
   ],
   "execution_count": 9
  },
  {
   "metadata": {
    "ExecuteTime": {
     "end_time": "2025-06-27T09:43:07.266718Z",
     "start_time": "2025-06-27T09:43:07.262443Z"
    }
   },
   "cell_type": "code",
   "source": [
    "# Writing a file( overwriting)\n",
    "\n",
    "with open ('example.txt', 'w') as file:\n",
    "    file.write('Hello World!\\n')\n",
    "    file.write('Hello Aryan\\n')\n",
    "    file.write('This is a new line that will be overwrite \\n')\n"
   ],
   "id": "271f0d9f423dc2d2",
   "outputs": [],
   "execution_count": 10
  },
  {
   "metadata": {
    "ExecuteTime": {
     "end_time": "2025-06-27T09:43:07.287913Z",
     "start_time": "2025-06-27T09:43:07.282551Z"
    }
   },
   "cell_type": "code",
   "source": [
    "# Writing a file (appending)\n",
    "\n",
    "with open ('example.txt', 'a') as file :\n",
    "    file.write('This is a new line that will be appended \\n')\n",
    "    file.write('This is another new line that will be appended \\n')\n"
   ],
   "id": "9aad2eae8d30c55f",
   "outputs": [],
   "execution_count": 11
  },
  {
   "metadata": {
    "ExecuteTime": {
     "end_time": "2025-06-27T09:45:44.746378Z",
     "start_time": "2025-06-27T09:45:44.740009Z"
    }
   },
   "cell_type": "code",
   "source": [
    "# Writing a list of lines to a file\n",
    "line = ['\\nThis is the first line\\n', 'This is the second line\\n', 'This is the third line\\n']\n",
    "\n",
    "with open('example.txt', 'a') as file:\n",
    "    file.writelines(line)\n"
   ],
   "id": "34eb12f0f1b73c91",
   "outputs": [],
   "execution_count": 14
  },
  {
   "metadata": {
    "ExecuteTime": {
     "end_time": "2025-06-27T09:48:23.711536Z",
     "start_time": "2025-06-27T09:48:23.704759Z"
    }
   },
   "cell_type": "code",
   "source": [
    "# Binary File\n",
    "\n",
    "data = b'\\x01\\x02\\x03\\x04'\n",
    "with open('example.bin', 'wb') as file:\n",
    "    file.write(data)\n"
   ],
   "id": "1cf3a10dd1ab58f1",
   "outputs": [],
   "execution_count": 15
  },
  {
   "metadata": {
    "ExecuteTime": {
     "end_time": "2025-06-27T09:49:43.218128Z",
     "start_time": "2025-06-27T09:49:43.196750Z"
    }
   },
   "cell_type": "code",
   "source": [
    "# Reading A binary file\n",
    "\n",
    "with open('example.bin', 'rb') as file:\n",
    "    binary_data = file.read()\n",
    "    print(binary_data)  # Output: b'\\x01\\x02\\x03\\x04'"
   ],
   "id": "40852fb45fee990c",
   "outputs": [
    {
     "name": "stdout",
     "output_type": "stream",
     "text": [
      "b'\\x01\\x02\\x03\\x04'\n"
     ]
    }
   ],
   "execution_count": 16
  },
  {
   "metadata": {
    "ExecuteTime": {
     "end_time": "2025-06-27T09:55:14.220865Z",
     "start_time": "2025-06-27T09:55:14.213824Z"
    }
   },
   "cell_type": "code",
   "source": [
    "# Read the content of from source file and write to a destination text file\n",
    "\n",
    "# copying a text file\n",
    "\n",
    "with open('example.txt', 'r') as file:\n",
    "    content = file.read()\n",
    "with open('des.txt', 'w') as  des_file:\n",
    "    des_file.write(content)"
   ],
   "id": "32b2b19b3e89042a",
   "outputs": [],
   "execution_count": 19
  },
  {
   "metadata": {
    "ExecuteTime": {
     "end_time": "2025-06-27T10:00:46.915002Z",
     "start_time": "2025-06-27T10:00:46.866778Z"
    }
   },
   "cell_type": "code",
   "source": [
    "# Counting the number of lines in a file and count the number of words in a file\n",
    "def count_text_file(file_path):\n",
    "    with open(file_path, 'r') as file:\n",
    "        lines = file.readlines()\n",
    "        line_count = len(lines)\n",
    "        word_count = sum(len(line.split()) for line in lines)\n",
    "        char_count = sum(len(line) for line in lines)\n",
    "    return line_count, word_count, char_count\n",
    "\n",
    "file_path = 'example.txt'\n",
    "lines,words, characters = count_text_file(file_path)\n",
    "print(f\"Lines: {lines}, Words: {words}, Characters: {characters}\")\n"
   ],
   "id": "b32e6a755d458907",
   "outputs": [
    {
     "name": "stdout",
     "output_type": "stream",
     "text": [
      "Lines: 12, Words: 61, Characters: 297\n"
     ]
    }
   ],
   "execution_count": 20
  },
  {
   "metadata": {
    "ExecuteTime": {
     "end_time": "2025-06-27T10:08:51.767265Z",
     "start_time": "2025-06-27T10:08:51.758671Z"
    }
   },
   "cell_type": "code",
   "source": [
    "# Writing and then reading a file\n",
    "\n",
    "with open('example.txt', 'w+') as file:\n",
    "    file.write(\"Hello World! \\n\")\n",
    "    file.write(\"This is a new line \\n\")\n",
    "\n",
    "    # move the file cursor to the beginning of the file\n",
    "    file.seek(0)\n",
    "\n",
    "    # Read the content of the file\n",
    "    content = file.read()\n",
    "    print(content)\n"
   ],
   "id": "30f95b5cb9c9e43d",
   "outputs": [
    {
     "name": "stdout",
     "output_type": "stream",
     "text": [
      "Hello World! \n",
      "This is a new line \n",
      "\n"
     ]
    }
   ],
   "execution_count": 25
  },
  {
   "metadata": {
    "ExecuteTime": {
     "end_time": "2025-06-27T10:12:06.526690Z",
     "start_time": "2025-06-27T10:12:06.486782Z"
    }
   },
   "cell_type": "code",
   "source": [
    "#create a new directory\n",
    "import os\n",
    "new_directory = \"package\"\n",
    "os.mkdir(new_directory)\n",
    "print (f\"Directory '{new_directory}' created.\")"
   ],
   "id": "8150a3cf6ca903f3",
   "outputs": [
    {
     "name": "stdout",
     "output_type": "stream",
     "text": [
      "Directory 'package' created.\n"
     ]
    }
   ],
   "execution_count": 26
  },
  {
   "metadata": {
    "ExecuteTime": {
     "end_time": "2025-06-27T10:14:07.705790Z",
     "start_time": "2025-06-27T10:14:07.676837Z"
    }
   },
   "cell_type": "code",
   "source": [
    "#  Listing all files and directories\n",
    "items= os.listdir('.')\n",
    "print(items)"
   ],
   "id": "84e14f5780d24841",
   "outputs": [
    {
     "name": "stdout",
     "output_type": "stream",
     "text": [
      "['6-File_operation.ipynb', 'des.txt', 'example.bin', 'example.txt', 'package']\n"
     ]
    }
   ],
   "execution_count": 27
  },
  {
   "metadata": {
    "ExecuteTime": {
     "end_time": "2025-06-27T10:16:30.927046Z",
     "start_time": "2025-06-27T10:16:30.910324Z"
    }
   },
   "cell_type": "code",
   "source": [
    "# Joining paths\n",
    "\n",
    "dir_name = \"folder\"\n",
    "file_name = \"file.txt\"\n",
    "full_path = os.path.join(dir_name, file_name)\n",
    "print(full_path)"
   ],
   "id": "9756b94d9210a97f",
   "outputs": [
    {
     "name": "stdout",
     "output_type": "stream",
     "text": [
      "folder\\file.txt\n"
     ]
    }
   ],
   "execution_count": 28
  },
  {
   "metadata": {
    "ExecuteTime": {
     "end_time": "2025-06-27T10:17:19.094576Z",
     "start_time": "2025-06-27T10:17:19.083007Z"
    }
   },
   "cell_type": "code",
   "source": [
    "\n",
    "dir_name = \"folder\"\n",
    "file_name = \"file.txt\"\n",
    "full_path = os.path.join( os.getcwd(),dir_name, file_name)\n",
    "print(full_path)"
   ],
   "id": "98bacd5b131599a3",
   "outputs": [
    {
     "name": "stdout",
     "output_type": "stream",
     "text": [
      "S:\\Internship\\Funnmedia\\Chapter's Code\\Chap 6\\folder\\file.txt\n"
     ]
    }
   ],
   "execution_count": 29
  },
  {
   "metadata": {
    "ExecuteTime": {
     "end_time": "2025-06-27T10:21:41.914856Z",
     "start_time": "2025-06-27T10:21:33.900511Z"
    }
   },
   "cell_type": "code",
   "source": [
    "path = str(input(\"enter the path of the file you want to check:\"))\n",
    "if os.path.exists(path):\n",
    "    print(f\"The file {path} exists.\")\n",
    "else:\n",
    "    print(f\"The File {path} does not exists.\")"
   ],
   "id": "8dbbacfe3c0cee58",
   "outputs": [
    {
     "name": "stdout",
     "output_type": "stream",
     "text": [
      "The File ex.txt does not exists.\n"
     ]
    }
   ],
   "execution_count": 35
  },
  {
   "metadata": {
    "ExecuteTime": {
     "end_time": "2025-06-27T10:32:50.102614Z",
     "start_time": "2025-06-27T10:32:44.291773Z"
    }
   },
   "cell_type": "code",
   "source": [
    "# Checking if a path is a file or Directory\n",
    "import os\n",
    "\n",
    "path = str(input(\"enter the path of the file you want to check:\"))\n",
    "\n",
    "if os.path.isfile(path):\n",
    "    print(f\"The Path {path} is a file.\")\n",
    "elif os.path.isdir(path):\n",
    "    print(f\"The Path {path} is a directory.\")\n",
    "else:\n",
    "    print(f\"The Path {path} is neither a file or directory.\")"
   ],
   "id": "4b86b541327d7a7a",
   "outputs": [
    {
     "name": "stdout",
     "output_type": "stream",
     "text": [
      "The Path Chap 1 is neither a file or directory.\n"
     ]
    }
   ],
   "execution_count": 38
  },
  {
   "metadata": {
    "ExecuteTime": {
     "end_time": "2025-06-27T10:34:49.362563Z",
     "start_time": "2025-06-27T10:34:49.332402Z"
    }
   },
   "cell_type": "code",
   "source": [
    "# Getting the Absolute path of a file\n",
    "\n",
    "relative_path = 'example.txt'\n",
    "absolute_path = os.path.abspath(relative_path)\n",
    "print(f\"The absolute path of {relative_path} is {absolute_path}\")"
   ],
   "id": "ebdc68589f07ae34",
   "outputs": [
    {
     "name": "stdout",
     "output_type": "stream",
     "text": [
      "The absolute path of example.txt is S:\\Internship\\Funnmedia\\Chapter's Code\\Chap 6\\example.txt\n"
     ]
    }
   ],
   "execution_count": 39
  }
 ],
 "metadata": {
  "kernelspec": {
   "display_name": "Python 3",
   "language": "python",
   "name": "python3"
  },
  "language_info": {
   "codemirror_mode": {
    "name": "ipython",
    "version": 2
   },
   "file_extension": ".py",
   "mimetype": "text/x-python",
   "name": "python",
   "nbconvert_exporter": "python",
   "pygments_lexer": "ipython2",
   "version": "2.7.6"
  }
 },
 "nbformat": 4,
 "nbformat_minor": 5
}
