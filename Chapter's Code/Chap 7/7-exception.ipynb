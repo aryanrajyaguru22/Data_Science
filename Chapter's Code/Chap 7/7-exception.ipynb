{
 "cells": [
  {
   "cell_type": "markdown",
   "id": "13adcdb2",
   "metadata": {},
   "source": [
    "# Understanding Exceptions #"
   ]
  },
  {
   "cell_type": "markdown",
   "id": "cbb1a47e",
   "metadata": {},
   "source": [
    "Exception Handling in python allows you to handle error gracefully and take corrective actions without stopping the execution of the program.\n",
    "\n",
    "This lesson will cover the basics of exception, including how to use try,except, else, and finally blocks."
   ]
  },
  {
   "cell_type": "markdown",
   "id": "05b68697",
   "metadata": {},
   "source": [
    "Exceptions are events that disrupt the normal flow of a program.\n",
    "\n",
    "They occur when an error is encountered during program exception.\n",
    "\n",
    "Common Exceptions include:\n",
    "\n",
    "ZeroDivisionError: Dividing by Zero.\n",
    "\n",
    "FileNotFoundError: File Not found.\n",
    "\n",
    "ValueError: Invalid Value\n",
    "\n",
    "TypeError: Invalid Type\n",
    "\n",
    "NameError: Variable not defined\n"
   ]
  },
  {
   "cell_type": "code",
   "id": "a4eb2992",
   "metadata": {
    "ExecuteTime": {
     "end_time": "2025-06-27T11:34:27.789236Z",
     "start_time": "2025-06-27T11:34:27.779584Z"
    }
   },
   "source": [
    "# Exception try,except block\n",
    "try:\n",
    "    a = b\n",
    "except NameError as e:\n",
    "    print(e)\n"
   ],
   "outputs": [
    {
     "name": "stdout",
     "output_type": "stream",
     "text": [
      "name 'b' is not defined\n"
     ]
    }
   ],
   "execution_count": 7
  },
  {
   "metadata": {
    "ExecuteTime": {
     "end_time": "2025-06-27T11:36:42.383828Z",
     "start_time": "2025-06-27T11:36:42.376318Z"
    }
   },
   "cell_type": "code",
   "source": [
    "try:\n",
    "    result = 1/0\n",
    "except ZeroDivisionError as e:\n",
    "    print(e)\n",
    "    print(\"Please enter the denominator greater than zero\")"
   ],
   "id": "5abc61221ea05b01",
   "outputs": [
    {
     "name": "stdout",
     "output_type": "stream",
     "text": [
      "division by zero\n",
      "Please enter the denominator greater than zero\n"
     ]
    }
   ],
   "execution_count": 9
  },
  {
   "metadata": {
    "ExecuteTime": {
     "end_time": "2025-06-27T11:39:28.308852Z",
     "start_time": "2025-06-27T11:39:28.302888Z"
    }
   },
   "cell_type": "code",
   "source": [
    "try:\n",
    "    result = 1/2\n",
    "    a = b\n",
    "except ZeroDivisionError as e:\n",
    "    print(e)\n",
    "    print(\"Please enter the denominator greater than zero\")\n",
    "except Exception as e1:\n",
    "    print(e1)\n",
    "    print(\"Main exception got caught here\")"
   ],
   "id": "7822ec331496b218",
   "outputs": [
    {
     "name": "stdout",
     "output_type": "stream",
     "text": [
      "name 'b' is not defined\n",
      "Main exception got caught here\n"
     ]
    }
   ],
   "execution_count": 13
  },
  {
   "metadata": {
    "ExecuteTime": {
     "end_time": "2025-06-27T11:45:44.506804Z",
     "start_time": "2025-06-27T11:45:36.001767Z"
    }
   },
   "cell_type": "code",
   "source": [
    "    try :\n",
    "        num =  int(input(\"Enter a number:\"))\n",
    "        result = 10/num\n",
    "    except ValueError:\n",
    "        print(\"This is not a valid number\")\n",
    "    except ZeroDivisionError:\n",
    "        print(\"Enter Denominator greater then 0\")\n",
    "    except Exception as ex :\n",
    "        print(ex)\n"
   ],
   "id": "5019a1aaed1e4edc",
   "outputs": [
    {
     "name": "stdout",
     "output_type": "stream",
     "text": [
      "This is not a valid number\n"
     ]
    }
   ],
   "execution_count": 19
  },
  {
   "metadata": {
    "ExecuteTime": {
     "end_time": "2025-06-27T11:54:42.157763Z",
     "start_time": "2025-06-27T11:54:38.538021Z"
    }
   },
   "cell_type": "code",
   "source": [
    "# Try,except , else block\n",
    "\n",
    "try:\n",
    "    num = int(input(\"Enter a number:\"))\n",
    "    result = 10/num\n",
    "except ValueError:\n",
    "    print(\"This is not a valid number\")\n",
    "except ZeroDivisionError:\n",
    "    print(\"You can't divide by zero\")\n",
    "except Exception as ex :\n",
    "    print(ex)\n",
    "else:\n",
    "    print(\"result is\", result)\n",
    "finally:\n",
    "    print(\"Execution completed\")\n",
    "\n"
   ],
   "id": "da8bca902796c767",
   "outputs": [
    {
     "name": "stdout",
     "output_type": "stream",
     "text": [
      "result is 0.5\n",
      "Execution completed\n"
     ]
    }
   ],
   "execution_count": 29
  },
  {
   "metadata": {
    "ExecuteTime": {
     "end_time": "2025-06-27T11:59:09.504119Z",
     "start_time": "2025-06-27T11:59:09.481361Z"
    }
   },
   "cell_type": "code",
   "source": [
    "# File Handling and Exception Handling\n",
    "try:\n",
    "    file=open('file.txt','r')\n",
    "    content = file.read()\n",
    "    print(content)\n",
    "except FileNotFoundError as e:\n",
    "    print(\"File not found, please check the file path\")\n",
    "except Exception as e:\n",
    "    print(\"An error occurred:\", e)\n",
    "else:\n",
    "    print(\"File read successfully\")\n",
    "finally:\n",
    "    if 'file' in locals():\n",
    "        file.close()\n",
    "        print(\"File closed\")\n",
    "    else:\n",
    "        print(\"File was not opened, no need to close\")"
   ],
   "id": "3ee0f5cac8b96e95",
   "outputs": [
    {
     "name": "stdout",
     "output_type": "stream",
     "text": [
      "File not found, please check the file path\n",
      "File was not opened, no need to close\n"
     ]
    }
   ],
   "execution_count": 30
  }
 ],
 "metadata": {
  "kernelspec": {
   "display_name": "myvenv",
   "language": "python",
   "name": "python3"
  },
  "language_info": {
   "codemirror_mode": {
    "name": "ipython",
    "version": 3
   },
   "file_extension": ".py",
   "mimetype": "text/x-python",
   "name": "python",
   "nbconvert_exporter": "python",
   "pygments_lexer": "ipython3",
   "version": "3.13.1"
  }
 },
 "nbformat": 4,
 "nbformat_minor": 5
}
