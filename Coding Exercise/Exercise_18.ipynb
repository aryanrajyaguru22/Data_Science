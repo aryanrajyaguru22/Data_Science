{
 "cells": [
  {
   "metadata": {},
   "cell_type": "markdown",
   "source": [
    "# Words Frequency in a Sentence #\n",
    "Count Word Frequency\n",
    "\n",
    "Design a Python function named count_word_frequency to count the frequency of words in a sentence and store the counts in a dictionary.\n",
    "\n",
    "Parameters:\n",
    "\n",
    "sentence (str): The input sentence where you need to count the frequency of each word.\n",
    "\n",
    "Returns:\n",
    "\n",
    "A dictionary where the keys are words from the sentence and the values are their corresponding frequencies.\n",
    "\n",
    "Example:\n",
    "\n",
    "Input: \"hello world hello\"\n",
    "Output: {'hello': 2, 'world': 1}\n",
    "\n",
    "Input: \"the quick brown fox jumps over the lazy dog\"\n",
    "Output: {'the': 2, 'quick': 1, 'brown': 1, 'fox': 1, 'jumps': 1, 'over': 1, 'lazy': 1, 'dog': 1}"
   ],
   "id": "29cd55fc3d0ee8f7"
  },
  {
   "cell_type": "code",
   "id": "initial_id",
   "metadata": {
    "collapsed": true,
    "ExecuteTime": {
     "end_time": "2025-06-26T13:01:01.089496Z",
     "start_time": "2025-06-26T13:01:01.083904Z"
    }
   },
   "source": [
    "def count_word_frequency(sentence):\n",
    "  \"\"\"\n",
    "  Counts the frequency of words in a sentence and stores the counts\n",
    "  in a dictionary.\n",
    "\n",
    "  Parameters:\n",
    "    sentence (str): The input sentence.\n",
    "\n",
    "  Returns:\n",
    "    A dictionary where keys are words and values are their frequencies.\n",
    "  \"\"\"\n",
    "  # 1. Pre-process the sentence: convert to lowercase to treat words like\n",
    "  #    \"The\" and \"the\" as the same, then split it into a list of words.\n",
    "  words = sentence.lower().split()\n",
    "\n",
    "  # 2. Create an empty dictionary to store the word counts.\n",
    "  frequency_dict = {}\n",
    "\n",
    "  # 3. Iterate through the list of words.\n",
    "  for word in words:\n",
    "    # For each word, get its current count from the dictionary.\n",
    "    # If the word isn't in the dictionary yet, .get() returns the default value 0.\n",
    "    # Then, add 1 to the count and update the dictionary.\n",
    "    frequency_dict[word] = frequency_dict.get(word, 0) + 1\n",
    "\n",
    "  # 4. Return the completed dictionary.\n",
    "  return frequency_dict\n",
    "\n",
    "# --- Testing with the provided examples ---\n",
    "\n",
    "if __name__ == \"__main__\":\n",
    "  # Example 1:\n",
    "  sentence1 = \"hello world hello\"\n",
    "  frequency1 = count_word_frequency(sentence1)\n",
    "  print(f\"Input: \\\"{sentence1}\\\"\")\n",
    "  print(f\"Output: {frequency1}\")\n",
    "\n",
    "  print(\"-\" * 20)\n",
    "\n",
    "  # Example 2:\n",
    "  sentence2 = \"the quick brown fox jumps over the lazy dog\"\n",
    "  frequency2 = count_word_frequency(sentence2)\n",
    "  print(f\"Input: \\\"{sentence2}\\\"\")\n",
    "  print(f\"Output: {frequency2}\")"
   ],
   "outputs": [
    {
     "name": "stdout",
     "output_type": "stream",
     "text": [
      "Input: \"hello world hello\"\n",
      "Output: {'hello': 2, 'world': 1}\n",
      "--------------------\n",
      "Input: \"the quick brown fox jumps over the lazy dog\"\n",
      "Output: {'the': 2, 'quick': 1, 'brown': 1, 'fox': 1, 'jumps': 1, 'over': 1, 'lazy': 1, 'dog': 1}\n"
     ]
    }
   ],
   "execution_count": 1
  }
 ],
 "metadata": {
  "kernelspec": {
   "display_name": "Python 3",
   "language": "python",
   "name": "python3"
  },
  "language_info": {
   "codemirror_mode": {
    "name": "ipython",
    "version": 2
   },
   "file_extension": ".py",
   "mimetype": "text/x-python",
   "name": "python",
   "nbconvert_exporter": "python",
   "pygments_lexer": "ipython2",
   "version": "2.7.6"
  }
 },
 "nbformat": 4,
 "nbformat_minor": 5
}
