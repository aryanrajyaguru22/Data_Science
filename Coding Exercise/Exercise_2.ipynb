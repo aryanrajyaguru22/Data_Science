{
 "cells": [
  {
   "metadata": {},
   "cell_type": "markdown",
   "source": [
    "# Area of a Rectangle #\n",
    "Problem Description:\n",
    "\n",
    "You are given the length and breadth of a rectangle. Your task is to compute and return the area of the rectangle.\n",
    "\n",
    "Formula:\n",
    "\n",
    "To calculate the area of a rectangle:\n",
    "\n",
    "Area=length×breadth\n",
    "\n",
    "\n",
    "\n",
    "Input:\n",
    "\n",
    "Two floating-point numbers, length and breadth, representing the dimensions of the rectangle.\n",
    "\n",
    "\n",
    "\n",
    "Output:\n",
    "\n",
    "A floating-point number representing the area of the rectangle.\n",
    "\n",
    "\n",
    "\n",
    "Example:\n",
    "\n",
    "Input: length = 5, breadth = 3\n",
    "Output: 15.0\n",
    "\n",
    "Input: length = 7.5, breadth = 2.4\n",
    "Output: 18.0"
   ],
   "id": "4bcc9bf1000066a"
  },
  {
   "cell_type": "code",
   "id": "initial_id",
   "metadata": {
    "collapsed": true,
    "ExecuteTime": {
     "end_time": "2025-06-26T12:19:22.308357Z",
     "start_time": "2025-06-26T12:19:22.303842Z"
    }
   },
   "source": [
    "# The grading system expects your function to be named exactly like this.\n",
    "def area_of_rectangle(length, breadth):\n",
    "  \"\"\"\n",
    "  Calculates the area of a rectangle.\n",
    "\n",
    "  Args:\n",
    "    length: A floating-point number representing the length of the rectangle.\n",
    "    breadth: A floating-point number representing the breadth of the rectangle.\n",
    "\n",
    "  Returns:\n",
    "    A floating-point number representing the area of the rectangle.\n",
    "  \"\"\"\n",
    "  area = length * breadth\n",
    "  return area\n",
    "\n",
    "# Your personal test cases are fine to keep.\n",
    "# The grading system will ignore this part when it imports your function.\n",
    "# Using 'if __name__ == \"__main__\":' is a good practice for this.\n",
    "if __name__ == \"__main__\":\n",
    "  # Example 1:\n",
    "  length1 = 5\n",
    "  breadth1 = 3\n",
    "  area1 = area_of_rectangle(length1, breadth1)\n",
    "  print(f\"Input: length = {length1}, breadth = {breadth1}\")\n",
    "  print(f\"Output: {area1}\")\n",
    "\n",
    "  print(\"-\" * 20)\n",
    "\n",
    "  # Example 2:\n",
    "  length2 = 7.5\n",
    "  breadth2 = 2.4\n",
    "  area2 = area_of_rectangle(length2, breadth2)\n",
    "  print(f\"Input: length = {length2}, breadth = {breadth2}\")\n",
    "  print(f\"Output: {area2}\")"
   ],
   "outputs": [
    {
     "name": "stdout",
     "output_type": "stream",
     "text": [
      "Input: length = 5, breadth = 3\n",
      "Output: 15\n",
      "--------------------\n",
      "Input: length = 7.5, breadth = 2.4\n",
      "Output: 18.0\n"
     ]
    }
   ],
   "execution_count": 1
  }
 ],
 "metadata": {
  "kernelspec": {
   "display_name": "Python 3",
   "language": "python",
   "name": "python3"
  },
  "language_info": {
   "codemirror_mode": {
    "name": "ipython",
    "version": 2
   },
   "file_extension": ".py",
   "mimetype": "text/x-python",
   "name": "python",
   "nbconvert_exporter": "python",
   "pygments_lexer": "ipython2",
   "version": "2.7.6"
  }
 },
 "nbformat": 4,
 "nbformat_minor": 5
}
