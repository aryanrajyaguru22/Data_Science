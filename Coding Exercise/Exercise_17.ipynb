{
 "cells": [
  {
   "metadata": {},
   "cell_type": "markdown",
   "source": [
    "# Merge Multiple Dictionary #\n",
    "Merge Three Dictionaries\n",
    "\n",
    "Design a Python function named merge_three_dictionaries to merge exactly three dictionaries into one.\n",
    "\n",
    "Parameters:\n",
    "\n",
    "dict1 (Dictionary): The first dictionary to be merged.\n",
    "\n",
    "dict2 (Dictionary): The second dictionary to be merged.\n",
    "\n",
    "dict3 (Dictionary): The third dictionary to be merged.\n",
    "\n",
    "Returns:\n",
    "\n",
    "A single dictionary containing all key-value pairs from the three input dictionaries.\n",
    "\n",
    "Example:\n",
    "\n",
    "Input: ({'a': 1, 'b': 2}, {'c': 3, 'd': 4}, {'e': 5, 'f': 6})\n",
    "Output: {'a': 1, 'b': 2, 'c': 3, 'd': 4, 'e': 5, 'f': 6}\n",
    "\n",
    "Input: ({'x': 10, 'y': 20}, {'z': 30}, {'a': 40, 'b': 50})\n",
    "Output: {'x': 10, 'y': 20, 'z': 30, 'a': 40, 'b': 50}"
   ],
   "id": "ec12fbb50b2b2020"
  },
  {
   "cell_type": "code",
   "id": "initial_id",
   "metadata": {
    "collapsed": true,
    "ExecuteTime": {
     "end_time": "2025-06-26T12:59:21.461062Z",
     "start_time": "2025-06-26T12:59:21.454583Z"
    }
   },
   "source": [
    "def merge_three_dictionaries(dict1, dict2, dict3):\n",
    "  \"\"\"\n",
    "  Merges exactly three dictionaries into one using dictionary unpacking.\n",
    "\n",
    "  If there are overlapping keys, the value from the right-most dictionary\n",
    "  (e.g., dict3) will overwrite the values from the dictionaries to its left.\n",
    "\n",
    "  Parameters:\n",
    "    dict1 (Dictionary): The first dictionary.\n",
    "    dict2 (Dictionary): The second dictionary.\n",
    "    dict3 (Dictionary): The third dictionary.\n",
    "\n",
    "  Returns:\n",
    "    A single dictionary containing all key-value pairs.\n",
    "  \"\"\"\n",
    "  return {**dict1, **dict2, **dict3}\n",
    "\n",
    "# --- Testing with the provided examples ---\n",
    "\n",
    "if __name__ == \"__main__\":\n",
    "  # Example 1:\n",
    "  d1a = {'a': 1, 'b': 2}\n",
    "  d2a = {'c': 3, 'd': 4}\n",
    "  d3a = {'e': 5, 'f': 6}\n",
    "  result1 = merge_three_dictionaries(d1a, d2a, d3a)\n",
    "  print(f\"Input: ({d1a}, {d2a}, {d3a})\")\n",
    "  print(f\"Output: {result1}\")\n",
    "\n",
    "  print(\"-\" * 20)\n",
    "\n",
    "  # Example 2:\n",
    "  d1b = {'x': 10, 'y': 20}\n",
    "  d2b = {'z': 30}\n",
    "  d3b = {'a': 40, 'b': 50}\n",
    "  result2 = merge_three_dictionaries(d1b, d2b, d3b)\n",
    "  print(f\"Input: ({d1b}, {d2b}, {d3b})\")\n",
    "  print(f\"Output: {result2}\")\n",
    "\n",
    "  print(\"-\" * 20)\n",
    "\n",
    "  # Example with overlapping keys to show which value is kept\n",
    "  d1c = {'a': 1, 'b': 2}\n",
    "  d2c = {'b': 99, 'c': 3} # 'b' overlaps with d1c\n",
    "  d3c = {'c': 100, 'd': 4} # 'c' overlaps with d2c\n",
    "  result3 = merge_three_dictionaries(d1c, d2c, d3c)\n",
    "  print(\"--- Testing with overlapping keys ---\")\n",
    "  print(f\"Input: ({d1c}, {d2c}, {d3c})\")\n",
    "  print(f\"Output: {result3}\")\n",
    "  print(\"Notice that the values for 'b' and 'c' are from the last dictionaries.\")"
   ],
   "outputs": [
    {
     "name": "stdout",
     "output_type": "stream",
     "text": [
      "Input: ({'a': 1, 'b': 2}, {'c': 3, 'd': 4}, {'e': 5, 'f': 6})\n",
      "Output: {'a': 1, 'b': 2, 'c': 3, 'd': 4, 'e': 5, 'f': 6}\n",
      "--------------------\n",
      "Input: ({'x': 10, 'y': 20}, {'z': 30}, {'a': 40, 'b': 50})\n",
      "Output: {'x': 10, 'y': 20, 'z': 30, 'a': 40, 'b': 50}\n",
      "--------------------\n",
      "--- Testing with overlapping keys ---\n",
      "Input: ({'a': 1, 'b': 2}, {'b': 99, 'c': 3}, {'c': 100, 'd': 4})\n",
      "Output: {'a': 1, 'b': 99, 'c': 100, 'd': 4}\n",
      "Notice that the values for 'b' and 'c' are from the last dictionaries.\n"
     ]
    }
   ],
   "execution_count": 1
  }
 ],
 "metadata": {
  "kernelspec": {
   "display_name": "Python 3",
   "language": "python",
   "name": "python3"
  },
  "language_info": {
   "codemirror_mode": {
    "name": "ipython",
    "version": 2
   },
   "file_extension": ".py",
   "mimetype": "text/x-python",
   "name": "python",
   "nbconvert_exporter": "python",
   "pygments_lexer": "ipython2",
   "version": "2.7.6"
  }
 },
 "nbformat": 4,
 "nbformat_minor": 5
}
