{
 "cells": [
  {
   "metadata": {},
   "cell_type": "markdown",
   "source": [
    "# Celsius To Fahrenheit #\n",
    "Problem Description:\n",
    "\n",
    "You are given a temperature in Celsius. Your task is to convert it to Fahrenheit and return the result.\n",
    "\n",
    "Formula:\n",
    "\n",
    "To convert Celsius to Fahrenheit, use the formula:\n",
    "\n",
    "F = (9/5 * C) + 32\n",
    "\n",
    "Where F is the temperature in Fahrenheit and C is the temperature in Celsius.\n",
    "\n",
    "\n",
    "\n",
    "Input:\n",
    "\n",
    "A floating-point number C representing the temperature in Celsius.\n",
    "\n",
    "\n",
    "\n",
    "Output:\n",
    "\n",
    "A floating-point number representing the temperature in Fahrenheit.\n",
    "\n",
    "\n",
    "\n",
    "Example:\n",
    "\n",
    "Input: C = 25\n",
    "Output: 77.0\n",
    "\n",
    "Input: C = 0\n",
    "Output: 32.0"
   ],
   "id": "1aeb76d2d50cb7a8"
  },
  {
   "cell_type": "code",
   "id": "initial_id",
   "metadata": {
    "collapsed": true,
    "ExecuteTime": {
     "end_time": "2025-06-26T12:19:19.096276Z",
     "start_time": "2025-06-26T12:19:19.090643Z"
    }
   },
   "source": [
    "def celsius_to_fahrenheit(C):\n",
    "  \"\"\"\n",
    "  Converts a temperature from Celsius to Fahrenheit.\n",
    "\n",
    "  Args:\n",
    "    C: A floating-point number representing the temperature in Celsius.\n",
    "\n",
    "  Returns:\n",
    "    A floating-point number representing the temperature in Fahrenheit.\n",
    "  \"\"\"\n",
    "  F = (9/5 * C) + 32\n",
    "  return F\n",
    "\n",
    "# --- Testing with the provided examples ---\n",
    "\n",
    "# Example 1:\n",
    "celsius_1 = 25\n",
    "fahrenheit_1 = celsius_to_fahrenheit(celsius_1)\n",
    "print(f\"Input: C = {celsius_1}\")\n",
    "print(f\"Output: {fahrenheit_1}\")\n",
    "\n",
    "print(\"-\" * 20)\n",
    "\n",
    "# Example 2:\n",
    "celsius_2 = 0\n",
    "fahrenheit_2 = celsius_to_fahrenheit(celsius_2)\n",
    "print(f\"Input: C = {celsius_2}\")\n",
    "print(f\"Output: {fahrenheit_2}\")\n",
    "\n",
    "# Example with a negative value\n",
    "celsius_3 = -10\n",
    "fahrenheit_3 = celsius_to_fahrenheit(celsius_3)\n",
    "print(\"-\" * 20)\n",
    "print(f\"Input: C = {celsius_3}\")\n",
    "print(f\"Output: {fahrenheit_3}\")"
   ],
   "outputs": [
    {
     "name": "stdout",
     "output_type": "stream",
     "text": [
      "Input: C = 25\n",
      "Output: 77.0\n",
      "--------------------\n",
      "Input: C = 0\n",
      "Output: 32.0\n",
      "--------------------\n",
      "Input: C = -10\n",
      "Output: 14.0\n"
     ]
    }
   ],
   "execution_count": 1
  }
 ],
 "metadata": {
  "kernelspec": {
   "display_name": "Python 3",
   "language": "python",
   "name": "python3"
  },
  "language_info": {
   "codemirror_mode": {
    "name": "ipython",
    "version": 2
   },
   "file_extension": ".py",
   "mimetype": "text/x-python",
   "name": "python",
   "nbconvert_exporter": "python",
   "pygments_lexer": "ipython2",
   "version": "2.7.6"
  }
 },
 "nbformat": 4,
 "nbformat_minor": 5
}
