{
 "cells": [
  {
   "metadata": {},
   "cell_type": "markdown",
   "source": [
    "# Merge 2 list into Dictionary #\n",
    "Merge Lists to Dictionary\n",
    "\n",
    "Design a Python function named merge_lists_to_dictionary to merge two lists into a dictionary where elements from the first list act as keys and elements from the second list act as values.\n",
    "\n",
    "Parameters:\n",
    "\n",
    "keys (List): A list of keys.\n",
    "\n",
    "values (List): A list of values.\n",
    "\n",
    "Returns:\n",
    "\n",
    "A dictionary containing merged key-value pairs.\n",
    "\n",
    "Example:\n",
    "\n",
    "Input: keys = ['a', 'b', 'c'], values = [1, 2, 3]\n",
    "Output: {'a': 1, 'b': 2, 'c': 3}\n",
    "\n",
    "Input: keys = ['x', 'y', 'z'], values = [10, 20, 30]\n",
    "Output: {'x': 10, 'y': 20, 'z': 30}\n",
    "\n"
   ],
   "id": "9957d33300109471"
  },
  {
   "cell_type": "code",
   "id": "initial_id",
   "metadata": {
    "collapsed": true,
    "ExecuteTime": {
     "end_time": "2025-06-26T12:56:59.859911Z",
     "start_time": "2025-06-26T12:56:59.852890Z"
    }
   },
   "source": [
    "def merge_lists_to_dictionary(keys, values):\n",
    "  \"\"\"\n",
    "  Merges two lists into a dictionary.\n",
    "\n",
    "  Returns False if the lists are of unequal length.\n",
    "\n",
    "  Parameters:\n",
    "    keys (List): A list of keys.\n",
    "    values (List): A list of values.\n",
    "\n",
    "  Returns:\n",
    "    A dictionary containing merged key-value pairs, or False if the\n",
    "    input lists have different lengths.\n",
    "  \"\"\"\n",
    "  # First, check if the lengths of the lists are equal.\n",
    "  if len(keys) != len(values):\n",
    "    # If not, return False as required by the test case.\n",
    "    return False\n",
    "\n",
    "  # If the lengths are equal, proceed with merging them into a dictionary.\n",
    "  # The zip() and dict() method is still the best way to do this part.\n",
    "  return dict(zip(keys, values))\n",
    "\n",
    "# --- Testing with the provided examples ---\n",
    "\n",
    "if __name__ == \"__main__\":\n",
    "  # Failing test case from the error message\n",
    "  keys_fail = ['key1', 'key2']\n",
    "  values_fail = [100]\n",
    "  result_fail = merge_lists_to_dictionary(keys_fail, values_fail)\n",
    "  print(f\"Input: keys = {keys_fail}, values = {values_fail}\")\n",
    "  print(f\"Output: {result_fail}\") # <-- This will now correctly be False\n",
    "\n",
    "  print(\"-\" * 20)\n",
    "\n",
    "  # Original successful example\n",
    "  keys_pass = ['a', 'b', 'c']\n",
    "  values_pass = [1, 2, 3]\n",
    "  result_pass = merge_lists_to_dictionary(keys_pass, values_pass)\n",
    "  print(f\"Input: keys = {keys_pass}, values = {values_pass}\")\n",
    "  print(f\"Output: {result_pass}\") # <-- This still works as expected"
   ],
   "outputs": [
    {
     "name": "stdout",
     "output_type": "stream",
     "text": [
      "Input: keys = ['key1', 'key2'], values = [100]\n",
      "Output: False\n",
      "--------------------\n",
      "Input: keys = ['a', 'b', 'c'], values = [1, 2, 3]\n",
      "Output: {'a': 1, 'b': 2, 'c': 3}\n"
     ]
    }
   ],
   "execution_count": 1
  }
 ],
 "metadata": {
  "kernelspec": {
   "display_name": "Python 3",
   "language": "python",
   "name": "python3"
  },
  "language_info": {
   "codemirror_mode": {
    "name": "ipython",
    "version": 2
   },
   "file_extension": ".py",
   "mimetype": "text/x-python",
   "name": "python",
   "nbconvert_exporter": "python",
   "pygments_lexer": "ipython2",
   "version": "2.7.6"
  }
 },
 "nbformat": 4,
 "nbformat_minor": 5
}
