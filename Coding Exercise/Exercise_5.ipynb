{
 "cells": [
  {
   "metadata": {},
   "cell_type": "markdown",
   "source": [
    "# Line Equation #\n",
    "Problem Description:\n",
    "\n",
    "You are given the slope m and the y-intercept b of a line, along with a value x. Your task is to calculate and return the value of y using the equation of a line in slope-intercept form:\n",
    "\n",
    "y=mx+b\n",
    "\n",
    "\n",
    "\n",
    "Input:\n",
    "\n",
    "Three floating-point numbers: slope, intercept, and x.\n",
    "\n",
    "\n",
    "\n",
    "Output:\n",
    "\n",
    "A floating-point number representing the value of yyy corresponding to the given xxx.\n",
    "\n",
    "\n",
    "\n",
    "Example:\n",
    "\n",
    "Input: slope = 2, intercept = 3, x = 4\n",
    "Output: 11.0\n",
    "\n",
    "Input: slope = 1.5, intercept = -2, x = 2\n",
    "Output: 1.0\n",
    "\n",
    "\n"
   ],
   "id": "710fc77e87e64a84"
  },
  {
   "cell_type": "code",
   "id": "initial_id",
   "metadata": {
    "collapsed": true,
    "ExecuteTime": {
     "end_time": "2025-06-26T12:23:38.468083Z",
     "start_time": "2025-06-26T12:23:38.460864Z"
    }
   },
   "source": [
    "# The testing system expects the function to be named exactly 'calculate_y'.\n",
    "def calculate_y(slope, intercept, x):\n",
    "  \"\"\"\n",
    "  Calculates the value of y for a given x using the line equation y = mx + b.\n",
    "\n",
    "  Args:\n",
    "    slope: A floating-point number 'm' in the equation.\n",
    "    intercept: A floating-point number 'b' in the equation.\n",
    "    x: A floating-point number representing the x-coordinate.\n",
    "\n",
    "  Returns:\n",
    "    A floating-point number representing the corresponding y-coordinate.\n",
    "  \"\"\"\n",
    "  # Applying the formula: y = mx + b\n",
    "  y = slope * x + intercept\n",
    "  return y\n",
    "\n",
    "# You can keep your test cases here.\n",
    "# The `if __name__ == \"__main__\":` block ensures the grader doesn't run them.\n",
    "if __name__ == \"__main__\":\n",
    "  # Example 1:\n",
    "  m1 = 2\n",
    "  b1 = 3\n",
    "  x1 = 4\n",
    "  # Call the renamed function\n",
    "  y1 = calculate_y(m1, b1, x1)\n",
    "  print(f\"Input: slope = {m1}, intercept = {b1}, x = {x1}\")\n",
    "  print(f\"Output: {y1}\")\n",
    "\n",
    "  print(\"-\" * 20)\n",
    "\n",
    "  # Example 2:\n",
    "  m2 = 1.5\n",
    "  b2 = -2\n",
    "  x2 = 2\n",
    "  # Call the renamed function\n",
    "  y2 = calculate_y(m2, b2, x2)\n",
    "  print(f\"Input: slope = {m2}, intercept = {b2}, x = {x2}\")\n",
    "  print(f\"Output: {y2}\")"
   ],
   "outputs": [
    {
     "name": "stdout",
     "output_type": "stream",
     "text": [
      "Input: slope = 2, intercept = 3, x = 4\n",
      "Output: 11\n",
      "--------------------\n",
      "Input: slope = 1.5, intercept = -2, x = 2\n",
      "Output: 1.0\n"
     ]
    }
   ],
   "execution_count": 1
  }
 ],
 "metadata": {
  "kernelspec": {
   "display_name": "Python 3",
   "language": "python",
   "name": "python3"
  },
  "language_info": {
   "codemirror_mode": {
    "name": "ipython",
    "version": 2
   },
   "file_extension": ".py",
   "mimetype": "text/x-python",
   "name": "python",
   "nbconvert_exporter": "python",
   "pygments_lexer": "ipython2",
   "version": "2.7.6"
  }
 },
 "nbformat": 4,
 "nbformat_minor": 5
}
