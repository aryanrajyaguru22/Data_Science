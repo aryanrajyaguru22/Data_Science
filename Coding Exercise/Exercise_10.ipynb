{
 "cells": [
  {
   "metadata": {},
   "cell_type": "markdown",
   "source": [
    "# Reverse a List #\n",
    "Reverse a List (Non-Slicing Approach)\n",
    "\n",
    "You are given a list of integers. Write a Python program that reverses the list without using slicing (lst[::-1]). The program should return the reversed list.\n",
    "\n",
    "Parameters:\n",
    "\n",
    "lst (List of integers): The list of integers to be reversed.\n",
    "\n",
    "Returns:\n",
    "\n",
    "A list of integers where the order of elements is reversed from the input list.\n",
    "\n",
    "Example:\n",
    "\n",
    "Input: lst = [1, 2, 3, 4, 5]\n",
    "Output: [5, 4, 3, 2, 1]"
   ],
   "id": "27711990d084a198"
  },
  {
   "cell_type": "code",
   "id": "initial_id",
   "metadata": {
    "collapsed": true,
    "ExecuteTime": {
     "end_time": "2025-06-26T12:40:25.001593Z",
     "start_time": "2025-06-26T12:40:24.994830Z"
    }
   },
   "source": [
    "def reverse_list(lst):\n",
    "  \"\"\"\n",
    "  Reverses a list of integers in-place without using slicing.\n",
    "\n",
    "  Parameters:\n",
    "    lst (List of integers): The list to be reversed.\n",
    "\n",
    "  Returns:\n",
    "    A list of integers with the order of elements reversed.\n",
    "  \"\"\"\n",
    "  # Set up pointers for the start and end of the list\n",
    "  left_pointer = 0\n",
    "  right_pointer = len(lst) - 1\n",
    "\n",
    "  # Loop until the pointers meet or cross each other\n",
    "  while left_pointer < right_pointer:\n",
    "    # Swap the elements at the left and right pointers\n",
    "    # This is a Pythonic way to swap two variables in one line\n",
    "    lst[left_pointer], lst[right_pointer] = lst[right_pointer], lst[left_pointer]\n",
    "\n",
    "    # Move the left pointer one step to the right\n",
    "    left_pointer += 1\n",
    "    # Move the right pointer one step to the left\n",
    "    right_pointer -= 1\n",
    "\n",
    "  # Return the modified (now reversed) list\n",
    "  return lst\n",
    "\n",
    "# --- Testing with the provided example ---\n",
    "\n",
    "if __name__ == \"__main__\":\n",
    "  list1 = [1, 2, 3, 4, 5]\n",
    "  print(f\"Original list: {list1}\")\n",
    "  reversed_list1 = reverse_list(list1)\n",
    "  print(f\"Reversed list: {reversed_list1}\")\n",
    "\n",
    "  print(\"-\" * 20)\n",
    "\n",
    "  list2 = [10, 20, 30, 40]\n",
    "  print(f\"Original list: {list2}\")\n",
    "  reversed_list2 = reverse_list(list2)\n",
    "  print(f\"Reversed list: {reversed_list2}\")"
   ],
   "outputs": [
    {
     "name": "stdout",
     "output_type": "stream",
     "text": [
      "Original list: [1, 2, 3, 4, 5]\n",
      "Reversed list: [5, 4, 3, 2, 1]\n",
      "--------------------\n",
      "Original list: [10, 20, 30, 40]\n",
      "Reversed list: [40, 30, 20, 10]\n"
     ]
    }
   ],
   "execution_count": 1
  }
 ],
 "metadata": {
  "kernelspec": {
   "display_name": "Python 3",
   "language": "python",
   "name": "python3"
  },
  "language_info": {
   "codemirror_mode": {
    "name": "ipython",
    "version": 2
   },
   "file_extension": ".py",
   "mimetype": "text/x-python",
   "name": "python",
   "nbconvert_exporter": "python",
   "pygments_lexer": "ipython2",
   "version": "2.7.6"
  }
 },
 "nbformat": 4,
 "nbformat_minor": 5
}
