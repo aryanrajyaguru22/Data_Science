{
 "cells": [
  {
   "metadata": {},
   "cell_type": "markdown",
   "source": [
    "# Merge two sorted List #\n",
    "Merge Two Sorted Lists\n",
    "\n",
    "You are given two sorted lists of integers. Write a Python function to merge these two sorted lists into one sorted list. The resulting list should also be in non-decreasing order.\n",
    "\n",
    "Parameters:\n",
    "\n",
    "list1 (List of integers): The first sorted list.\n",
    "\n",
    "list2 (List of integers): The second sorted list.\n",
    "\n",
    "Returns:\n",
    "\n",
    "A single list of integers, containing all elements from list1 and list2, sorted in non-decreasing order.\n",
    "\n",
    "Example:\n",
    "\n",
    "Input: list1 = [1, 3, 5], list2 = [2, 4, 6]\n",
    "Output: [1, 2, 3, 4, 5, 6]\n",
    "\n",
    "Input: list1 = [1, 4, 7], list2 = [2, 3, 5, 8]\n",
    "Output: [1, 2, 3, 4, 5, 7, 8]"
   ],
   "id": "c08f9558da75eb75"
  },
  {
   "cell_type": "code",
   "id": "initial_id",
   "metadata": {
    "collapsed": true,
    "ExecuteTime": {
     "end_time": "2025-06-26T12:51:38.325106Z",
     "start_time": "2025-06-26T12:51:38.316761Z"
    }
   },
   "source": [
    "def merge_two_sorted_lists(list1, list2):\n",
    "  \"\"\"\n",
    "  Merges two sorted lists into one sorted list using the two-pointer method.\n",
    "\n",
    "  Parameters:\n",
    "    list1 (List of integers): The first sorted list.\n",
    "    list2 (List of integers): The second sorted list.\n",
    "\n",
    "  Returns:\n",
    "    A new sorted list containing all elements from list1 and list2.\n",
    "  \"\"\"\n",
    "  # Create an empty list to store the merged result\n",
    "  merged_list = []\n",
    "\n",
    "  # Initialize pointers for the start of each list\n",
    "  i, j = 0, 0\n",
    "\n",
    "  # Loop while both lists still have elements to compare\n",
    "  while i < len(list1) and j < len(list2):\n",
    "    # Compare the elements at the current pointers\n",
    "    if list1[i] < list2[j]:\n",
    "      # If the element in list1 is smaller, append it and move its pointer\n",
    "      merged_list.append(list1[i])\n",
    "      i += 1\n",
    "    else:\n",
    "      # Otherwise, the element in list2 is smaller or equal, so append it\n",
    "      merged_list.append(list2[j])\n",
    "      j += 1\n",
    "\n",
    "  # After the loop, one of the lists will be exhausted.\n",
    "  # We need to append the remaining elements from the other list.\n",
    "  # Only one of these will have an effect.\n",
    "  merged_list.extend(list1[i:])\n",
    "  merged_list.extend(list2[j:])\n",
    "\n",
    "  return merged_list\n",
    "\n",
    "# --- Testing with the provided examples ---\n",
    "if __name__ == \"__main__\":\n",
    "  print(\"--- Testing Method 1: Merge Algorithm ---\")\n",
    "  # Example 1:\n",
    "  l1a = [1, 3, 5]\n",
    "  l2a = [2, 4, 6]\n",
    "  result1 = merge_two_sorted_lists(l1a, l2a)\n",
    "  print(f\"Input: list1 = {l1a}, list2 = {l2a}\")\n",
    "  print(f\"Output: {result1}\")\n",
    "\n",
    "  print(\"-\" * 20)\n",
    "\n",
    "  # Example 2:\n",
    "  l1b = [1, 4, 7]\n",
    "  l2b = [2, 3, 5, 8]\n",
    "  result2 = merge_two_sorted_lists(l1b, l2b)\n",
    "  print(f\"Input: list1 = {l1b}, list2 = {l2b}\")\n",
    "  print(f\"Output: {result2}\")"
   ],
   "outputs": [
    {
     "name": "stdout",
     "output_type": "stream",
     "text": [
      "--- Testing Method 1: Merge Algorithm ---\n",
      "Input: list1 = [1, 3, 5], list2 = [2, 4, 6]\n",
      "Output: [1, 2, 3, 4, 5, 6]\n",
      "--------------------\n",
      "Input: list1 = [1, 4, 7], list2 = [2, 3, 5, 8]\n",
      "Output: [1, 2, 3, 4, 5, 7, 8]\n"
     ]
    }
   ],
   "execution_count": 1
  }
 ],
 "metadata": {
  "kernelspec": {
   "display_name": "Python 3",
   "language": "python",
   "name": "python3"
  },
  "language_info": {
   "codemirror_mode": {
    "name": "ipython",
    "version": 2
   },
   "file_extension": ".py",
   "mimetype": "text/x-python",
   "name": "python",
   "nbconvert_exporter": "python",
   "pygments_lexer": "ipython2",
   "version": "2.7.6"
  }
 },
 "nbformat": 4,
 "nbformat_minor": 5
}
