{
 "cells": [
  {
   "metadata": {},
   "cell_type": "markdown",
   "source": [
    "# Largest Element in a List #\n",
    "Find the Largest Element in a List\n",
    "\n",
    "Write a Python function that finds and returns the largest element in a given list of integers.\n",
    "\n",
    "Parameters:\n",
    "\n",
    "numbers (List of integers): The input list containing integers.\n",
    "\n",
    "Returns:\n",
    "\n",
    "An integer representing the largest element in the input list.\n",
    "\n",
    "Example:\n",
    "\n",
    "Input: numbers = [3, 8, 2, 10, 5]\n",
    "Output: 10\n",
    "\n",
    "Input: numbers = [-5, -10, -2, -1, -7]\n",
    "Output: -1"
   ],
   "id": "7d22c4e03e9e7324"
  },
  {
   "cell_type": "code",
   "id": "initial_id",
   "metadata": {
    "collapsed": true,
    "ExecuteTime": {
     "end_time": "2025-06-26T12:30:28.408861Z",
     "start_time": "2025-06-26T12:30:28.403680Z"
    }
   },
   "source": [
    "# The grading system expects the function to be named exactly 'find_largest'.\n",
    "def find_largest(numbers):\n",
    "  \"\"\"\n",
    "  Finds the largest element in a given list of integers.\n",
    "\n",
    "  Parameters:\n",
    "    numbers (List of integers): The input list containing integers.\n",
    "\n",
    "  Returns:\n",
    "    An integer representing the largest element, or None if the list is empty.\n",
    "  \"\"\"\n",
    "  # First, check if the list is empty to avoid an error.\n",
    "  if not numbers:\n",
    "    return None\n",
    "\n",
    "  # Use the max() function to find the largest element.\n",
    "  return max(numbers)\n",
    "\n",
    "# It's good practice to keep your tests in this block.\n",
    "# The grading system will not run this part.\n",
    "if __name__ == \"__main__\":\n",
    "  # Example 1:\n",
    "  list1 = [3, 8, 2, 10, 5]\n",
    "  # Make sure to call the renamed function here as well\n",
    "  largest1 = find_largest(list1)\n",
    "  print(f\"Input: {list1}\")\n",
    "  print(f\"Output: {largest1}\")\n",
    "\n",
    "  print(\"-\" * 20)\n",
    "\n",
    "  # Example 2:\n",
    "  list2 = [-5, -10, -2, -1, -7]\n",
    "  # And here\n",
    "  largest2 = find_largest(list2)\n",
    "  print(f\"Input: {list2}\")\n",
    "  print(f\"Output: {largest2}\")"
   ],
   "outputs": [
    {
     "name": "stdout",
     "output_type": "stream",
     "text": [
      "Input: [3, 8, 2, 10, 5]\n",
      "Output: 10\n",
      "--------------------\n",
      "Input: [-5, -10, -2, -1, -7]\n",
      "Output: -1\n"
     ]
    }
   ],
   "execution_count": 1
  }
 ],
 "metadata": {
  "kernelspec": {
   "display_name": "Python 3",
   "language": "python",
   "name": "python3"
  },
  "language_info": {
   "codemirror_mode": {
    "name": "ipython",
    "version": 2
   },
   "file_extension": ".py",
   "mimetype": "text/x-python",
   "name": "python",
   "nbconvert_exporter": "python",
   "pygments_lexer": "ipython2",
   "version": "2.7.6"
  }
 },
 "nbformat": 4,
 "nbformat_minor": 5
}
