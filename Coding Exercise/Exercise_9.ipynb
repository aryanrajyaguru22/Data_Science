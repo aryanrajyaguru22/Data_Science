{
 "cells": [
  {
   "metadata": {},
   "cell_type": "markdown",
   "source": [
    "# Check if all elements in a List are Unique #\n",
    "# Check if All Elements in a List are Unique #\n",
    "\n",
    "You are given a list of integers. Write a Python program that checks if all elements in the list are unique. If all elements are unique, return True; otherwise, return False.\n",
    "\n",
    "Parameters:\n",
    "\n",
    "lst (List of integers): The list of integers to check for uniqueness.\n",
    "\n",
    "Returns:\n",
    "\n",
    "A boolean value True if all elements in the list are unique, False otherwise.\n",
    "\n",
    "Example:\n",
    "\n",
    "Input: lst = [1, 2, 3, 4, 5]\n",
    "Output: True\n",
    "\n",
    "Input: lst = [1, 2, 3, 3, 4, 5]\n",
    "Output: False"
   ],
   "id": "58c044ff4134b573"
  },
  {
   "cell_type": "code",
   "id": "initial_id",
   "metadata": {
    "collapsed": true,
    "ExecuteTime": {
     "end_time": "2025-06-26T12:34:14.686193Z",
     "start_time": "2025-06-26T12:34:14.681639Z"
    }
   },
   "source": [
    "# The grading system expects the function to be named exactly 'check_unique'.\n",
    "def check_unique(lst):\n",
    "  \"\"\"\n",
    "  Checks if all elements in a list are unique by comparing its length\n",
    "  to the length of its set representation.\n",
    "\n",
    "  Parameters:\n",
    "    lst (List of integers): The list to check.\n",
    "\n",
    "  Returns:\n",
    "    A boolean value: True if all elements are unique, False otherwise.\n",
    "  \"\"\"\n",
    "  # A set stores only unique elements. If the length of the list and the set\n",
    "  # are the same, it means no duplicates were present.\n",
    "  return len(lst) == len(set(lst))\n",
    "\n",
    "# You can keep your test cases here. The `if __name__ == \"__main__\":` block\n",
    "# prevents this code from running when the grading script imports your file.\n",
    "if __name__ == \"__main__\":\n",
    "  # Example 1:\n",
    "  list1 = [1, 2, 3, 4, 5]\n",
    "  # Make sure to call the renamed function here as well\n",
    "  is_unique1 = check_unique(list1)\n",
    "  print(f\"Input: {list1}\")\n",
    "  print(f\"Output: {is_unique1}\")\n",
    "\n",
    "  print(\"-\" * 20)\n",
    "\n",
    "  # Example 2:\n",
    "  list2 = [1, 2, 3, 3, 4, 5]\n",
    "  # And here\n",
    "  is_unique2 = check_unique(list2)\n",
    "  print(f\"Input: {list2}\")\n",
    "  print(f\"Output: {is_unique2}\")"
   ],
   "outputs": [
    {
     "name": "stdout",
     "output_type": "stream",
     "text": [
      "Input: [1, 2, 3, 4, 5]\n",
      "Output: True\n",
      "--------------------\n",
      "Input: [1, 2, 3, 3, 4, 5]\n",
      "Output: False\n"
     ]
    }
   ],
   "execution_count": 1
  }
 ],
 "metadata": {
  "kernelspec": {
   "display_name": "Python 3",
   "language": "python",
   "name": "python3"
  },
  "language_info": {
   "codemirror_mode": {
    "name": "ipython",
    "version": 2
   },
   "file_extension": ".py",
   "mimetype": "text/x-python",
   "name": "python",
   "nbconvert_exporter": "python",
   "pygments_lexer": "ipython2",
   "version": "2.7.6"
  }
 },
 "nbformat": 4,
 "nbformat_minor": 5
}
