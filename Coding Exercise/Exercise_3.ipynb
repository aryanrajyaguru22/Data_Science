{
 "cells": [
  {
   "metadata": {},
   "cell_type": "markdown",
   "source": [
    "# Distance Covered by a Vehicle #\n",
    "Problem Description:\n",
    "\n",
    "You are given the speed of a vehicle and the time it has traveled. Your task is to compute and return the distance traveled by the vehicle.\n",
    "\n",
    "Formula:\n",
    "\n",
    "To calculate the distance traveled by a vehicle:\n",
    "\n",
    "Distance=Speed×Time\n",
    "\n",
    "\n",
    "\n",
    "Input:\n",
    "\n",
    "Two floating-point numbers, speed and time, representing the speed of the vehicle and the time it has been traveling.\n",
    "\n",
    "\n",
    "\n",
    "Output:\n",
    "\n",
    "A floating-point number representing the distance traveled.\n",
    "\n",
    "\n",
    "\n",
    "Example:\n",
    "\n",
    "Input: speed = 60, time = 2\n",
    "Output: 120.0\n",
    "\n",
    "Input: speed = 50.5, time = 1.5\n",
    "Output: 75.75\n",
    "\n",
    "\n"
   ],
   "id": "649301495cbab62f"
  },
  {
   "cell_type": "code",
   "id": "initial_id",
   "metadata": {
    "collapsed": true,
    "ExecuteTime": {
     "end_time": "2025-06-26T12:19:25.670804Z",
     "start_time": "2025-06-26T12:19:25.664892Z"
    }
   },
   "source": [
    "def calculate_distance(speed, time):\n",
    "  \"\"\"\n",
    "  Calculates the distance traveled by a vehicle.\n",
    "\n",
    "  Args:\n",
    "    speed: A floating-point number representing the vehicle's speed.\n",
    "    time: A floating-point number representing the travel time.\n",
    "\n",
    "  Returns:\n",
    "    A floating-point number representing the distance traveled.\n",
    "  \"\"\"\n",
    "  distance = speed * time\n",
    "  return distance\n",
    "\n",
    "# --- Testing with the provided examples ---\n",
    "\n",
    "if __name__ == \"__main__\":\n",
    "  # Example 1:\n",
    "  speed1 = 60\n",
    "  time1 = 2\n",
    "  distance1 = calculate_distance(speed1, time1)\n",
    "  print(f\"Input: speed = {speed1}, time = {time1}\")\n",
    "  print(f\"Output: {distance1}\")\n",
    "\n",
    "  print(\"-\" * 20)\n",
    "\n",
    "  # Example 2:\n",
    "  speed2 = 50.5\n",
    "  time2 = 1.5\n",
    "  distance2 = calculate_distance(speed2, time2)\n",
    "  print(f\"Input: speed = {speed2}, time = {time2}\")\n",
    "  print(f\"Output: {distance2}\")"
   ],
   "outputs": [
    {
     "name": "stdout",
     "output_type": "stream",
     "text": [
      "Input: speed = 60, time = 2\n",
      "Output: 120\n",
      "--------------------\n",
      "Input: speed = 50.5, time = 1.5\n",
      "Output: 75.75\n"
     ]
    }
   ],
   "execution_count": 1
  }
 ],
 "metadata": {
  "kernelspec": {
   "display_name": "Python 3",
   "language": "python",
   "name": "python3"
  },
  "language_info": {
   "codemirror_mode": {
    "name": "ipython",
    "version": 2
   },
   "file_extension": ".py",
   "mimetype": "text/x-python",
   "name": "python",
   "nbconvert_exporter": "python",
   "pygments_lexer": "ipython2",
   "version": "2.7.6"
  }
 },
 "nbformat": 4,
 "nbformat_minor": 5
}
