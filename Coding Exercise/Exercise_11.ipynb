{
 "cells": [
  {
   "metadata": {},
   "cell_type": "markdown",
   "source": [
    "# Number of Odd and Even Elements in a list #\n",
    "Count Even and Odd Numbers in a List\n",
    "\n",
    "You are given a list of integers. Write a Python program that counts and returns the number of even and odd numbers in the list.\n",
    "\n",
    "Parameters:\n",
    "\n",
    "lst (List of integers): The list of integers where you will count the even and odd numbers.\n",
    "\n",
    "Returns:\n",
    "\n",
    "A tuple (even_count, odd_count) where even_count is the number of even numbers and odd_count is the number of odd numbers.\n",
    "\n",
    "Example:\n",
    "\n",
    "Input: lst = [1, 2, 3, 4, 5]\n",
    "Output: (2, 3)\n",
    "\n",
    "There are 2 even numbers: 2, 4\n",
    "\n",
    "There are 3 odd numbers: 1, 3, 5\n",
    "\n",
    "  \n",
    "All changes saved\n",
    "|\n",
    "Line 1, Column 1\n"
   ],
   "id": "5ddec4303aa5adaa"
  },
  {
   "cell_type": "code",
   "id": "initial_id",
   "metadata": {
    "collapsed": true,
    "ExecuteTime": {
     "end_time": "2025-06-26T12:42:07.693689Z",
     "start_time": "2025-06-26T12:42:07.685965Z"
    }
   },
   "source": [
    "def count_even_odd(lst):\n",
    "  \"\"\"\n",
    "  Counts the number of even and odd numbers in a list.\n",
    "\n",
    "  Parameters:\n",
    "    lst (List of integers): The list to be processed.\n",
    "\n",
    "  Returns:\n",
    "    A tuple (even_count, odd_count).\n",
    "  \"\"\"\n",
    "  # Initialize counters for even and odd numbers\n",
    "  even_count = 0\n",
    "  odd_count = 0\n",
    "\n",
    "  # Iterate through each number in the input list\n",
    "  for number in lst:\n",
    "    # Check if the number is divisible by 2\n",
    "    if number % 2 == 0:\n",
    "      # If the remainder is 0, it's an even number\n",
    "      even_count += 1\n",
    "    else:\n",
    "      # Otherwise, it's an odd number\n",
    "      odd_count += 1\n",
    "\n",
    "  # Return the final counts as a tuple\n",
    "  return (even_count, odd_count)\n",
    "\n",
    "# --- Testing with the provided example ---\n",
    "\n",
    "if __name__ == \"__main__\":\n",
    "  # Example 1:\n",
    "  list1 = [1, 2, 3, 4, 5]\n",
    "  counts1 = count_even_odd(list1)\n",
    "  print(f\"Input: {list1}\")\n",
    "  print(f\"Output: {counts1}\")\n",
    "\n",
    "  print(\"-\" * 20)\n",
    "\n",
    "  # Example 2:\n",
    "  list2 = [10, 11, 20, 21, 30, 31, 100]\n",
    "  counts2 = count_even_odd(list2)\n",
    "  print(f\"Input: {list2}\")\n",
    "  print(f\"Output: {counts2}\")"
   ],
   "outputs": [
    {
     "name": "stdout",
     "output_type": "stream",
     "text": [
      "Input: [1, 2, 3, 4, 5]\n",
      "Output: (2, 3)\n",
      "--------------------\n",
      "Input: [10, 11, 20, 21, 30, 31, 100]\n",
      "Output: (4, 3)\n"
     ]
    }
   ],
   "execution_count": 1
  }
 ],
 "metadata": {
  "kernelspec": {
   "display_name": "Python 3",
   "language": "python",
   "name": "python3"
  },
  "language_info": {
   "codemirror_mode": {
    "name": "ipython",
    "version": 2
   },
   "file_extension": ".py",
   "mimetype": "text/x-python",
   "name": "python",
   "nbconvert_exporter": "python",
   "pygments_lexer": "ipython2",
   "version": "2.7.6"
  }
 },
 "nbformat": 4,
 "nbformat_minor": 5
}
