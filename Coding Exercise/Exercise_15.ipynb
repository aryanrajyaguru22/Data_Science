{
 "cells": [
  {
   "metadata": {},
   "cell_type": "markdown",
   "source": [
    "# Rotate a List #\n",
    "Rotate a List (Without Slicing)\n",
    "\n",
    "You are given a list of integers and an integer k. Write a Python function to rotate the list to the right by k positions without using slicing. A rotation shifts elements from the end of the list to the front.\n",
    "\n",
    "Parameters:\n",
    "\n",
    "lst (List of integers): The list to be rotated.\n",
    "\n",
    "k (Integer): The number of positions to rotate the list.\n",
    "\n",
    "Returns:\n",
    "\n",
    "A list of integers rotated by k positions.\n",
    "\n",
    "Example:\n",
    "\n",
    "Input: lst = [1, 2, 3, 4, 5], k = 2\n",
    "Output: [4, 5, 1, 2, 3]\n",
    "\n",
    "Input: lst = [10, 20, 30, 40, 50], k = 3\n",
    "Output: [30, 40, 50, 10, 20]"
   ],
   "id": "24dc5fa75fa94778"
  },
  {
   "cell_type": "code",
   "id": "initial_id",
   "metadata": {
    "collapsed": true,
    "ExecuteTime": {
     "end_time": "2025-06-26T12:53:47.782644Z",
     "start_time": "2025-06-26T12:53:47.777127Z"
    }
   },
   "source": [
    "def rotate_list(lst, k):\n",
    "  \"\"\"\n",
    "  Rotates a list to the right by k positions without using slicing.\n",
    "\n",
    "  Parameters:\n",
    "    lst (List of integers): The list to be rotated.\n",
    "    k (Integer): The number of positions to rotate.\n",
    "\n",
    "  Returns:\n",
    "    A list of integers rotated by k positions.\n",
    "  \"\"\"\n",
    "  # If the list is empty or has only one element, no rotation is needed.\n",
    "  if len(lst) < 2:\n",
    "    return lst\n",
    "\n",
    "  # To avoid unnecessary full-circle rotations, find the effective number of rotations.\n",
    "  # For example, rotating a list of size 5 by 7 is the same as rotating it by 2.\n",
    "  num_rotations = k % len(lst)\n",
    "\n",
    "  # Perform the rotation k times.\n",
    "  for _ in range(num_rotations):\n",
    "    # 1. Remove the last element from the list.\n",
    "    last_element = lst.pop()\n",
    "\n",
    "    # 2. Insert that element at the beginning of the list.\n",
    "    lst.insert(0, last_element)\n",
    "\n",
    "  # Return the modified (rotated) list.\n",
    "  return lst\n",
    "\n",
    "# --- Testing with the provided examples ---\n",
    "\n",
    "if __name__ == \"__main__\":\n",
    "  # Example 1:\n",
    "  list1 = [1, 2, 3, 4, 5]\n",
    "  k1 = 2\n",
    "  print(f\"Original list: {list1}, k = {k1}\")\n",
    "  rotated_list1 = rotate_list(list1, k1)\n",
    "  print(f\"Rotated list: {rotated_list1}\")\n",
    "\n",
    "  print(\"-\" * 20)\n",
    "\n",
    "  # Example 2:\n",
    "  list2 = [10, 20, 30, 40, 50]\n",
    "  k2 = 3\n",
    "  print(f\"Original list: {list2}, k = {k2}\")\n",
    "  rotated_list2 = rotate_list(list2, k2)\n",
    "  print(f\"Rotated list: {rotated_list2}\")"
   ],
   "outputs": [
    {
     "name": "stdout",
     "output_type": "stream",
     "text": [
      "Original list: [1, 2, 3, 4, 5], k = 2\n",
      "Rotated list: [4, 5, 1, 2, 3]\n",
      "--------------------\n",
      "Original list: [10, 20, 30, 40, 50], k = 3\n",
      "Rotated list: [30, 40, 50, 10, 20]\n"
     ]
    }
   ],
   "execution_count": 1
  }
 ],
 "metadata": {
  "kernelspec": {
   "display_name": "Python 3",
   "language": "python",
   "name": "python3"
  },
  "language_info": {
   "codemirror_mode": {
    "name": "ipython",
    "version": 2
   },
   "file_extension": ".py",
   "mimetype": "text/x-python",
   "name": "python",
   "nbconvert_exporter": "python",
   "pygments_lexer": "ipython2",
   "version": "2.7.6"
  }
 },
 "nbformat": 4,
 "nbformat_minor": 5
}
