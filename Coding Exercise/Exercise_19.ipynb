{
 "cells": [
  {
   "metadata": {},
   "cell_type": "markdown",
   "source": [
    "# Palindromic Tuple #\n",
    "Check if Tuple is Palindromic\n",
    "\n",
    "Design a Python function named is_palindromic_tuple to check if a tuple is palindromic, meaning it reads the same forwards and backwards.\n",
    "\n",
    "Parameters:\n",
    "\n",
    "tup (tuple): The input tuple that you need to check for palindromic property.\n",
    "\n",
    "Returns:\n",
    "\n",
    "True if the tuple is palindromic, False otherwise.\n",
    "\n",
    "Example:\n",
    "\n",
    "Input: (1, 2, 3, 2, 1)\n",
    "Output: True\n",
    "\n",
    "Input: ('a', 'b', 'c', 'b', 'a')\n",
    "Output: True\n",
    "\n",
    "Input: (1, 2, 3, 4, 5)\n",
    "Output: False\n",
    "\n",
    "Input: ('x', 'y', 'z', 'x')\n",
    "Output: False\n",
    "\n",
    "Input: ('a',)\n",
    "Output: True"
   ],
   "id": "4bf86fc40108e2c0"
  },
  {
   "cell_type": "code",
   "id": "initial_id",
   "metadata": {
    "collapsed": true,
    "ExecuteTime": {
     "end_time": "2025-06-26T13:02:43.343179Z",
     "start_time": "2025-06-26T13:02:43.336020Z"
    }
   },
   "source": [
    "def is_palindromic_tuple(tup):\n",
    "  \"\"\"\n",
    "  Checks if a tuple is palindromic by comparing it to its reverse.\n",
    "\n",
    "  Parameters:\n",
    "    tup (tuple): The input tuple to check.\n",
    "\n",
    "  Returns:\n",
    "    True if the tuple is palindromic, False otherwise.\n",
    "  \"\"\"\n",
    "  # The slice [::-1] creates a reversed copy of the tuple.\n",
    "  # The function returns the result of comparing the original tuple\n",
    "  # with its reversed version.\n",
    "  return tup == tup[::-1]\n",
    "\n",
    "# --- Testing with the provided examples ---\n",
    "\n",
    "if __name__ == \"__main__\":\n",
    "  # Example 1: Should be True\n",
    "  tup1 = (1, 2, 3, 2, 1)\n",
    "  print(f\"Input: {tup1}\")\n",
    "  print(f\"Output: {is_palindromic_tuple(tup1)}\")\n",
    "\n",
    "  print(\"-\" * 20)\n",
    "\n",
    "  # Example 2: Should be True\n",
    "  tup2 = ('a', 'b', 'c', 'b', 'a')\n",
    "  print(f\"Input: {tup2}\")\n",
    "  print(f\"Output: {is_palindromic_tuple(tup2)}\")\n",
    "\n",
    "  print(\"-\" * 20)\n",
    "\n",
    "  # Example 3: Should be False\n",
    "  tup3 = (1, 2, 3, 4, 5)\n",
    "  print(f\"Input: {tup3}\")\n",
    "  print(f\"Output: {is_palindromic_tuple(tup3)}\")\n",
    "\n",
    "  print(\"-\" * 20)\n",
    "\n",
    "  # Example 4: Should be False\n",
    "  tup4 = ('x', 'y', 'z', 'x')\n",
    "  print(f\"Input: {tup4}\")\n",
    "  print(f\"Output: {is_palindromic_tuple(tup4)}\")\n",
    "\n",
    "  print(\"-\" * 20)\n",
    "\n",
    "  # Example 5: Single element tuple, should be True\n",
    "  tup5 = ('a',)\n",
    "  print(f\"Input: {tup5}\")\n",
    "  print(f\"Output: {is_palindromic_tuple(tup5)}\")\n",
    "\n",
    "  print(\"-\" * 20)\n",
    "\n",
    "  # Example 6: Empty tuple, should be True\n",
    "  tup6 = ()\n",
    "  print(f\"Input: {tup6}\")\n",
    "  print(f\"Output: {is_palindromic_tuple(tup6)}\")"
   ],
   "outputs": [
    {
     "name": "stdout",
     "output_type": "stream",
     "text": [
      "Input: (1, 2, 3, 2, 1)\n",
      "Output: True\n",
      "--------------------\n",
      "Input: ('a', 'b', 'c', 'b', 'a')\n",
      "Output: True\n",
      "--------------------\n",
      "Input: (1, 2, 3, 4, 5)\n",
      "Output: False\n",
      "--------------------\n",
      "Input: ('x', 'y', 'z', 'x')\n",
      "Output: False\n",
      "--------------------\n",
      "Input: ('a',)\n",
      "Output: True\n",
      "--------------------\n",
      "Input: ()\n",
      "Output: True\n"
     ]
    }
   ],
   "execution_count": 1
  }
 ],
 "metadata": {
  "kernelspec": {
   "display_name": "Python 3",
   "language": "python",
   "name": "python3"
  },
  "language_info": {
   "codemirror_mode": {
    "name": "ipython",
    "version": 2
   },
   "file_extension": ".py",
   "mimetype": "text/x-python",
   "name": "python",
   "nbconvert_exporter": "python",
   "pygments_lexer": "ipython2",
   "version": "2.7.6"
  }
 },
 "nbformat": 4,
 "nbformat_minor": 5
}
