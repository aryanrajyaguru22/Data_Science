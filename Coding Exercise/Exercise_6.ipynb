{
 "cells": [
  {
   "metadata": {},
   "cell_type": "markdown",
   "source": [
    "# Sum of List Elements #\n",
    "Problem Description\n",
    "\n",
    "Sum of List Elements\n",
    "\n",
    "Write a Python function that calculates the sum of all elements in a given list of integers.\n",
    "\n",
    "Parameters:\n",
    "\n",
    "numbers (List of integers): The input list containing integers.\n",
    "\n",
    "Returns:\n",
    "\n",
    "An integer representing the sum of all elements in the input list.\n",
    "\n",
    "Example:\n",
    "\n",
    "Input: numbers = [1, 2, 3, 4, 5]\n",
    "Output: 15\n",
    "\n",
    "Input: numbers = [10, -5, 7, 8, -2]\n",
    "Output: 18"
   ],
   "id": "a231c1cb4f671259"
  },
  {
   "cell_type": "code",
   "id": "initial_id",
   "metadata": {
    "collapsed": true,
    "ExecuteTime": {
     "end_time": "2025-06-26T12:30:27.045846Z",
     "start_time": "2025-06-26T12:30:27.038599Z"
    }
   },
   "source": [
    "# The grading system expects the function to be named exactly 'sum_list'.\n",
    "def sum_list(numbers):\n",
    "  \"\"\"\n",
    "  Calculates the sum of all elements in a given list of integers.\n",
    "\n",
    "  Args:\n",
    "    numbers (List of integers): The input list containing integers.\n",
    "\n",
    "  Returns:\n",
    "    An integer representing the sum of all elements in the input list.\n",
    "  \"\"\"\n",
    "  return sum(numbers)\n",
    "\n",
    "# It's good practice to keep your tests inside this block.\n",
    "# The grading system will not execute this part when it imports your function.\n",
    "if __name__ == \"__main__\":\n",
    "  # Example 1:\n",
    "  list1 = [1, 2, 3, 4, 5]\n",
    "  # Make sure to call the renamed function here as well\n",
    "  sum1 = sum_list(list1)\n",
    "  print(f\"Input: {list1}\")\n",
    "  print(f\"Output: {sum1}\")\n",
    "\n",
    "  print(\"-\" * 20)\n",
    "\n",
    "  # Example 2:\n",
    "  list2 = [10, -5, 7, 8, -2]\n",
    "  # And here\n",
    "  sum2 = sum_list(list2)\n",
    "  print(f\"Input: {list2}\")\n",
    "  print(f\"Output: {sum2}\")"
   ],
   "outputs": [
    {
     "name": "stdout",
     "output_type": "stream",
     "text": [
      "Input: [1, 2, 3, 4, 5]\n",
      "Output: 15\n",
      "--------------------\n",
      "Input: [10, -5, 7, 8, -2]\n",
      "Output: 18\n"
     ]
    }
   ],
   "execution_count": 1
  }
 ],
 "metadata": {
  "kernelspec": {
   "display_name": "Python 3",
   "language": "python",
   "name": "python3"
  },
  "language_info": {
   "codemirror_mode": {
    "name": "ipython",
    "version": 2
   },
   "file_extension": ".py",
   "mimetype": "text/x-python",
   "name": "python",
   "nbconvert_exporter": "python",
   "pygments_lexer": "ipython2",
   "version": "2.7.6"
  }
 },
 "nbformat": 4,
 "nbformat_minor": 5
}
