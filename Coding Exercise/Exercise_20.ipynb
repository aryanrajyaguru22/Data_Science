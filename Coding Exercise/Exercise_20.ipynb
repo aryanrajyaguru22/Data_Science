{
 "cells": [
  {
   "metadata": {},
   "cell_type": "markdown",
   "source": [
    "# Merge Dictionaries with Common Keys #\n",
    "Problem Description\n",
    "\n",
    "Merge Dictionaries with Overlapping Keys\n",
    "\n",
    "Design a Python function named merge_dicts_with_overlapping_keys that merges multiple dictionaries into a single dictionary. If a key appears in more than one dictionary, sum up their values.\n",
    "\n",
    "Parameters:\n",
    "\n",
    "dicts (list): A list of dictionaries where keys might overlap.\n",
    "\n",
    "Returns:\n",
    "\n",
    "A single dictionary where values for overlapping keys are summed.\n",
    "\n",
    "Example:\n",
    "\n",
    "Input: [{'a': 1, 'b': 2}, {'b': 3, 'c': 4}, {'c': 5, 'd': 6}]\n",
    "Output: {'a': 1, 'b': 5, 'c': 9, 'd': 6}\n",
    "\n",
    "Input: [{'x': 10, 'y': 20}, {'y': 30, 'z': 40}, {'z': 50, 'x': 60}]\n",
    "Output: {'x': 70, 'y': 50, 'z': 90}"
   ],
   "id": "d223a30a375c0f40"
  },
  {
   "cell_type": "code",
   "id": "initial_id",
   "metadata": {
    "collapsed": true,
    "ExecuteTime": {
     "end_time": "2025-06-26T13:04:50.878141Z",
     "start_time": "2025-06-26T13:04:50.872502Z"
    }
   },
   "source": [
    "def merge_dicts_with_overlapping_keys(dicts):\n",
    "  \"\"\"\n",
    "  Merges a list of dictionaries, summing up the values for any\n",
    "  overlapping keys.\n",
    "\n",
    "  Parameters:\n",
    "    dicts (list): A list of dictionaries.\n",
    "\n",
    "  Returns:\n",
    "    A single dictionary with values for common keys summed up.\n",
    "  \"\"\"\n",
    "  # Start with an empty dictionary to store the merged results.\n",
    "  result_dict = {}\n",
    "\n",
    "  # Iterate through each dictionary in the input list.\n",
    "  for dictionary in dicts:\n",
    "    # Iterate through each key-value pair in the current dictionary.\n",
    "    for key, value in dictionary.items():\n",
    "      # Add the current value to the value for this key in the result_dict.\n",
    "      # The .get(key, 0) method safely gets the current value of the key.\n",
    "      # If the key doesn't exist yet in result_dict, it returns a default of 0.\n",
    "      result_dict[key] = result_dict.get(key, 0) + value\n",
    "\n",
    "  return result_dict\n",
    "\n",
    "# --- Testing with the provided examples ---\n",
    "if __name__ == \"__main__\":\n",
    "  # Example 1:\n",
    "  list_of_dicts_1 = [{'a': 1, 'b': 2}, {'b': 3, 'c': 4}, {'c': 5, 'd': 6}]\n",
    "  merged1 = merge_dicts_with_overlapping_keys(list_of_dicts_1)\n",
    "  print(f\"Input: {list_of_dicts_1}\")\n",
    "  print(f\"Output: {merged1}\")\n",
    "\n",
    "  print(\"-\" * 20)\n",
    "\n",
    "  # Example 2:\n",
    "  list_of_dicts_2 = [{'x': 10, 'y': 20}, {'y': 30, 'z': 40}, {'z': 50, 'x': 60}]\n",
    "  merged2 = merge_dicts_with_overlapping_keys(list_of_dicts_2)\n",
    "  print(f\"Input: {list_of_dicts_2}\")\n",
    "  print(f\"Output: {merged2}\")"
   ],
   "outputs": [
    {
     "name": "stdout",
     "output_type": "stream",
     "text": [
      "Input: [{'a': 1, 'b': 2}, {'b': 3, 'c': 4}, {'c': 5, 'd': 6}]\n",
      "Output: {'a': 1, 'b': 5, 'c': 9, 'd': 6}\n",
      "--------------------\n",
      "Input: [{'x': 10, 'y': 20}, {'y': 30, 'z': 40}, {'z': 50, 'x': 60}]\n",
      "Output: {'x': 70, 'y': 50, 'z': 90}\n"
     ]
    }
   ],
   "execution_count": 1
  }
 ],
 "metadata": {
  "kernelspec": {
   "display_name": "Python 3",
   "language": "python",
   "name": "python3"
  },
  "language_info": {
   "codemirror_mode": {
    "name": "ipython",
    "version": 2
   },
   "file_extension": ".py",
   "mimetype": "text/x-python",
   "name": "python",
   "nbconvert_exporter": "python",
   "pygments_lexer": "ipython2",
   "version": "2.7.6"
  }
 },
 "nbformat": 4,
 "nbformat_minor": 5
}
