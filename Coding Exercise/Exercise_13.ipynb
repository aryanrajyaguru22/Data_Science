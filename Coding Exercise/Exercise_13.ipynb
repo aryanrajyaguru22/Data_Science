{
 "cells": [
  {
   "metadata": {},
   "cell_type": "markdown",
   "source": [
    "# Maximum Difference between 2 consecutive elements in a List #\n",
    "Find Maximum Difference Between Two Consecutive Elements (Brute Force Approach)\n",
    "\n",
    "You are given a list of integers. Write a Python program to find the maximum difference between two consecutive elements in the list using a brute-force approach. The difference is defined as the absolute value of the difference between two consecutive elements.\n",
    "\n",
    "Parameters:\n",
    "\n",
    "lst (List of integers): A list of integers.\n",
    "\n",
    "Returns:\n",
    "\n",
    "An integer representing the maximum difference between two consecutive elements.\n",
    "\n",
    "Example:\n",
    "\n",
    "Input: lst = [1, 7, 3, 10, 5]\n",
    "Output: 7\n",
    "\n",
    "The maximum difference is between 3 and 10 (i.e., |3 - 10| = 7).\n",
    "\n",
    "Input: lst = [10, 11, 15, 3]\n",
    "Output: 12\n",
    "\n",
    "The maximum difference is between 15 and 3 (i.e., |15 - 3| = 12)."
   ],
   "id": "bc1dd51525f9c45"
  },
  {
   "cell_type": "code",
   "id": "initial_id",
   "metadata": {
    "collapsed": true,
    "ExecuteTime": {
     "end_time": "2025-06-26T12:48:16.563667Z",
     "start_time": "2025-06-26T12:48:16.556907Z"
    }
   },
   "source": [
    "# The grading system expects the function to be named exactly 'max_consecutive_difference'.\n",
    "def max_consecutive_difference(lst):\n",
    "  \"\"\"\n",
    "  Finds the maximum difference between any two consecutive elements in a list.\n",
    "\n",
    "  Parameters:\n",
    "    lst (List of integers): A list of integers.\n",
    "\n",
    "  Returns:\n",
    "    An integer representing the maximum absolute difference.\n",
    "  \"\"\"\n",
    "  # If the list has fewer than 2 elements, no difference can be calculated.\n",
    "  if len(lst) < 2:\n",
    "    return 0\n",
    "\n",
    "  # Initialize a variable to store the maximum difference found so far.\n",
    "  max_difference = 0\n",
    "\n",
    "  # Iterate from the first element to the second-to-last element.\n",
    "  for i in range(len(lst) - 1):\n",
    "    # Calculate the absolute difference between consecutive elements.\n",
    "    current_difference = abs(lst[i] - lst[i+1])\n",
    "\n",
    "    # If this difference is the largest yet, update the max_difference.\n",
    "    if current_difference > max_difference:\n",
    "      max_difference = current_difference\n",
    "\n",
    "  # Return the largest difference found.\n",
    "  return max_difference\n",
    "\n",
    "# --- Testing with the provided examples ---\n",
    "\n",
    "if __name__ == \"__main__\":\n",
    "  # Example 1:\n",
    "  list1 = [1, 7, 3, 10, 5]\n",
    "  # Make sure to call the renamed function here as well\n",
    "  max_diff1 = max_consecutive_difference(list1)\n",
    "  print(f\"Input: {list1}\")\n",
    "  print(f\"Output: {max_diff1}\")\n",
    "\n",
    "  print(\"-\" * 20)\n",
    "\n",
    "  # Example 2:\n",
    "  list2 = [10, 11, 15, 3]\n",
    "  # And here\n",
    "  max_diff2 = max_consecutive_difference(list2)\n",
    "  print(f\"Input: {list2}\")\n",
    "  print(f\"Output: {max_diff2}\")"
   ],
   "outputs": [
    {
     "name": "stdout",
     "output_type": "stream",
     "text": [
      "Input: [1, 7, 3, 10, 5]\n",
      "Output: 7\n",
      "--------------------\n",
      "Input: [10, 11, 15, 3]\n",
      "Output: 12\n"
     ]
    }
   ],
   "execution_count": 1
  }
 ],
 "metadata": {
  "kernelspec": {
   "display_name": "Python 3",
   "language": "python",
   "name": "python3"
  },
  "language_info": {
   "codemirror_mode": {
    "name": "ipython",
    "version": 2
   },
   "file_extension": ".py",
   "mimetype": "text/x-python",
   "name": "python",
   "nbconvert_exporter": "python",
   "pygments_lexer": "ipython2",
   "version": "2.7.6"
  }
 },
 "nbformat": 4,
 "nbformat_minor": 5
}
