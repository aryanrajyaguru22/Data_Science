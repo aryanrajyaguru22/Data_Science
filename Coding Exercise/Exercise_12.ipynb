{
 "cells": [
  {
   "metadata": {},
   "cell_type": "markdown",
   "source": [
    "# Check if List is Subset of Another List #\n",
    "Check if a List is a Subset of Another List (Brute Force Approach)\n",
    "\n",
    "You are given two lists of integers. Write a Python program that checks whether the first list is a subset of the second list using a brute-force approach, without using the in keyword. A list is considered a subset if all elements of the first list are present in the second list.\n",
    "\n",
    "Parameters:\n",
    "\n",
    "lst1 (List of integers): The first list, which is being checked as a subset.\n",
    "\n",
    "lst2 (List of integers): The second list, which is the list to compare against.\n",
    "\n",
    "Returns:\n",
    "\n",
    "A boolean value True if lst1 is a subset of lst2, otherwise False.\n",
    "\n",
    "Example:\n",
    "\n",
    "Input: lst1 = [1, 2, 3], lst2 = [1, 2, 3, 4, 5]\n",
    "Output: True\n",
    "\n",
    "All elements in lst1 are present in lst2.\n",
    "\n",
    "Input: lst1 = [1, 6], lst2 = [1, 2, 3, 4, 5]\n",
    "Output: False\n",
    "\n",
    "The element 6 is not present in lst2."
   ],
   "id": "4381e4bf6fc7c9fa"
  },
  {
   "cell_type": "code",
   "id": "initial_id",
   "metadata": {
    "collapsed": true,
    "ExecuteTime": {
     "end_time": "2025-06-26T12:44:20.916966Z",
     "start_time": "2025-06-26T12:44:20.909845Z"
    }
   },
   "source": [
    "def is_subset(lst1, lst2):\n",
    "  \"\"\"\n",
    "  Checks if lst1 is a subset of lst2 using a brute-force nested loop.\n",
    "\n",
    "  Parameters:\n",
    "    lst1 (List of integers): The potential subset list.\n",
    "    lst2 (List of integers): The list to check against.\n",
    "\n",
    "  Returns:\n",
    "    A boolean value: True if lst1 is a subset of lst2, False otherwise.\n",
    "  \"\"\"\n",
    "  # Iterate through each element in the first list (the potential subset)\n",
    "  for element_to_find in lst1:\n",
    "    # For each element, we need to check if it exists in the second list.\n",
    "    # We use a flag to track whether we've found it.\n",
    "    found_in_lst2 = False\n",
    "\n",
    "    # Now, iterate through the second list to search for 'element_to_find'\n",
    "    for element_in_lst2 in lst2:\n",
    "      # If we find a matching element\n",
    "      if element_to_find == element_in_lst2:\n",
    "        # We set our flag to True\n",
    "        found_in_lst2 = True\n",
    "        # And we can stop searching for this element (break the inner loop)\n",
    "        break\n",
    "\n",
    "    # After checking all elements in lst2, if we never found a match\n",
    "    if not found_in_lst2:\n",
    "      # It means an element from lst1 is missing in lst2, so it's not a subset.\n",
    "      # We can stop and return False immediately.\n",
    "      return False\n",
    "\n",
    "  # If the outer loop completes, it means every single element in lst1\n",
    "  # was successfully found in lst2. Therefore, it is a subset.\n",
    "  return True\n",
    "\n",
    "# --- Testing with the provided examples ---\n",
    "\n",
    "if __name__ == \"__main__\":\n",
    "  # Example 1: Should be True\n",
    "  list1_a = [1, 2, 3]\n",
    "  list2_a = [1, 2, 3, 4, 5]\n",
    "  result1 = is_subset(list1_a, list2_a)\n",
    "  print(f\"Input: lst1 = {list1_a}, lst2 = {list2_a}\")\n",
    "  print(f\"Output: {result1}\")\n",
    "\n",
    "  print(\"-\" * 20)\n",
    "\n",
    "  # Example 2: Should be False\n",
    "  list1_b = [1, 6]\n",
    "  list2_b = [1, 2, 3, 4, 5]\n",
    "  result2 = is_subset(list1_b, list2_b)\n",
    "  print(f\"Input: lst1 = {list1_b}, lst2 = {list2_b}\")\n",
    "  print(f\"Output: {result2}\")"
   ],
   "outputs": [
    {
     "name": "stdout",
     "output_type": "stream",
     "text": [
      "Input: lst1 = [1, 2, 3], lst2 = [1, 2, 3, 4, 5]\n",
      "Output: True\n",
      "--------------------\n",
      "Input: lst1 = [1, 6], lst2 = [1, 2, 3, 4, 5]\n",
      "Output: False\n"
     ]
    }
   ],
   "execution_count": 1
  }
 ],
 "metadata": {
  "kernelspec": {
   "display_name": "Python 3",
   "language": "python",
   "name": "python3"
  },
  "language_info": {
   "codemirror_mode": {
    "name": "ipython",
    "version": 2
   },
   "file_extension": ".py",
   "mimetype": "text/x-python",
   "name": "python",
   "nbconvert_exporter": "python",
   "pygments_lexer": "ipython2",
   "version": "2.7.6"
  }
 },
 "nbformat": 4,
 "nbformat_minor": 5
}
