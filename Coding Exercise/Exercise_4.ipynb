{
 "cells": [
  {
   "metadata": {},
   "cell_type": "markdown",
   "source": [
    "# Number of Rounds of Lift #\n",
    "Problem Description:\n",
    "\n",
    "You are given n, the total number of people, and capacity, the maximum number of people the lift can carry at a time. All people want to go from the ground floor to the top floor. Your task is to calculate the number of rounds the lift has to make to transport all the people to the top floor.\n",
    "\n",
    "\n",
    "\n",
    "Input:\n",
    "\n",
    "Two integers, n and capacity, where n is the total number of people, and capacity is the maximum number of people the lift can carry in one round.\n",
    "\n",
    "\n",
    "\n",
    "Output:\n",
    "\n",
    "An integer representing the number of rounds the lift needs to cover to transport all people to the top floor.\n",
    "\n",
    "\n",
    "\n",
    "Example:\n",
    "\n",
    "Input: n = 10, capacity = 3\n",
    "Output: 4\n",
    "\n",
    "Input: n = 7, capacity = 4\n",
    "Output: 2\n",
    "\n",
    "\n"
   ],
   "id": "e87554d8e8bb4b4f"
  },
  {
   "cell_type": "code",
   "id": "initial_id",
   "metadata": {
    "collapsed": true,
    "ExecuteTime": {
     "end_time": "2025-06-26T12:20:54.455175Z",
     "start_time": "2025-06-26T12:20:54.449665Z"
    }
   },
   "source": [
    "import math\n",
    "\n",
    "def calculate_lift_rounds(n, capacity):\n",
    "  \"\"\"\n",
    "  Calculates the number of rounds a lift needs to transport all people.\n",
    "\n",
    "  Args:\n",
    "    n: An integer representing the total number of people.\n",
    "    capacity: An integer representing the maximum lift capacity.\n",
    "\n",
    "  Returns:\n",
    "    An integer representing the total number of rounds.\n",
    "  \"\"\"\n",
    "  # Handle the case where there are no people to avoid division by zero if capacity is also 0.\n",
    "  if n == 0:\n",
    "    return 0\n",
    "\n",
    "  # Divide the number of people by the capacity and round up to the nearest whole number.\n",
    "  rounds = math.ceil(n / capacity)\n",
    "\n",
    "  # math.ceil returns a float (e.g., 4.0), so we convert it to an integer.\n",
    "  return int(rounds)\n",
    "\n",
    "# --- Testing with the provided examples ---\n",
    "if __name__ == \"__main__\":\n",
    "  # Example 1:\n",
    "  n1 = 10\n",
    "  capacity1 = 3\n",
    "  rounds1 = calculate_lift_rounds(n1, capacity1)\n",
    "  print(f\"Input: n = {n1}, capacity = {capacity1}\")\n",
    "  print(f\"Output: {rounds1}\")\n",
    "\n",
    "  print(\"-\" * 20)\n",
    "\n",
    "  # Example 2:\n",
    "  n2 = 7\n",
    "  capacity2 = 4\n",
    "  rounds2 = calculate_lift_rounds(n2, capacity2)\n",
    "  print(f\"Input: n = {n2}, capacity = {capacity2}\")\n",
    "  print(f\"Output: {rounds2}\")\n",
    "\n",
    "  print(\"-\" * 20)\n",
    "\n",
    "  # Example with exact division\n",
    "  n3 = 12\n",
    "  capacity3 = 4\n",
    "  rounds3 = calculate_lift_rounds(n3, capacity3)\n",
    "  print(f\"Input: n = {n3}, capacity = {capacity3}\")\n",
    "  print(f\"Output: {rounds3}\")"
   ],
   "outputs": [
    {
     "name": "stdout",
     "output_type": "stream",
     "text": [
      "Input: n = 10, capacity = 3\n",
      "Output: 4\n",
      "--------------------\n",
      "Input: n = 7, capacity = 4\n",
      "Output: 2\n",
      "--------------------\n",
      "Input: n = 12, capacity = 4\n",
      "Output: 3\n"
     ]
    }
   ],
   "execution_count": 1
  }
 ],
 "metadata": {
  "kernelspec": {
   "display_name": "Python 3",
   "language": "python",
   "name": "python3"
  },
  "language_info": {
   "codemirror_mode": {
    "name": "ipython",
    "version": 2
   },
   "file_extension": ".py",
   "mimetype": "text/x-python",
   "name": "python",
   "nbconvert_exporter": "python",
   "pygments_lexer": "ipython2",
   "version": "2.7.6"
  }
 },
 "nbformat": 4,
 "nbformat_minor": 5
}
