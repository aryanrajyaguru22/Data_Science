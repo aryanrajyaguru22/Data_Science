{
 "cells": [
  {
   "metadata": {},
   "cell_type": "markdown",
   "source": [
    "# Remove Duplicate in a List #\n",
    "# Remove Duplicates from a List #\n",
    "\n",
    "You are given a list of integers. Write a Python program that removes any duplicate elements from the list and returns a new list with only unique elements. The order of elements in the list should be maintained.\n",
    "\n",
    "Parameters:\n",
    "\n",
    "lst (List of integers): The list of integers from which duplicates should be removed.\n",
    "\n",
    "Returns:\n",
    "\n",
    "A list of integers where all duplicates have been removed, preserving the original order.\n",
    "\n",
    "Example:\n",
    "\n",
    "Input: lst = [1, 2, 2, 3, 4, 4, 5]\n",
    "Output: [1, 2, 3, 4, 5]\n",
    "\n",
    "Input: lst = [4, 5, 5, 4, 6, 7]\n",
    "Output: [4, 5, 6, 7]\n",
    "\n",
    "\n",
    "Note :- Please don't use set or inbuilt functions. Try to use brute force logic."
   ],
   "id": "69cafc1a76979082"
  },
  {
   "cell_type": "code",
   "id": "initial_id",
   "metadata": {
    "collapsed": true,
    "ExecuteTime": {
     "end_time": "2025-06-26T12:31:52.004335Z",
     "start_time": "2025-06-26T12:31:51.998646Z"
    }
   },
   "source": [
    "def remove_duplicates(lst):\n",
    "  \"\"\"\n",
    "  Removes duplicates from a list while preserving the original order.\n",
    "\n",
    "  This function uses a brute-force approach without using sets.\n",
    "\n",
    "  Parameters:\n",
    "    lst (List of integers): The list of integers from which duplicates should be removed.\n",
    "\n",
    "  Returns:\n",
    "    A list of integers where all duplicates have been removed.\n",
    "  \"\"\"\n",
    "  # Create a new empty list to store unique elements.\n",
    "  unique_list = []\n",
    "\n",
    "  # Iterate through each element in the original input list.\n",
    "  for item in lst:\n",
    "    # Check if the item is already in our new list.\n",
    "    if item not in unique_list:\n",
    "      # If it's not present, add it.\n",
    "      unique_list.append(item)\n",
    "\n",
    "  # Return the new list that contains only unique elements.\n",
    "  return unique_list\n",
    "\n",
    "# --- Testing with the provided examples ---\n",
    "\n",
    "if __name__ == \"__main__\":\n",
    "  # Example 1:\n",
    "  list1 = [1, 2, 2, 3, 4, 4, 5]\n",
    "  unique_list1 = remove_duplicates(list1)\n",
    "  print(f\"Input: {list1}\")\n",
    "  print(f\"Output: {unique_list1}\")\n",
    "\n",
    "  print(\"-\" * 20)\n",
    "\n",
    "  # Example 2:\n",
    "  list2 = [4, 5, 5, 4, 6, 7]\n",
    "  unique_list2 = remove_duplicates(list2)\n",
    "  print(f\"Input: {list2}\")\n",
    "  print(f\"Output: {unique_list2}\")"
   ],
   "outputs": [
    {
     "name": "stdout",
     "output_type": "stream",
     "text": [
      "Input: [1, 2, 2, 3, 4, 4, 5]\n",
      "Output: [1, 2, 3, 4, 5]\n",
      "--------------------\n",
      "Input: [4, 5, 5, 4, 6, 7]\n",
      "Output: [4, 5, 6, 7]\n"
     ]
    }
   ],
   "execution_count": 1
  }
 ],
 "metadata": {
  "kernelspec": {
   "display_name": "Python 3",
   "language": "python",
   "name": "python3"
  },
  "language_info": {
   "codemirror_mode": {
    "name": "ipython",
    "version": 2
   },
   "file_extension": ".py",
   "mimetype": "text/x-python",
   "name": "python",
   "nbconvert_exporter": "python",
   "pygments_lexer": "ipython2",
   "version": "2.7.6"
  }
 },
 "nbformat": 4,
 "nbformat_minor": 5
}
