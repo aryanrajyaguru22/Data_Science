{
 "cells": [
  {
   "metadata": {},
   "cell_type": "markdown",
   "source": "# Introduction to Data Structures in Python #",
   "id": "39d1944d58b25750"
  },
  {
   "metadata": {},
   "cell_type": "markdown",
   "source": "-----------------------------------------------------------------------------",
   "id": "8d458a2e8e593848"
  },
  {
   "metadata": {},
   "cell_type": "markdown",
   "source": "## Introduction to List #",
   "id": "e1f7c98a0cadba0e"
  },
  {
   "metadata": {},
   "cell_type": "markdown",
   "source": [
    "Lists are ordered, mutable collections of items.\n",
    "\n",
    "They can contain items of different data types."
   ],
   "id": "aeba1800a1dab900"
  },
  {
   "metadata": {
    "ExecuteTime": {
     "end_time": "2025-06-25T06:11:26.988357Z",
     "start_time": "2025-06-25T06:11:26.985166Z"
    }
   },
   "cell_type": "code",
   "source": [
    "lst = []\n",
    "print(type(lst))"
   ],
   "id": "b45f9d744e3309c8",
   "outputs": [
    {
     "name": "stdout",
     "output_type": "stream",
     "text": [
      "<class 'list'>\n"
     ]
    }
   ],
   "execution_count": 2
  },
  {
   "metadata": {
    "ExecuteTime": {
     "end_time": "2025-06-25T06:11:27.027197Z",
     "start_time": "2025-06-25T06:11:27.023913Z"
    }
   },
   "cell_type": "code",
   "source": [
    "name = [\"Aryan\", \"Aman\",1,2,3,4,5,6]\n",
    "print(name)"
   ],
   "id": "f1dc150667fa9c86",
   "outputs": [
    {
     "name": "stdout",
     "output_type": "stream",
     "text": [
      "['Aryan', 'Aman', 1, 2, 3, 4, 5, 6]\n"
     ]
    }
   ],
   "execution_count": 3
  },
  {
   "metadata": {
    "ExecuteTime": {
     "end_time": "2025-06-25T06:11:27.783293Z",
     "start_time": "2025-06-25T06:11:27.776663Z"
    }
   },
   "cell_type": "code",
   "source": [
    "mixed_list = [1, 2.5, \"Hello\", True]\n",
    "print(mixed_list)\n",
    "type(mixed_list)"
   ],
   "id": "4295c7343a764ba1",
   "outputs": [
    {
     "name": "stdout",
     "output_type": "stream",
     "text": [
      "[1, 2.5, 'Hello', True]\n"
     ]
    },
    {
     "data": {
      "text/plain": [
       "list"
      ]
     },
     "execution_count": 4,
     "metadata": {},
     "output_type": "execute_result"
    }
   ],
   "execution_count": 4
  },
  {
   "metadata": {},
   "cell_type": "markdown",
   "source": "## Accessing List Elements #",
   "id": "d3efd1adb880dec4"
  },
  {
   "metadata": {
    "ExecuteTime": {
     "end_time": "2025-06-25T06:11:28.105158Z",
     "start_time": "2025-06-25T06:11:28.100334Z"
    }
   },
   "cell_type": "code",
   "source": [
    "Fruits = [\"Mango\", \"Banana\",\"cherry\",\"kiwi\",\"gauva\"]\n",
    "print(Fruits[0])\n",
    "print(Fruits[2])\n",
    "print(Fruits[4])\n",
    "print(Fruits[-1])\n"
   ],
   "id": "5104aa00d0724c92",
   "outputs": [
    {
     "name": "stdout",
     "output_type": "stream",
     "text": [
      "Mango\n",
      "cherry\n",
      "gauva\n",
      "gauva\n"
     ]
    }
   ],
   "execution_count": 5
  },
  {
   "metadata": {
    "ExecuteTime": {
     "end_time": "2025-06-25T06:11:28.201434Z",
     "start_time": "2025-06-25T06:11:28.196968Z"
    }
   },
   "cell_type": "code",
   "source": [
    "print(Fruits[1:3])\n",
    "print(Fruits[1:])"
   ],
   "id": "b1dc8f901db59445",
   "outputs": [
    {
     "name": "stdout",
     "output_type": "stream",
     "text": [
      "['Banana', 'cherry']\n",
      "['Banana', 'cherry', 'kiwi', 'gauva']\n"
     ]
    }
   ],
   "execution_count": 6
  },
  {
   "metadata": {},
   "cell_type": "markdown",
   "source": "## Modifying List Elements #",
   "id": "ce4245ffffb4ba81"
  },
  {
   "metadata": {
    "ExecuteTime": {
     "end_time": "2025-06-25T06:11:28.358811Z",
     "start_time": "2025-06-25T06:11:28.353031Z"
    }
   },
   "cell_type": "code",
   "source": "Fruits",
   "id": "238828ff93424430",
   "outputs": [
    {
     "data": {
      "text/plain": [
       "['Mango', 'Banana', 'cherry', 'kiwi', 'gauva']"
      ]
     },
     "execution_count": 7,
     "metadata": {},
     "output_type": "execute_result"
    }
   ],
   "execution_count": 7
  },
  {
   "metadata": {
    "ExecuteTime": {
     "end_time": "2025-06-25T06:11:28.480007Z",
     "start_time": "2025-06-25T06:11:28.472347Z"
    }
   },
   "cell_type": "code",
   "source": [
    "Fruits[1]= \"Apple\"\n",
    "Fruits"
   ],
   "id": "f50e7275b64a049c",
   "outputs": [
    {
     "data": {
      "text/plain": [
       "['Mango', 'Apple', 'cherry', 'kiwi', 'gauva']"
      ]
     },
     "execution_count": 8,
     "metadata": {},
     "output_type": "execute_result"
    }
   ],
   "execution_count": 8
  },
  {
   "metadata": {},
   "cell_type": "markdown",
   "source": "## List Methods #",
   "id": "799145dffe001ae5"
  },
  {
   "metadata": {
    "ExecuteTime": {
     "end_time": "2025-06-25T06:11:28.551246Z",
     "start_time": "2025-06-25T06:11:28.545169Z"
    }
   },
   "cell_type": "code",
   "source": [
    "Fruits.append(\"Orange\") # Adding item to end of the list\n",
    "Fruits"
   ],
   "id": "84d5f36ad458fb34",
   "outputs": [
    {
     "data": {
      "text/plain": [
       "['Mango', 'Apple', 'cherry', 'kiwi', 'gauva', 'Orange']"
      ]
     },
     "execution_count": 9,
     "metadata": {},
     "output_type": "execute_result"
    }
   ],
   "execution_count": 9
  },
  {
   "metadata": {
    "ExecuteTime": {
     "end_time": "2025-06-25T06:11:28.611615Z",
     "start_time": "2025-06-25T06:11:28.606018Z"
    }
   },
   "cell_type": "code",
   "source": "Fruits.insert(2, \"Pineapple\") # Inserting item at index 2",
   "id": "2c3b1c21a845fc25",
   "outputs": [],
   "execution_count": 10
  },
  {
   "metadata": {
    "ExecuteTime": {
     "end_time": "2025-06-25T06:11:28.696018Z",
     "start_time": "2025-06-25T06:11:28.691103Z"
    }
   },
   "cell_type": "code",
   "source": "print(Fruits)",
   "id": "6187dd8788e221db",
   "outputs": [
    {
     "name": "stdout",
     "output_type": "stream",
     "text": [
      "['Mango', 'Apple', 'Pineapple', 'cherry', 'kiwi', 'gauva', 'Orange']\n"
     ]
    }
   ],
   "execution_count": 11
  },
  {
   "metadata": {
    "ExecuteTime": {
     "end_time": "2025-06-25T06:11:28.774962Z",
     "start_time": "2025-06-25T06:11:28.769378Z"
    }
   },
   "cell_type": "code",
   "source": [
    "Fruits.remove(\"Orange\") # Removing value from the list\n",
    "Fruits"
   ],
   "id": "30e1a7057809a758",
   "outputs": [
    {
     "data": {
      "text/plain": [
       "['Mango', 'Apple', 'Pineapple', 'cherry', 'kiwi', 'gauva']"
      ]
     },
     "execution_count": 12,
     "metadata": {},
     "output_type": "execute_result"
    }
   ],
   "execution_count": 12
  },
  {
   "metadata": {
    "ExecuteTime": {
     "end_time": "2025-06-25T06:11:28.903690Z",
     "start_time": "2025-06-25T06:11:28.894589Z"
    }
   },
   "cell_type": "code",
   "source": [
    "popped_fruits = Fruits.pop() # Removing the laast item from the list and returning it\n",
    "print(popped_fruits)\n",
    "print(Fruits)"
   ],
   "id": "673f102075fd9305",
   "outputs": [
    {
     "name": "stdout",
     "output_type": "stream",
     "text": [
      "gauva\n",
      "['Mango', 'Apple', 'Pineapple', 'cherry', 'kiwi']\n"
     ]
    }
   ],
   "execution_count": 13
  },
  {
   "metadata": {
    "ExecuteTime": {
     "end_time": "2025-06-25T06:11:28.989189Z",
     "start_time": "2025-06-25T06:11:28.985130Z"
    }
   },
   "cell_type": "code",
   "source": [
    " index = Fruits.index(\"cherry\") # Finding the index of an item\n",
    " print(index)"
   ],
   "id": "774f5da3bd00cf4d",
   "outputs": [
    {
     "name": "stdout",
     "output_type": "stream",
     "text": [
      "3\n"
     ]
    }
   ],
   "execution_count": 14
  },
  {
   "metadata": {
    "ExecuteTime": {
     "end_time": "2025-06-25T06:11:29.080684Z",
     "start_time": "2025-06-25T06:11:29.074223Z"
    }
   },
   "cell_type": "code",
   "source": [
    "Fruits.insert(5,\"Mango\")\n",
    "print(Fruits)\n",
    "Fruits.count(\"Mango\")"
   ],
   "id": "2542f2c15df317be",
   "outputs": [
    {
     "name": "stdout",
     "output_type": "stream",
     "text": [
      "['Mango', 'Apple', 'Pineapple', 'cherry', 'kiwi', 'Mango']\n"
     ]
    },
    {
     "data": {
      "text/plain": [
       "2"
      ]
     },
     "execution_count": 15,
     "metadata": {},
     "output_type": "execute_result"
    }
   ],
   "execution_count": 15
  },
  {
   "metadata": {
    "ExecuteTime": {
     "end_time": "2025-06-25T06:11:30.491827Z",
     "start_time": "2025-06-25T06:11:30.488599Z"
    }
   },
   "cell_type": "code",
   "source": [
    "Fruits.sort() # Sorting the list in ascending order\n",
    "print(Fruits)"
   ],
   "id": "55c0cdc65763ae23",
   "outputs": [
    {
     "name": "stdout",
     "output_type": "stream",
     "text": [
      "['Apple', 'Mango', 'Mango', 'Pineapple', 'cherry', 'kiwi']\n"
     ]
    }
   ],
   "execution_count": 16
  },
  {
   "metadata": {
    "ExecuteTime": {
     "end_time": "2025-06-25T06:11:30.662551Z",
     "start_time": "2025-06-25T06:11:30.657443Z"
    }
   },
   "cell_type": "code",
   "source": [
    "Fruits.reverse() # Reversing the order of the list\n",
    "Fruits"
   ],
   "id": "731ccbb18bce5bb2",
   "outputs": [
    {
     "data": {
      "text/plain": [
       "['kiwi', 'cherry', 'Pineapple', 'Mango', 'Mango', 'Apple']"
      ]
     },
     "execution_count": 17,
     "metadata": {},
     "output_type": "execute_result"
    }
   ],
   "execution_count": 17
  },
  {
   "metadata": {
    "ExecuteTime": {
     "end_time": "2025-06-25T06:11:31.508346Z",
     "start_time": "2025-06-25T06:11:31.503375Z"
    }
   },
   "cell_type": "code",
   "source": [
    "Fruits.clear() # Remove all Items from the list\n",
    "Fruits"
   ],
   "id": "336396abe3649ac1",
   "outputs": [
    {
     "data": {
      "text/plain": [
       "[]"
      ]
     },
     "execution_count": 18,
     "metadata": {},
     "output_type": "execute_result"
    }
   ],
   "execution_count": 18
  },
  {
   "metadata": {},
   "cell_type": "markdown",
   "source": "## Slicing Lists #",
   "id": "95967770ab3475dc"
  },
  {
   "metadata": {
    "ExecuteTime": {
     "end_time": "2025-06-25T06:11:31.646066Z",
     "start_time": "2025-06-25T06:11:31.642142Z"
    }
   },
   "cell_type": "code",
   "source": [
    "numbers = [1, 2, 3, 4, 5, 6, 7, 8, 9, 10]\n",
    "print(numbers[2:5])\n",
    "print(numbers[:5])\n",
    "print(numbers[5:])\n",
    "print(numbers[::2])\n",
    "print(numbers[::-1])"
   ],
   "id": "197f770ee41a8d8e",
   "outputs": [
    {
     "name": "stdout",
     "output_type": "stream",
     "text": [
      "[3, 4, 5]\n",
      "[1, 2, 3, 4, 5]\n",
      "[6, 7, 8, 9, 10]\n",
      "[1, 3, 5, 7, 9]\n",
      "[10, 9, 8, 7, 6, 5, 4, 3, 2, 1]\n"
     ]
    }
   ],
   "execution_count": 19
  },
  {
   "metadata": {},
   "cell_type": "markdown",
   "source": "## Iterating Over List #",
   "id": "b4478f95f5b28015"
  },
  {
   "metadata": {
    "ExecuteTime": {
     "end_time": "2025-06-25T06:19:44.064566Z",
     "start_time": "2025-06-25T06:19:44.060662Z"
    }
   },
   "cell_type": "code",
   "source": [
    "numbers = [1, 2, 3, 4, 5, 6, 7, 8, 9, 10]\n",
    "for number in numbers:\n",
    "    print(number)"
   ],
   "id": "7f8e333aeb2de52e",
   "outputs": [
    {
     "name": "stdout",
     "output_type": "stream",
     "text": [
      "1\n",
      "2\n",
      "3\n",
      "4\n",
      "5\n",
      "6\n",
      "7\n",
      "8\n",
      "9\n",
      "10\n"
     ]
    }
   ],
   "execution_count": 24
  },
  {
   "metadata": {
    "ExecuteTime": {
     "end_time": "2025-06-25T06:22:01.461506Z",
     "start_time": "2025-06-25T06:22:01.455381Z"
    }
   },
   "cell_type": "code",
   "source": [
    "# Inerating With The Indexing\n",
    "for index,number in enumerate(numbers):\n",
    "    print(f\"index:{index}, Number: {number}\")"
   ],
   "id": "790af1c52ca12be",
   "outputs": [
    {
     "name": "stdout",
     "output_type": "stream",
     "text": [
      "index:0, Number: 1\n",
      "index:1, Number: 2\n",
      "index:2, Number: 3\n",
      "index:3, Number: 4\n",
      "index:4, Number: 5\n",
      "index:5, Number: 6\n",
      "index:6, Number: 7\n",
      "index:7, Number: 8\n",
      "index:8, Number: 9\n",
      "index:9, Number: 10\n"
     ]
    }
   ],
   "execution_count": 26
  },
  {
   "metadata": {
    "ExecuteTime": {
     "end_time": "2025-06-25T06:24:49.927601Z",
     "start_time": "2025-06-25T06:24:49.923115Z"
    }
   },
   "cell_type": "code",
   "source": [
    "# List Comprehension\n",
    "lst=[]\n",
    "for x in range(10):\n",
    "    lst.append(x**2)\n",
    "\n",
    "print(lst)"
   ],
   "id": "b72bf67168d03ae",
   "outputs": [
    {
     "name": "stdout",
     "output_type": "stream",
     "text": [
      "[0, 1, 4, 9, 16, 25, 36, 49, 64, 81]\n"
     ]
    }
   ],
   "execution_count": 35
  },
  {
   "metadata": {
    "ExecuteTime": {
     "end_time": "2025-06-25T06:48:10.858107Z",
     "start_time": "2025-06-25T06:48:10.850295Z"
    }
   },
   "cell_type": "code",
   "source": "[x **2 for x in range(10)] #This is a list comprehension that create a list of squares of numbers from 0 to 9",
   "id": "89d210449fe1800f",
   "outputs": [
    {
     "data": {
      "text/plain": [
       "[0, 1, 4, 9, 16, 25, 36, 49, 64, 81]"
      ]
     },
     "execution_count": 38,
     "metadata": {},
     "output_type": "execute_result"
    }
   ],
   "execution_count": 38
  },
  {
   "metadata": {},
   "cell_type": "markdown",
   "source": [
    "### Syntax of List Comprehension #\n",
    "\n",
    "Basic syntax:              [expression for item in itrable ]\n",
    "\n",
    "with conditional logic :   [expression for item in itrable if condition]\n",
    "\n",
    "Nested List Comprehension: [expression for item in itrable1 for item2 in itrable2 ]\n"
   ],
   "id": "9749323316394666"
  },
  {
   "metadata": {
    "ExecuteTime": {
     "end_time": "2025-06-25T06:52:34.480044Z",
     "start_time": "2025-06-25T06:52:34.457993Z"
    }
   },
   "cell_type": "code",
   "source": [
    "# Basic Syntax Example\n",
    "\n",
    "square = [x**2 for x  in range (10)]\n",
    "print(square)"
   ],
   "id": "a68e162945a831d8",
   "outputs": [
    {
     "name": "stdout",
     "output_type": "stream",
     "text": [
      "[0, 1, 4, 9, 16, 25, 36, 49, 64, 81]\n"
     ]
    }
   ],
   "execution_count": 39
  },
  {
   "metadata": {
    "ExecuteTime": {
     "end_time": "2025-06-25T06:54:52.138174Z",
     "start_time": "2025-06-25T06:54:52.129843Z"
    }
   },
   "cell_type": "code",
   "source": [
    "# With Conditional Logic\n",
    "lst = []\n",
    "for x in range (10):\n",
    "    if x %2 ==0:\n",
    "        lst.append(x)\n",
    "print(lst)\n"
   ],
   "id": "367bd1e19c8e0971",
   "outputs": [
    {
     "name": "stdout",
     "output_type": "stream",
     "text": [
      "[0, 2, 4, 6, 8]\n"
     ]
    }
   ],
   "execution_count": 42
  },
  {
   "metadata": {
    "ExecuteTime": {
     "end_time": "2025-06-25T06:56:13.808452Z",
     "start_time": "2025-06-25T06:56:13.793781Z"
    }
   },
   "cell_type": "code",
   "source": "even_number= [x for x in range(10) if x %2 ==0]",
   "id": "35864dd4375e1f11",
   "outputs": [],
   "execution_count": 43
  },
  {
   "metadata": {
    "ExecuteTime": {
     "end_time": "2025-06-25T06:56:23.068533Z",
     "start_time": "2025-06-25T06:56:23.059637Z"
    }
   },
   "cell_type": "code",
   "source": "print(even_number)",
   "id": "a194eb6273cf6c0e",
   "outputs": [
    {
     "name": "stdout",
     "output_type": "stream",
     "text": [
      "[0, 2, 4, 6, 8]\n"
     ]
    }
   ],
   "execution_count": 44
  },
  {
   "metadata": {
    "ExecuteTime": {
     "end_time": "2025-06-25T06:59:47.727903Z",
     "start_time": "2025-06-25T06:59:47.717161Z"
    }
   },
   "cell_type": "code",
   "source": [
    "# Nested List Comprehension\n",
    "\n",
    "lst1= [1,2,3]\n",
    "lst2= ['a','b','c']\n",
    "pair = [[i,j]for i in lst1 for j in lst2]\n",
    "print(pair)"
   ],
   "id": "a6313b75ec15f9f5",
   "outputs": [
    {
     "name": "stdout",
     "output_type": "stream",
     "text": [
      "[[1, 'a'], [1, 'b'], [1, 'c'], [2, 'a'], [2, 'b'], [2, 'c'], [3, 'a'], [3, 'b'], [3, 'c']]\n"
     ]
    }
   ],
   "execution_count": 45
  },
  {
   "metadata": {
    "ExecuteTime": {
     "end_time": "2025-06-25T07:02:18.370208Z",
     "start_time": "2025-06-25T07:02:18.363623Z"
    }
   },
   "cell_type": "code",
   "source": [
    "## List Comprehension with Functions\n",
    "\n",
    "words = [\"hello\", \"world\", \"python\", \"list\", \"comprehension\"]\n",
    "lenghts = [len(word) for word in words]\n",
    "print(lenghts)\n"
   ],
   "id": "68d2b8565883e8c7",
   "outputs": [
    {
     "name": "stdout",
     "output_type": "stream",
     "text": [
      "[5, 5, 6, 4, 13]\n"
     ]
    }
   ],
   "execution_count": 47
  },
  {
   "metadata": {},
   "cell_type": "markdown",
   "source": "-----------------------------------------------------------------------",
   "id": "53e2f00d58a86d60"
  },
  {
   "metadata": {},
   "cell_type": "markdown",
   "source": "## Introduction to Tuples #",
   "id": "5e63385529e0b19"
  },
  {
   "metadata": {},
   "cell_type": "markdown",
   "source": [
    "Tuples are orderd collections of items that are immutable.\n",
    "\n",
    "They are similar to lists but thier immutability makes them different.\n"
   ],
   "id": "519c46e84dbf606a"
  },
  {
   "metadata": {
    "ExecuteTime": {
     "end_time": "2025-06-25T07:46:50.528976Z",
     "start_time": "2025-06-25T07:46:50.500428Z"
    }
   },
   "cell_type": "code",
   "source": [
    "# Creating Tuple\n",
    "\n",
    "empty_tuple = ()\n",
    "print(type(empty_tuple))\n",
    "print(empty_tuple)"
   ],
   "id": "2679c0610b8ed43c",
   "outputs": [
    {
     "name": "stdout",
     "output_type": "stream",
     "text": [
      "<class 'tuple'>\n",
      "()\n"
     ]
    }
   ],
   "execution_count": 48
  },
  {
   "metadata": {
    "ExecuteTime": {
     "end_time": "2025-06-25T07:48:11.800325Z",
     "start_time": "2025-06-25T07:48:11.790667Z"
    }
   },
   "cell_type": "code",
   "source": [
    "lst = list()\n",
    "print(type(lst))\n",
    "tlp = tuple()\n",
    "print(type(tlp))\n"
   ],
   "id": "9e128ac427c7eb0e",
   "outputs": [
    {
     "name": "stdout",
     "output_type": "stream",
     "text": [
      "<class 'list'>\n",
      "<class 'tuple'>\n"
     ]
    }
   ],
   "execution_count": 49
  },
  {
   "metadata": {
    "ExecuteTime": {
     "end_time": "2025-06-25T07:50:15.874819Z",
     "start_time": "2025-06-25T07:50:15.847518Z"
    }
   },
   "cell_type": "code",
   "source": [
    "numbers=tuple([1,2,3,4,5])\n",
    "numbers"
   ],
   "id": "8f1535881709c22c",
   "outputs": [
    {
     "data": {
      "text/plain": [
       "(1, 2, 3, 4, 5)"
      ]
     },
     "execution_count": 50,
     "metadata": {},
     "output_type": "execute_result"
    }
   ],
   "execution_count": 50
  },
  {
   "metadata": {
    "ExecuteTime": {
     "end_time": "2025-06-25T07:50:46.869104Z",
     "start_time": "2025-06-25T07:50:46.829079Z"
    }
   },
   "cell_type": "code",
   "source": "list((1,2,3,4,5))",
   "id": "97f36e098e9e7462",
   "outputs": [
    {
     "data": {
      "text/plain": [
       "[1, 2, 3, 4, 5]"
      ]
     },
     "execution_count": 51,
     "metadata": {},
     "output_type": "execute_result"
    }
   ],
   "execution_count": 51
  },
  {
   "metadata": {
    "ExecuteTime": {
     "end_time": "2025-06-25T07:51:45.993110Z",
     "start_time": "2025-06-25T07:51:45.979258Z"
    }
   },
   "cell_type": "code",
   "source": [
    "mixed_tuple = (1,\"Hello world\",3.14, True)\n",
    "print(mixed_tuple)"
   ],
   "id": "4f650c050e66219d",
   "outputs": [
    {
     "name": "stdout",
     "output_type": "stream",
     "text": [
      "(1, 'Hello world', 3.14, True)\n"
     ]
    }
   ],
   "execution_count": 53
  },
  {
   "metadata": {},
   "cell_type": "markdown",
   "source": "## Accesing Tuple Element #",
   "id": "455042e9a55e9bd2"
  },
  {
   "metadata": {
    "ExecuteTime": {
     "end_time": "2025-06-25T07:53:19.264844Z",
     "start_time": "2025-06-25T07:53:19.252591Z"
    }
   },
   "cell_type": "code",
   "source": [
    "# Accesing Tuple Elements\n",
    "\n",
    "numbers"
   ],
   "id": "bd81a71439a09d5c",
   "outputs": [
    {
     "data": {
      "text/plain": [
       "(1, 2, 3, 4, 5)"
      ]
     },
     "execution_count": 54,
     "metadata": {},
     "output_type": "execute_result"
    }
   ],
   "execution_count": 54
  },
  {
   "metadata": {
    "ExecuteTime": {
     "end_time": "2025-06-25T07:54:31.801944Z",
     "start_time": "2025-06-25T07:54:31.798751Z"
    }
   },
   "cell_type": "code",
   "source": [
    "print(numbers[0])\n",
    "print(numbers[-1])"
   ],
   "id": "7d8eeb02e87d4e06",
   "outputs": [
    {
     "name": "stdout",
     "output_type": "stream",
     "text": [
      "1\n",
      "5\n"
     ]
    }
   ],
   "execution_count": 58
  },
  {
   "metadata": {},
   "cell_type": "markdown",
   "source": "## Slicing Tuples #",
   "id": "2f118416b536f761"
  },
  {
   "metadata": {
    "ExecuteTime": {
     "end_time": "2025-06-25T07:55:00.950998Z",
     "start_time": "2025-06-25T07:55:00.941848Z"
    }
   },
   "cell_type": "code",
   "source": "numbers",
   "id": "95255a3ac62ddd6a",
   "outputs": [
    {
     "data": {
      "text/plain": [
       "(1, 2, 3, 4, 5)"
      ]
     },
     "execution_count": 59,
     "metadata": {},
     "output_type": "execute_result"
    }
   ],
   "execution_count": 59
  },
  {
   "metadata": {
    "ExecuteTime": {
     "end_time": "2025-06-25T07:56:07.075658Z",
     "start_time": "2025-06-25T07:56:07.059929Z"
    }
   },
   "cell_type": "code",
   "source": [
    "print(numbers[1:3])\n",
    "print(numbers[::])\n"
   ],
   "id": "1424c76079671a74",
   "outputs": [
    {
     "name": "stdout",
     "output_type": "stream",
     "text": [
      "(2, 3)\n",
      "(1, 2, 3, 4, 5)\n"
     ]
    }
   ],
   "execution_count": 63
  },
  {
   "metadata": {},
   "cell_type": "markdown",
   "source": "## Tuple Operations #",
   "id": "45082ade33c53a02"
  },
  {
   "metadata": {
    "ExecuteTime": {
     "end_time": "2025-06-25T07:58:40.791213Z",
     "start_time": "2025-06-25T07:58:40.771802Z"
    }
   },
   "cell_type": "code",
   "source": [
    "# numbers]\n",
    "# mixed_tuple\n",
    "\n",
    "concatenation =  numbers + mixed_tuple\n",
    "print(concatenation)"
   ],
   "id": "408666184d677a2f",
   "outputs": [
    {
     "name": "stdout",
     "output_type": "stream",
     "text": [
      "(1, 2, 3, 4, 5, 1, 'Hello world', 3.14, True)\n"
     ]
    }
   ],
   "execution_count": 67
  },
  {
   "metadata": {
    "ExecuteTime": {
     "end_time": "2025-06-25T07:59:40.707617Z",
     "start_time": "2025-06-25T07:59:40.696641Z"
    }
   },
   "cell_type": "code",
   "source": "mixed_tuple * 3",
   "id": "3cd5d0cb1c031a32",
   "outputs": [
    {
     "data": {
      "text/plain": [
       "(1,\n",
       " 'Hello world',\n",
       " 3.14,\n",
       " True,\n",
       " 1,\n",
       " 'Hello world',\n",
       " 3.14,\n",
       " True,\n",
       " 1,\n",
       " 'Hello world',\n",
       " 3.14,\n",
       " True)"
      ]
     },
     "execution_count": 69,
     "metadata": {},
     "output_type": "execute_result"
    }
   ],
   "execution_count": 69
  },
  {
   "metadata": {
    "ExecuteTime": {
     "end_time": "2025-06-25T08:00:12.379631Z",
     "start_time": "2025-06-25T08:00:12.374473Z"
    }
   },
   "cell_type": "code",
   "source": "numbers * 3",
   "id": "9e83b8084c7ba830",
   "outputs": [
    {
     "data": {
      "text/plain": [
       "(1, 2, 3, 4, 5, 1, 2, 3, 4, 5, 1, 2, 3, 4, 5)"
      ]
     },
     "execution_count": 70,
     "metadata": {},
     "output_type": "execute_result"
    }
   ],
   "execution_count": 70
  },
  {
   "metadata": {},
   "cell_type": "markdown",
   "source": "## Immutabale nature of tuples #",
   "id": "550258d1b35a9af3"
  },
  {
   "metadata": {
    "ExecuteTime": {
     "end_time": "2025-06-25T08:02:14.822551Z",
     "start_time": "2025-06-25T08:02:14.784628Z"
    }
   },
   "cell_type": "code",
   "source": [
    "lst = [1,2,3,4,5]\n",
    "print(lst)\n",
    "\n",
    "lst[1] = \"Aryan\"\n",
    "print(lst)"
   ],
   "id": "e4d64b28c514a8e9",
   "outputs": [
    {
     "name": "stdout",
     "output_type": "stream",
     "text": [
      "[1, 2, 3, 4, 5]\n",
      "[1, 'Aryan', 3, 4, 5]\n"
     ]
    }
   ],
   "execution_count": 71
  },
  {
   "metadata": {
    "ExecuteTime": {
     "end_time": "2025-06-25T08:07:50.253973Z",
     "start_time": "2025-06-25T08:07:50.213263Z"
    }
   },
   "cell_type": "code",
   "source": "numbers [1] = \"Aryan\"",
   "id": "34b6c5ea4e0599b0",
   "outputs": [
    {
     "ename": "TypeError",
     "evalue": "'tuple' object does not support item assignment",
     "output_type": "error",
     "traceback": [
      "\u001B[31m---------------------------------------------------------------------------\u001B[39m",
      "\u001B[31mTypeError\u001B[39m                                 Traceback (most recent call last)",
      "\u001B[36mCell\u001B[39m\u001B[36m \u001B[39m\u001B[32mIn[75]\u001B[39m\u001B[32m, line 1\u001B[39m\n\u001B[32m----> \u001B[39m\u001B[32m1\u001B[39m \u001B[43mnumbers\u001B[49m\u001B[43m \u001B[49m\u001B[43m[\u001B[49m\u001B[32;43m1\u001B[39;49m\u001B[43m]\u001B[49m = \u001B[33m\"\u001B[39m\u001B[33mAryan\u001B[39m\u001B[33m\"\u001B[39m\n",
      "\u001B[31mTypeError\u001B[39m: 'tuple' object does not support item assignment"
     ]
    }
   ],
   "execution_count": 75
  },
  {
   "metadata": {
    "ExecuteTime": {
     "end_time": "2025-06-25T08:08:17.539092Z",
     "start_time": "2025-06-25T08:08:17.529801Z"
    }
   },
   "cell_type": "code",
   "source": [
    "## Tuple Methods\n",
    "numbers\n"
   ],
   "id": "d87404c64fb0c6cf",
   "outputs": [
    {
     "data": {
      "text/plain": [
       "(1, 2, 3, 4, 5)"
      ]
     },
     "execution_count": 76,
     "metadata": {},
     "output_type": "execute_result"
    }
   ],
   "execution_count": 76
  },
  {
   "metadata": {
    "ExecuteTime": {
     "end_time": "2025-06-25T08:09:09.516207Z",
     "start_time": "2025-06-25T08:09:09.511855Z"
    }
   },
   "cell_type": "code",
   "source": [
    "print(numbers.count(1))\n",
    "print(numbers.index(3))"
   ],
   "id": "b8df9fe72e345770",
   "outputs": [
    {
     "name": "stdout",
     "output_type": "stream",
     "text": [
      "1\n",
      "2\n"
     ]
    }
   ],
   "execution_count": 78
  },
  {
   "metadata": {
    "ExecuteTime": {
     "end_time": "2025-06-25T09:22:35.533797Z",
     "start_time": "2025-06-25T09:22:35.529622Z"
    }
   },
   "cell_type": "code",
   "source": [
    "# Packing and upacking Tuples\n",
    "\n",
    "# packing\n",
    "packed_tuple = 1,'Hello',3.14\n",
    "print(packed_tuple)\n",
    "\n",
    "# unpacking\n",
    "a,b,c = packed_tuple\n",
    "print(a)\n",
    "print(b)\n",
    "print(c)"
   ],
   "id": "7d67f2cf6b2bf5cc",
   "outputs": [
    {
     "name": "stdout",
     "output_type": "stream",
     "text": [
      "(1, 'Hello', 3.14)\n",
      "1\n",
      "Hello\n",
      "3.14\n"
     ]
    }
   ],
   "execution_count": 82
  },
  {
   "metadata": {
    "ExecuteTime": {
     "end_time": "2025-06-25T09:25:20.618028Z",
     "start_time": "2025-06-25T09:25:20.604838Z"
    }
   },
   "cell_type": "code",
   "source": [
    "# unpack with *\n",
    "\n",
    "numbers = (1,2,3,4,5,6)\n",
    "first, *middle, last  = numbers\n",
    "print(first)\n",
    "print(middle)\n",
    "print(last)"
   ],
   "id": "c8209daaecd7a78c",
   "outputs": [
    {
     "name": "stdout",
     "output_type": "stream",
     "text": [
      "1\n",
      "[2, 3, 4, 5]\n",
      "6\n"
     ]
    }
   ],
   "execution_count": 83
  },
  {
   "metadata": {
    "ExecuteTime": {
     "end_time": "2025-06-25T09:28:35.741890Z",
     "start_time": "2025-06-25T09:28:35.734392Z"
    }
   },
   "cell_type": "code",
   "source": [
    "# Nested Tuple\n",
    "# Nested List\n",
    "lst = [[1,2,3,4],[6,7,8,9],[1,\"Hello\",3.14,\"c\"]]\n",
    "lst[0][0:2]\n"
   ],
   "id": "42b88af9d0346e6a",
   "outputs": [
    {
     "data": {
      "text/plain": [
       "[1, 2]"
      ]
     },
     "execution_count": 86,
     "metadata": {},
     "output_type": "execute_result"
    }
   ],
   "execution_count": 86
  },
  {
   "metadata": {
    "ExecuteTime": {
     "end_time": "2025-06-25T09:29:34.420126Z",
     "start_time": "2025-06-25T09:29:34.412713Z"
    }
   },
   "cell_type": "code",
   "source": [
    "lst = [[1,2,3,4],[6,7,8,9],(1,\"Hello\",3.14,\"c\")]\n",
    "lst[2][0:4]\n"
   ],
   "id": "6ac9d93db8dfbdf5",
   "outputs": [
    {
     "data": {
      "text/plain": [
       "(1, 'Hello', 3.14, 'c')"
      ]
     },
     "execution_count": 87,
     "metadata": {},
     "output_type": "execute_result"
    }
   ],
   "execution_count": 87
  },
  {
   "metadata": {
    "ExecuteTime": {
     "end_time": "2025-06-25T09:31:41.967140Z",
     "start_time": "2025-06-25T09:31:41.962010Z"
    }
   },
   "cell_type": "code",
   "source": [
    "nested_Tuple = ((1,2,3),(\"a\",\"b\",\"c\"),(True, False))\n",
    "\n",
    "print(nested_Tuple[0])\n",
    "print(nested_Tuple[1][2])"
   ],
   "id": "a779793137b840cf",
   "outputs": [
    {
     "name": "stdout",
     "output_type": "stream",
     "text": [
      "(1, 2, 3)\n",
      "c\n"
     ]
    }
   ],
   "execution_count": 89
  },
  {
   "metadata": {
    "ExecuteTime": {
     "end_time": "2025-06-25T09:33:28.161392Z",
     "start_time": "2025-06-25T09:33:28.146233Z"
    }
   },
   "cell_type": "code",
   "source": [
    "for sub_tuple in nested_Tuple:\n",
    "    for item in sub_tuple:\n",
    "        print(item, end =\" \")\n",
    "    print()\n"
   ],
   "id": "4760cc73a2fd0fee",
   "outputs": [
    {
     "name": "stdout",
     "output_type": "stream",
     "text": [
      "1 2 3 \n",
      "a b c \n",
      "True False \n"
     ]
    }
   ],
   "execution_count": 90
  },
  {
   "metadata": {},
   "cell_type": "markdown",
   "source": "## Introduction to Sets #",
   "id": "c0708080f35a5eee"
  },
  {
   "metadata": {},
   "cell_type": "markdown",
   "source": [
    "Sets are a built in data type in python used to store collections of unique items.\n",
    "\n",
    "They are unordered menaing that the elements do not follow any specific order, and they do not allow duplicate elements\n",
    "\n",
    "Sets are mutable.\n",
    "\n",
    "Sets are useful for membership tests, eliminating duplicate entries, and performing mathematical set operations like union and intersection, difference, and symmetric difference.\n"
   ],
   "id": "a1f4757f4df39411"
  },
  {
   "metadata": {},
   "cell_type": "code",
   "source": [
    "# Creating a set\n",
    "\n",
    "my_set = {1,2,3,4,5}\n",
    "print(my_set)\n",
    "print(type(my_set))"
   ],
   "id": "7648f0e89d183c3e",
   "outputs": [
    {
     "name": "stdout",
     "output_type": "stream",
     "text": [
      "{1, 2, 3, 4, 5}\n",
      "<class 'set'>\n"
     ]
    }
   ],
   "execution_count": 91
  },
  {
   "metadata": {
    "ExecuteTime": {
     "end_time": "2025-06-25T09:50:33.914974Z",
     "start_time": "2025-06-25T09:50:33.904341Z"
    }
   },
   "cell_type": "code",
   "source": [
    "my_set = {1,2,3,4,5,6,4,5,3,2}\n",
    "print(my_set)"
   ],
   "id": "3a123caec4d09ed6",
   "outputs": [
    {
     "name": "stdout",
     "output_type": "stream",
     "text": [
      "{1, 2, 3, 4, 5, 6}\n"
     ]
    }
   ],
   "execution_count": 92
  },
  {
   "metadata": {},
   "cell_type": "markdown",
   "source": "## Basic Set Operations #",
   "id": "ff48cc1f49952d4a"
  },
  {
   "metadata": {
    "ExecuteTime": {
     "end_time": "2025-06-25T09:51:30.758006Z",
     "start_time": "2025-06-25T09:51:30.686156Z"
    }
   },
   "cell_type": "code",
   "source": "my_set",
   "id": "28bb8afc2524f0a2",
   "outputs": [
    {
     "data": {
      "text/plain": [
       "{1, 2, 3, 4, 5, 6}"
      ]
     },
     "execution_count": 93,
     "metadata": {},
     "output_type": "execute_result"
    }
   ],
   "execution_count": 93
  },
  {
   "metadata": {
    "ExecuteTime": {
     "end_time": "2025-06-25T09:52:05.418771Z",
     "start_time": "2025-06-25T09:52:05.411459Z"
    }
   },
   "cell_type": "code",
   "source": [
    "# Add The element to the set\n",
    "my_set.add(7)\n",
    "my_set"
   ],
   "id": "1bcf8185e038e916",
   "outputs": [
    {
     "data": {
      "text/plain": [
       "{1, 2, 3, 4, 5, 6, 7}"
      ]
     },
     "execution_count": 96,
     "metadata": {},
     "output_type": "execute_result"
    }
   ],
   "execution_count": 96
  },
  {
   "metadata": {
    "ExecuteTime": {
     "end_time": "2025-06-25T09:54:01.371320Z",
     "start_time": "2025-06-25T09:54:01.345846Z"
    }
   },
   "cell_type": "code",
   "source": [
    "# Removing an element from the set\n",
    "my_set.remove(5)\n",
    "print(my_set)"
   ],
   "id": "a419c6d846cb1cfb",
   "outputs": [
    {
     "name": "stdout",
     "output_type": "stream",
     "text": [
      "{1, 2, 3, 4, 6, 7}\n"
     ]
    }
   ],
   "execution_count": 97
  },
  {
   "metadata": {
    "ExecuteTime": {
     "end_time": "2025-06-25T09:55:21.854776Z",
     "start_time": "2025-06-25T09:55:21.848132Z"
    }
   },
   "cell_type": "code",
   "source": [
    "my_set.discard(16)\n",
    "print(my_set)"
   ],
   "id": "8b899c6266250921",
   "outputs": [
    {
     "name": "stdout",
     "output_type": "stream",
     "text": [
      "{1, 2, 3, 4, 6, 7}\n"
     ]
    }
   ],
   "execution_count": 100
  },
  {
   "metadata": {
    "ExecuteTime": {
     "end_time": "2025-06-25T09:56:16.196609Z",
     "start_time": "2025-06-25T09:56:16.176252Z"
    }
   },
   "cell_type": "code",
   "source": [
    "# Pop Method\n",
    "popped_element = my_set.pop()  # Removes and returns an arbitrary element\n",
    "print(popped_element)\n",
    "print(my_set)"
   ],
   "id": "f94cbce17d22c37c",
   "outputs": [
    {
     "name": "stdout",
     "output_type": "stream",
     "text": [
      "1\n",
      "{2, 3, 4, 6, 7}\n"
     ]
    }
   ],
   "execution_count": 101
  },
  {
   "metadata": {
    "ExecuteTime": {
     "end_time": "2025-06-25T09:56:58.323523Z",
     "start_time": "2025-06-25T09:56:58.312604Z"
    }
   },
   "cell_type": "code",
   "source": [
    "# Clear The Set\n",
    "my_set.clear()\n",
    "print(my_set)  # Now the set is empty"
   ],
   "id": "3b846eadac18e85",
   "outputs": [
    {
     "name": "stdout",
     "output_type": "stream",
     "text": [
      "set()\n"
     ]
    }
   ],
   "execution_count": 102
  },
  {
   "metadata": {
    "ExecuteTime": {
     "end_time": "2025-06-25T09:57:51.507701Z",
     "start_time": "2025-06-25T09:57:51.500630Z"
    }
   },
   "cell_type": "code",
   "source": [
    "# Set Membership test\n",
    "\n",
    "my_set = {1,2,3,4,5}\n",
    "print(3 in my_set)  # True\n",
    "print(6 in my_set)  # False"
   ],
   "id": "9b7dd7287ea67644",
   "outputs": [
    {
     "name": "stdout",
     "output_type": "stream",
     "text": [
      "True\n",
      "False\n"
     ]
    }
   ],
   "execution_count": 104
  },
  {
   "metadata": {
    "ExecuteTime": {
     "end_time": "2025-06-25T09:59:20.099792Z",
     "start_time": "2025-06-25T09:59:20.086147Z"
    }
   },
   "cell_type": "code",
   "source": [
    "#MAthematical operations\n",
    "set_a = {1, 2, 3, 4}\n",
    "set_b = {3, 4, 5, 6}\n",
    "# Union\n",
    "union_set = set_a.union(set_b)  # or set_a | set_b\n",
    "print(\"Union:\", union_set)\n",
    "# Intersection\n",
    "intersection_set = set_a.intersection(set_b)  # or set_a & set_b\n",
    "print(\"Intersection:\", intersection_set)\n",
    "# Difference\n",
    "difference_set = set_a.difference(set_b)  # or set_a - set_b\n",
    "print(\"Difference:\", difference_set)\n",
    "# Symmetric Difference\n",
    "symmetric_difference_set = set_a.symmetric_difference(set_b)  # or set_a ^ set_b\n",
    "print(\"Symmetric Difference:\", symmetric_difference_set)\n"
   ],
   "id": "53717ba78aaa4368",
   "outputs": [
    {
     "name": "stdout",
     "output_type": "stream",
     "text": [
      "Union: {1, 2, 3, 4, 5, 6}\n",
      "Intersection: {3, 4}\n",
      "Difference: {1, 2}\n",
      "Symmetric Difference: {1, 2, 5, 6}\n"
     ]
    }
   ],
   "execution_count": 106
  },
  {
   "metadata": {},
   "cell_type": "markdown",
   "source": "## Set Methods #",
   "id": "d0d00428b3775dbf"
  },
  {
   "metadata": {
    "ExecuteTime": {
     "end_time": "2025-06-25T10:04:38.493745Z",
     "start_time": "2025-06-25T10:04:38.485171Z"
    }
   },
   "cell_type": "code",
   "source": [
    "# Set Methods\n",
    "\n",
    "set1 = {1, 2, 3}\n",
    "set2 = {3, 4, 5}\n",
    "\n",
    "#is subset\n",
    "print(set1.issubset(set2))  # False\n",
    "\n",
    "#is superset\n",
    "print(set2.issuperset(set1))  # False"
   ],
   "id": "a40bba7e9aebbf7f",
   "outputs": [
    {
     "name": "stdout",
     "output_type": "stream",
     "text": [
      "False\n",
      "False\n"
     ]
    }
   ],
   "execution_count": 108
  },
  {
   "metadata": {
    "ExecuteTime": {
     "end_time": "2025-06-25T10:06:51.977800Z",
     "start_time": "2025-06-25T10:06:51.956226Z"
    }
   },
   "cell_type": "code",
   "source": [
    "lt = [1,2,3,4,4,5,6,5,7,8,9,10,10]\n",
    "my_set = set (lt)\n",
    "\n",
    "print(my_set)  # {1, 2, 3, 4, 5, 6, 7, 8, 9, 10}"
   ],
   "id": "5645aef532d81ab6",
   "outputs": [
    {
     "name": "stdout",
     "output_type": "stream",
     "text": [
      "{1, 2, 3, 4, 5, 6, 7, 8, 9, 10}\n"
     ]
    }
   ],
   "execution_count": 110
  },
  {
   "metadata": {
    "ExecuteTime": {
     "end_time": "2025-06-25T10:10:40.811153Z",
     "start_time": "2025-06-25T10:10:40.803183Z"
    }
   },
   "cell_type": "code",
   "source": [
    "# Counting Unique Elements\n",
    "\n",
    "text = \"In this tutorial we are discussing about sets\"\n",
    "words = text.split()\n",
    "\n",
    "# Convert list of word to set to get unique words\n",
    "\n",
    "unique_words = set(words)\n",
    "print(unique_words)\n",
    "print(len(unique_words))\n"
   ],
   "id": "9ec084454559c897",
   "outputs": [
    {
     "name": "stdout",
     "output_type": "stream",
     "text": [
      "{'sets', 'tutorial', 'are', 'In', 'about', 'we', 'this', 'discussing'}\n",
      "8\n"
     ]
    }
   ],
   "execution_count": 112
  },
  {
   "metadata": {},
   "cell_type": "code",
   "outputs": [],
   "execution_count": null,
   "source": "",
   "id": "cf9032bc49d60697"
  }
 ],
 "metadata": {
  "kernelspec": {
   "display_name": "Python 3",
   "language": "python",
   "name": "python3"
  },
  "language_info": {
   "codemirror_mode": {
    "name": "ipython",
    "version": 2
   },
   "file_extension": ".py",
   "mimetype": "text/x-python",
   "name": "python",
   "nbconvert_exporter": "python",
   "pygments_lexer": "ipython2",
   "version": "2.7.6"
  }
 },
 "nbformat": 4,
 "nbformat_minor": 5
}
