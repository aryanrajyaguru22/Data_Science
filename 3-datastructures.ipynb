{
 "cells": [
  {
   "metadata": {},
   "cell_type": "markdown",
   "source": "# Introduction to Data Structures in Python #",
   "id": "39d1944d58b25750"
  },
  {
   "metadata": {},
   "cell_type": "markdown",
   "source": "### Introduction to List #",
   "id": "e1f7c98a0cadba0e"
  },
  {
   "metadata": {},
   "cell_type": "markdown",
   "source": [
    "Lists are ordered, mutable collections of items.\n",
    "\n",
    "They can contain items of different data types."
   ],
   "id": "aeba1800a1dab900"
  },
  {
   "metadata": {
    "ExecuteTime": {
     "end_time": "2025-06-25T05:11:04.182621Z",
     "start_time": "2025-06-25T05:11:04.177164Z"
    }
   },
   "cell_type": "code",
   "source": [
    "lst = []\n",
    "print(type(lst))"
   ],
   "id": "b45f9d744e3309c8",
   "outputs": [
    {
     "name": "stdout",
     "output_type": "stream",
     "text": [
      "<class 'list'>\n"
     ]
    }
   ],
   "execution_count": 1
  },
  {
   "metadata": {
    "ExecuteTime": {
     "end_time": "2025-06-25T05:12:23.526820Z",
     "start_time": "2025-06-25T05:12:23.513802Z"
    }
   },
   "cell_type": "code",
   "source": [
    "name = [\"Aryan\", \"Aman\",1,2,3,4,5,6]\n",
    "print(name)"
   ],
   "id": "f1dc150667fa9c86",
   "outputs": [
    {
     "name": "stdout",
     "output_type": "stream",
     "text": [
      "['Aryan', 'Aman', 1, 2, 3, 4, 5, 6]\n"
     ]
    }
   ],
   "execution_count": 2
  },
  {
   "metadata": {
    "ExecuteTime": {
     "end_time": "2025-06-25T05:13:12.408812Z",
     "start_time": "2025-06-25T05:13:12.369946Z"
    }
   },
   "cell_type": "code",
   "source": [
    "mixed_list = [1, 2.5, \"Hello\", True]\n",
    "print(mixed_list)\n",
    "type(mixed_list)"
   ],
   "id": "4295c7343a764ba1",
   "outputs": [
    {
     "name": "stdout",
     "output_type": "stream",
     "text": [
      "[1, 2.5, 'Hello', True]\n"
     ]
    },
    {
     "data": {
      "text/plain": [
       "list"
      ]
     },
     "execution_count": 3,
     "metadata": {},
     "output_type": "execute_result"
    }
   ],
   "execution_count": 3
  },
  {
   "metadata": {},
   "cell_type": "markdown",
   "source": "## Accessing List Elements #",
   "id": "d3efd1adb880dec4"
  },
  {
   "metadata": {
    "ExecuteTime": {
     "end_time": "2025-06-25T05:18:28.739381Z",
     "start_time": "2025-06-25T05:18:28.728165Z"
    }
   },
   "cell_type": "code",
   "source": [
    "Fruits = [\"Mango\", \"Banana\",\"cherry\",\"kiwi\",\"gauva\"]\n",
    "print(Fruits[0])\n",
    "print(Fruits[2])\n",
    "print(Fruits[4])\n",
    "print(Fruits[-1])\n"
   ],
   "id": "5104aa00d0724c92",
   "outputs": [
    {
     "name": "stdout",
     "output_type": "stream",
     "text": [
      "Mango\n",
      "cherry\n",
      "gauva\n",
      "gauva\n"
     ]
    }
   ],
   "execution_count": 7
  },
  {
   "metadata": {
    "ExecuteTime": {
     "end_time": "2025-06-25T05:20:20.925956Z",
     "start_time": "2025-06-25T05:20:20.919452Z"
    }
   },
   "cell_type": "code",
   "source": [
    "print(Fruits[1:3])\n",
    "print(Fruits[1:])"
   ],
   "id": "b1dc8f901db59445",
   "outputs": [
    {
     "name": "stdout",
     "output_type": "stream",
     "text": [
      "['Banana', 'cherry']\n",
      "['Banana', 'cherry', 'kiwi', 'gauva']\n"
     ]
    }
   ],
   "execution_count": 9
  },
  {
   "metadata": {},
   "cell_type": "markdown",
   "source": "## Modifying List Elements #",
   "id": "ce4245ffffb4ba81"
  },
  {
   "metadata": {
    "ExecuteTime": {
     "end_time": "2025-06-25T05:21:31.699400Z",
     "start_time": "2025-06-25T05:21:31.670466Z"
    }
   },
   "cell_type": "code",
   "source": "Fruits",
   "id": "238828ff93424430",
   "outputs": [
    {
     "data": {
      "text/plain": [
       "['Mango', 'Banana', 'cherry', 'kiwi', 'gauva']"
      ]
     },
     "execution_count": 10,
     "metadata": {},
     "output_type": "execute_result"
    }
   ],
   "execution_count": 10
  },
  {
   "metadata": {
    "ExecuteTime": {
     "end_time": "2025-06-25T05:27:12.305015Z",
     "start_time": "2025-06-25T05:27:12.288651Z"
    }
   },
   "cell_type": "code",
   "source": [
    "Fruits[1]= \"Apple\"\n",
    "Fruits"
   ],
   "id": "f50e7275b64a049c",
   "outputs": [
    {
     "data": {
      "text/plain": [
       "['Mango', 'Apple', 'cherry', 'kiwi', 'gauva', 'Orange', 'Orange', 'Orange']"
      ]
     },
     "execution_count": 17,
     "metadata": {},
     "output_type": "execute_result"
    }
   ],
   "execution_count": 17
  },
  {
   "metadata": {},
   "cell_type": "markdown",
   "source": "## List Methods #",
   "id": "799145dffe001ae5"
  },
  {
   "metadata": {
    "ExecuteTime": {
     "end_time": "2025-06-25T05:26:47.904473Z",
     "start_time": "2025-06-25T05:26:47.897356Z"
    }
   },
   "cell_type": "code",
   "outputs": [
    {
     "data": {
      "text/plain": [
       "['Mango', 'Apple', 'cherry', 'kiwi', 'gauva', 'Orange', 'Orange', 'Orange']"
      ]
     },
     "execution_count": 15,
     "metadata": {},
     "output_type": "execute_result"
    }
   ],
   "execution_count": 15,
   "source": [
    "Fruits.append(\"Orange\") # Adding item to end of the list\n",
    "Fruits"
   ],
   "id": "84d5f36ad458fb34"
  },
  {
   "metadata": {
    "ExecuteTime": {
     "end_time": "2025-06-25T05:27:42.592003Z",
     "start_time": "2025-06-25T05:27:42.586764Z"
    }
   },
   "cell_type": "code",
   "source": "Fruits.insert(2, \"Pineapple\") # Inserting item at index 2",
   "id": "2c3b1c21a845fc25",
   "outputs": [],
   "execution_count": 18
  },
  {
   "metadata": {
    "ExecuteTime": {
     "end_time": "2025-06-25T05:27:49.248141Z",
     "start_time": "2025-06-25T05:27:49.244301Z"
    }
   },
   "cell_type": "code",
   "source": "print(Fruits)",
   "id": "6187dd8788e221db",
   "outputs": [
    {
     "name": "stdout",
     "output_type": "stream",
     "text": [
      "['Mango', 'Apple', 'Pineapple', 'cherry', 'kiwi', 'gauva', 'Orange', 'Orange', 'Orange']\n"
     ]
    }
   ],
   "execution_count": 19
  },
  {
   "metadata": {
    "ExecuteTime": {
     "end_time": "2025-06-25T05:28:41.373953Z",
     "start_time": "2025-06-25T05:28:41.352724Z"
    }
   },
   "cell_type": "code",
   "source": [
    "Fruits.remove(\"Orange\") # Removing value from the list\n",
    "Fruits"
   ],
   "id": "30e1a7057809a758",
   "outputs": [
    {
     "data": {
      "text/plain": [
       "['Mango', 'Apple', 'Pineapple', 'cherry', 'kiwi', 'gauva', 'Orange']"
      ]
     },
     "execution_count": 22,
     "metadata": {},
     "output_type": "execute_result"
    }
   ],
   "execution_count": 22
  },
  {
   "metadata": {
    "ExecuteTime": {
     "end_time": "2025-06-25T05:29:57.740938Z",
     "start_time": "2025-06-25T05:29:57.737086Z"
    }
   },
   "cell_type": "code",
   "source": [
    "popped_fruits = Fruits.pop() # Removing the laast item from the list and returning it\n",
    "print(popped_fruits)\n",
    "print(Fruits)"
   ],
   "id": "673f102075fd9305",
   "outputs": [
    {
     "name": "stdout",
     "output_type": "stream",
     "text": [
      "gauva\n",
      "['Mango', 'Apple', 'Pineapple', 'cherry', 'kiwi']\n"
     ]
    }
   ],
   "execution_count": 24
  },
  {
   "metadata": {
    "ExecuteTime": {
     "end_time": "2025-06-25T05:34:59.804189Z",
     "start_time": "2025-06-25T05:34:59.799988Z"
    }
   },
   "cell_type": "code",
   "source": [
    " index = Fruits.index(\"cherry\") # Finding the index of an item\n",
    " print(index)"
   ],
   "id": "774f5da3bd00cf4d",
   "outputs": [
    {
     "name": "stdout",
     "output_type": "stream",
     "text": [
      "3\n"
     ]
    }
   ],
   "execution_count": 27
  },
  {
   "metadata": {
    "ExecuteTime": {
     "end_time": "2025-06-25T05:37:03.324486Z",
     "start_time": "2025-06-25T05:37:03.315351Z"
    }
   },
   "cell_type": "code",
   "source": [
    "Fruits.insert(5,\"Mango\")\n",
    "print(Fruits)\n",
    "Fruits.count(\"Mango\")"
   ],
   "id": "2542f2c15df317be",
   "outputs": [
    {
     "name": "stdout",
     "output_type": "stream",
     "text": [
      "['Mango', 'Apple', 'Pineapple', 'cherry', 'kiwi', 'Mango']\n"
     ]
    },
    {
     "data": {
      "text/plain": [
       "2"
      ]
     },
     "execution_count": 29,
     "metadata": {},
     "output_type": "execute_result"
    }
   ],
   "execution_count": 29
  },
  {
   "metadata": {
    "ExecuteTime": {
     "end_time": "2025-06-25T05:41:31.774555Z",
     "start_time": "2025-06-25T05:41:31.769120Z"
    }
   },
   "cell_type": "code",
   "source": [
    "Fruits.sort() # Sorting the list in ascending order\n",
    "print(Fruits)"
   ],
   "id": "55c0cdc65763ae23",
   "outputs": [
    {
     "name": "stdout",
     "output_type": "stream",
     "text": [
      "['Apple', 'Mango', 'Mango', 'Pineapple', 'cherry', 'kiwi']\n"
     ]
    }
   ],
   "execution_count": 32
  },
  {
   "metadata": {
    "ExecuteTime": {
     "end_time": "2025-06-25T05:54:08.856453Z",
     "start_time": "2025-06-25T05:54:08.799988Z"
    }
   },
   "cell_type": "code",
   "source": [
    "Fruits.reverse() # Reversing the order of the list\n",
    "Fruits"
   ],
   "id": "731ccbb18bce5bb2",
   "outputs": [
    {
     "data": {
      "text/plain": [
       "['kiwi', 'cherry', 'Pineapple', 'Mango', 'Mango', 'Apple']"
      ]
     },
     "execution_count": 33,
     "metadata": {},
     "output_type": "execute_result"
    }
   ],
   "execution_count": 33
  },
  {
   "metadata": {
    "ExecuteTime": {
     "end_time": "2025-06-25T05:55:05.122887Z",
     "start_time": "2025-06-25T05:55:05.100339Z"
    }
   },
   "cell_type": "code",
   "source": [
    "Fruits.clear() # Remove all Items from the list\n",
    "Fruits"
   ],
   "id": "336396abe3649ac1",
   "outputs": [
    {
     "data": {
      "text/plain": [
       "[]"
      ]
     },
     "execution_count": 34,
     "metadata": {},
     "output_type": "execute_result"
    }
   ],
   "execution_count": 34
  },
  {
   "metadata": {},
   "cell_type": "markdown",
   "source": "## Slicing Lists #",
   "id": "95967770ab3475dc"
  },
  {
   "metadata": {
    "ExecuteTime": {
     "end_time": "2025-06-25T05:57:56.829249Z",
     "start_time": "2025-06-25T05:57:56.820214Z"
    }
   },
   "cell_type": "code",
   "source": [
    "number = [1, 2, 3, 4, 5, 6, 7, 8, 9, 10]\n",
    "print(number[2:5])\n",
    "print(number[:5])\n",
    "print(number[5:])"
   ],
   "id": "197f770ee41a8d8e",
   "outputs": [
    {
     "name": "stdout",
     "output_type": "stream",
     "text": [
      "[3, 4, 5]\n",
      "[1, 2, 3, 4, 5]\n",
      "[6, 7, 8, 9, 10]\n"
     ]
    }
   ],
   "execution_count": 37
  },
  {
   "metadata": {},
   "cell_type": "code",
   "outputs": [],
   "execution_count": null,
   "source": "",
   "id": "7f8e333aeb2de52e"
  }
 ],
 "metadata": {
  "kernelspec": {
   "display_name": "Python 3",
   "language": "python",
   "name": "python3"
  },
  "language_info": {
   "codemirror_mode": {
    "name": "ipython",
    "version": 2
   },
   "file_extension": ".py",
   "mimetype": "text/x-python",
   "name": "python",
   "nbconvert_exporter": "python",
   "pygments_lexer": "ipython2",
   "version": "2.7.6"
  }
 },
 "nbformat": 4,
 "nbformat_minor": 5
}
