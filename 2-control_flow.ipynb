{
 "cells": [
  {
   "cell_type": "markdown",
   "id": "7009ae89",
   "metadata": {},
   "source": [
    "## Control Flow #"
   ]
  },
  {
   "cell_type": "markdown",
   "id": "575f1cfe",
   "metadata": {},
   "source": [
    "### Conditional Statement # "
   ]
  },
  {
   "cell_type": "code",
   "execution_count": 1,
   "id": "d598a124",
   "metadata": {},
   "outputs": [
    {
     "name": "stdout",
     "output_type": "stream",
     "text": [
      "You are an adult.\n"
     ]
    }
   ],
   "source": [
    "from doctest import Example\n",
    "\n",
    "# if Statement\n",
    "\n",
    "age = 20\n",
    "\n",
    "if age >= 18:\n",
    "    print(\"You are an adult.\")\n",
    "else :\n",
    "    print(\"You are a minor.\")"
   ]
  },
  {
   "cell_type": "code",
   "execution_count": 1,
   "id": "979efa31",
   "metadata": {},
   "outputs": [
    {
     "name": "stdout",
     "output_type": "stream",
     "text": [
      "you are a young adult\n"
     ]
    }
   ],
   "source": [
    "# elif Statement\n",
    "\n",
    "age = 20\n",
    "\n",
    "if age < 13:\n",
    "    print(\"you are a child\")\n",
    "elif age < 18:\n",
    "    print(\"you are a teenager\")\n",
    "elif age < 35:\n",
    "    print(\"you are a young adult\")\n",
    "elif age < 50:\n",
    "    print(\"you are a middle-aged adult\")\n",
    "elif age < 65:\n",
    "    print(\"you are a senior adult\")\n",
    "else: \n",
    "    print(\"you are a senior citizen\")    \n",
    " "
   ]
  },
  {
   "cell_type": "code",
   "execution_count": 6,
   "id": "6fbfaeea",
   "metadata": {},
   "outputs": [
    {
     "name": "stdout",
     "output_type": "stream",
     "text": [
      "This number is Zero\n"
     ]
    }
   ],
   "source": [
    "# Nested Conditional Statement\n",
    "# Question is Number even or odd or negative\n",
    "\n",
    "num = float(input(\"Enter a number:\"))\n",
    "\n",
    "if num >0: \n",
    "    print(f\"{num} is a positive \")\n",
    "    if num%2==0:\n",
    "        print(f\"{num} is an even number\")\n",
    "    else :\n",
    "        print(f\"{num} is an odd number\")\n",
    "elif num == 0:\n",
    "    print(\"This number is Zero\")        \n",
    "else:\n",
    "    print(f\"{num} is a negative number\")\n",
    " \n"
   ]
  },
  {
   "cell_type": "code",
   "execution_count": 19,
   "id": "3f8785b7",
   "metadata": {},
   "outputs": [
    {
     "name": "stdout",
     "output_type": "stream",
     "text": [
      "2028 is a leap year\n"
     ]
    }
   ],
   "source": [
    "# Practice Question \n",
    "\n",
    "# Determine if a year is a leap year or not\n",
    "\n",
    "year = int(input(\"Enter a year:\"))\n",
    "\n",
    "if year %4 == 0:\n",
    "    if year %100 ==0:\n",
    "        if year %400 == 0:\n",
    "            print(year,\"is a leap year\")\n",
    "        else: \n",
    "            print(f\"{year} is not a leap year\")\n",
    "    else:\n",
    "        print(year,\"is a leap year\")\n",
    "else: \n",
    "    print(f\"{year} is not a leap year\")"
   ]
  },
  {
   "cell_type": "code",
   "execution_count": 20,
   "id": "dd200480",
   "metadata": {},
   "outputs": [
    {
     "name": "stdout",
     "output_type": "stream",
     "text": [
      "The result of 20.0 + 23.0 is 43.0\n"
     ]
    }
   ],
   "source": [
    "# Simple Calculator \n",
    "\n",
    "num1 = float(input(\"Enter first number: \"))\n",
    "num2 = float(input(\"Enter second number: \"))\n",
    "operation = input(\"Enter operation (+, -, *, /): \")\n",
    "\n",
    "if operation == '+':\n",
    "    result = num1 + num2\n",
    "    print(f\"The result of {num1} + {num2} is {result}\")\n",
    "elif operation == '-':\n",
    "    result = num1 - num2\n",
    "    print(f\"The result of {num1} - {num2} is {result}\")\n",
    "elif operation == '*':\n",
    "    result = num1 * num2\n",
    "    print(f\"The result of {num1} * {num2} is {result}\")\n",
    "elif operation == '/':\n",
    "    if num2 != 0:\n",
    "        result = num1 / num2\n",
    "        print(f\"The result of {num1} / {num2} is {result}\")\n",
    "    else:\n",
    "        print(\"Error: Division by zero is not allowed.\")\n",
    "else:\n",
    "    print(\"Error: Invalid operation. Please enter one of +, -, *, /.\")\n"
   ]
  },
  {
   "cell_type": "code",
   "execution_count": 22,
   "id": "b062f83c",
   "metadata": {},
   "outputs": [
    {
     "name": "stdout",
     "output_type": "stream",
     "text": [
      "The ticket price is: $10\n"
     ]
    }
   ],
   "source": [
    "# Determine the ticket price based on age and whether the person is a student.\n",
    "# Ticket Pricing based on age and stuedent status\n",
    "\n",
    "age = int(input(\"Enter your age: \"))\n",
    "is_student = input(\"Are you a student? (yes/no): \").strip().lower()\n",
    "\n",
    "# determine ticket price\n",
    "if age<5 :\n",
    "    price = \"Free\"\n",
    "elif age < 12:\n",
    "    prince = \"$5\"\n",
    "elif age < 17:\n",
    "    if is_student == \"yes\":\n",
    "        price = \"$7\"\n",
    "    else:\n",
    "        price = \"$10\"\n",
    "elif age < 60:\n",
    "    if is_student == \"yes\":\n",
    "        price = \"$12\"\n",
    "    else:\n",
    "        price = \"$15\"\n",
    "else:\n",
    "    price = \"$25\"\n",
    "    \n",
    "print(f\"The ticket price is: {price}\")"
   ]
  },
  {
   "cell_type": "markdown",
   "id": "a48fa5f4",
   "metadata": {},
   "source": [
    "### Loop Statement #"
   ]
  },
  {
   "cell_type": "code",
   "execution_count": 24,
   "id": "a6b75e1d",
   "metadata": {},
   "outputs": [
    {
     "name": "stdout",
     "output_type": "stream",
     "text": [
      "0\n",
      "1\n",
      "2\n",
      "3\n",
      "4\n"
     ]
    }
   ],
   "source": [
    "# for Loop statement\n",
    "\n",
    "for i in range(5):\n",
    "    print(i)"
   ]
  },
  {
   "cell_type": "code",
   "execution_count": 28,
   "id": "aad2c81b",
   "metadata": {},
   "outputs": [
    {
     "name": "stdout",
     "output_type": "stream",
     "text": [
      "0\n",
      "2\n",
      "4\n",
      "6\n",
      "8\n"
     ]
    }
   ],
   "source": [
    "for i in range (0,10,2):\n",
    "    print(i)"
   ]
  },
  {
   "cell_type": "code",
   "execution_count": 30,
   "id": "1329df3a",
   "metadata": {},
   "outputs": [
    {
     "name": "stdout",
     "output_type": "stream",
     "text": [
      "20\n",
      "19\n",
      "18\n",
      "17\n",
      "16\n",
      "15\n",
      "14\n",
      "13\n",
      "12\n",
      "11\n"
     ]
    }
   ],
   "source": [
    "for i in range (20,10,-1):\n",
    "    print(i)"
   ]
  },
  {
   "cell_type": "code",
   "execution_count": 31,
   "id": "12ea5ec1",
   "metadata": {},
   "outputs": [
    {
     "name": "stdout",
     "output_type": "stream",
     "text": [
      "R\n",
      "a\n",
      "j\n",
      "y\n",
      "a\n",
      "g\n",
      "u\n",
      "r\n",
      "u\n",
      " \n",
      "A\n",
      "r\n",
      "y\n",
      "a\n",
      "n\n"
     ]
    }
   ],
   "source": [
    "str = \"Rajyaguru Aryan\"\n",
    "\n",
    "for i in str:\n",
    "    print(i)"
   ]
  },
  {
   "cell_type": "code",
   "execution_count": 35,
   "id": "935bd5b9",
   "metadata": {},
   "outputs": [
    {
     "name": "stdout",
     "output_type": "stream",
     "text": [
      "Count is: 0\n",
      "Count is: 1\n",
      "Count is: 2\n",
      "Count is: 3\n",
      "Count is: 4\n"
     ]
    }
   ],
   "source": [
    "# While Loop Statement\n",
    "\n",
    "count = 0\n",
    "while count < 5:\n",
    "    print(\"Count is:\", count)\n",
    "    count += 1"
   ]
  },
  {
   "cell_type": "markdown",
   "id": "d6445205",
   "metadata": {},
   "source": [
    "#### Loop Control Statement #"
   ]
  },
  {
   "cell_type": "code",
   "id": "88c29109",
   "metadata": {
    "ExecuteTime": {
     "end_time": "2025-06-24T13:13:22.281442Z",
     "start_time": "2025-06-24T13:13:22.276291Z"
    }
   },
   "source": [
    "#  Break\n",
    "\n",
    "for i in range(10):\n",
    "    if i==5 :\n",
    "        break\n",
    "    print (i)"
   ],
   "outputs": [
    {
     "name": "stdout",
     "output_type": "stream",
     "text": [
      "0\n",
      "1\n",
      "2\n",
      "3\n",
      "4\n"
     ]
    }
   ],
   "execution_count": 1
  },
  {
   "metadata": {
    "ExecuteTime": {
     "end_time": "2025-06-24T13:19:04.154106Z",
     "start_time": "2025-06-24T13:19:04.149012Z"
    }
   },
   "cell_type": "code",
   "source": [
    "# Continue\n",
    "\n",
    "for i in range(10):\n",
    "    if i%2==0:\n",
    "        continue\n",
    "    print (i)"
   ],
   "id": "237eceaba2081904",
   "outputs": [
    {
     "name": "stdout",
     "output_type": "stream",
     "text": [
      "1\n",
      "3\n",
      "5\n",
      "7\n",
      "9\n"
     ]
    }
   ],
   "execution_count": 1
  },
  {
   "metadata": {
    "ExecuteTime": {
     "end_time": "2025-06-24T13:21:28.552502Z",
     "start_time": "2025-06-24T13:21:28.549071Z"
    }
   },
   "cell_type": "code",
   "source": [
    "# Pass\n",
    "\n",
    "for i in range(5):\n",
    "    if i==3 :\n",
    "        print(\"the number is \", i)\n",
    "        pass\n",
    "    print(i)"
   ],
   "id": "835f7a123699235",
   "outputs": [
    {
     "name": "stdout",
     "output_type": "stream",
     "text": [
      "0\n",
      "1\n",
      "2\n",
      "the number is  3\n",
      "3\n",
      "4\n"
     ]
    }
   ],
   "execution_count": 3
  },
  {
   "metadata": {},
   "cell_type": "markdown",
   "source": "#### Nested Loops #",
   "id": "97be95f31033ee7e"
  },
  {
   "metadata": {
    "ExecuteTime": {
     "end_time": "2025-06-24T13:24:34.247722Z",
     "start_time": "2025-06-24T13:24:34.238574Z"
    }
   },
   "cell_type": "code",
   "source": [
    "for i in range(3):\n",
    "    for j in range(1):\n",
    "        print(f\"i:{i} and j:{j}\")"
   ],
   "id": "d0c0d3ebbab72fdf",
   "outputs": [
    {
     "name": "stdout",
     "output_type": "stream",
     "text": [
      "i:0 and j:0\n",
      "i:1 and j:0\n",
      "i:2 and j:0\n"
     ]
    }
   ],
   "execution_count": 5
  },
  {
   "metadata": {
    "ExecuteTime": {
     "end_time": "2025-06-24T13:28:11.915870Z",
     "start_time": "2025-06-24T13:28:11.902507Z"
    }
   },
   "cell_type": "code",
   "source": [
    "# Example calculate the sum of first N natural numbers using a while and for loop\n",
    "# while loop\n",
    "\n",
    "n = 10\n",
    "sum = 0\n",
    "count = 1\n",
    "\n",
    "while count <=n:\n",
    "    sum = sum + count\n",
    "    count +=1\n",
    "\n",
    "print(\"sum of first number:\", sum)"
   ],
   "id": "37c7fc8a6009797c",
   "outputs": [
    {
     "name": "stdout",
     "output_type": "stream",
     "text": [
      "sum of first number: 55\n"
     ]
    }
   ],
   "execution_count": 6
  },
  {
   "metadata": {
    "ExecuteTime": {
     "end_time": "2025-06-24T13:30:41.927065Z",
     "start_time": "2025-06-24T13:30:41.920120Z"
    }
   },
   "cell_type": "code",
   "source": [
    "# using for loop\n",
    "\n",
    "n = 10\n",
    "sum = 0\n",
    "\n",
    "for i in range(11):\n",
    "    sum = sum + i\n",
    "\n",
    "print(sum)"
   ],
   "id": "469d7b797f2ffd6a",
   "outputs": [
    {
     "name": "stdout",
     "output_type": "stream",
     "text": [
      "55\n"
     ]
    }
   ],
   "execution_count": 8
  },
  {
   "metadata": {
    "ExecuteTime": {
     "end_time": "2025-06-24T13:35:49.122118Z",
     "start_time": "2025-06-24T13:35:49.115479Z"
    }
   },
   "cell_type": "code",
   "source": [
    "# Example : Prime Number Between 1 and 100\n",
    "\n",
    "for num in range(1,101):\n",
    "    if num>1:\n",
    "        for i in range(2, num):\n",
    "            if num %i == 0:\n",
    "                break\n",
    "        else:\n",
    "            print(num)\n"
   ],
   "id": "1b4e6f3d219ff286",
   "outputs": [
    {
     "name": "stdout",
     "output_type": "stream",
     "text": [
      "2\n",
      "3\n",
      "5\n",
      "7\n",
      "11\n",
      "13\n",
      "17\n",
      "19\n",
      "23\n",
      "29\n",
      "31\n",
      "37\n",
      "41\n",
      "43\n",
      "47\n",
      "53\n",
      "59\n",
      "61\n",
      "67\n",
      "71\n",
      "73\n",
      "79\n",
      "83\n",
      "89\n",
      "97\n"
     ]
    }
   ],
   "execution_count": 15
  }
 ],
 "metadata": {
  "kernelspec": {
   "display_name": "myvenv",
   "language": "python",
   "name": "python3"
  },
  "language_info": {
   "codemirror_mode": {
    "name": "ipython",
    "version": 3
   },
   "file_extension": ".py",
   "mimetype": "text/x-python",
   "name": "python",
   "nbconvert_exporter": "python",
   "pygments_lexer": "ipython3",
   "version": "3.13.1"
  }
 },
 "nbformat": 4,
 "nbformat_minor": 5
}
