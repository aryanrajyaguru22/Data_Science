{
 "cells": [
  {
   "metadata": {},
   "cell_type": "markdown",
   "source": "# Managing An Inventory #",
   "id": "71c26958f05551a6"
  },
  {
   "cell_type": "code",
   "id": "initial_id",
   "metadata": {
    "collapsed": true,
    "ExecuteTime": {
     "end_time": "2025-06-25T12:22:15.658198Z",
     "start_time": "2025-06-25T12:22:12.428553Z"
    }
   },
   "source": [
    "# Managing an inventory\n",
    "inventory = [\"Apples\", \"Bananas\", \"Oranges\", \"Grapes\"]\n",
    "\n",
    "# Adding a new item\n",
    "inventory.append(\"Mangoes\")\n",
    "\n",
    "# Removing an item that is out of stock\n",
    "\n",
    "# checking if an item is in stock\n",
    "item =  input(\"Which item would you like to buy? \")\n",
    "\n",
    "if item in inventory:\n",
    "    print(f\"{item} is available in stock.\")\n",
    "else:\n",
    "    print(f\"Sorry, {item} is not available in stock.\")\n",
    "\n",
    "# Printing the inventory\n",
    "print(\"inventory List:\")\n",
    "for item in inventory:\n",
    "    print(f\"- {item}\")"
   ],
   "outputs": [
    {
     "name": "stdout",
     "output_type": "stream",
     "text": [
      "Mangoes is available in stock.\n",
      "inventory List:\n",
      "- Apples\n",
      "- Bananas\n",
      "- Oranges\n",
      "- Grapes\n",
      "- Mangoes\n"
     ]
    }
   ],
   "execution_count": 2
  }
 ],
 "metadata": {
  "kernelspec": {
   "display_name": "Python 3",
   "language": "python",
   "name": "python3"
  },
  "language_info": {
   "codemirror_mode": {
    "name": "ipython",
    "version": 2
   },
   "file_extension": ".py",
   "mimetype": "text/x-python",
   "name": "python",
   "nbconvert_exporter": "python",
   "pygments_lexer": "ipython2",
   "version": "2.7.6"
  }
 },
 "nbformat": 4,
 "nbformat_minor": 5
}
