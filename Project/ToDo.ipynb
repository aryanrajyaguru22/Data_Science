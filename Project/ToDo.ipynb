{
 "cells": [
  {
   "metadata": {},
   "cell_type": "markdown",
   "source": "# Create A To-Do List #\n",
   "id": "c8f44d1a90a5f49b"
  },
  {
   "cell_type": "code",
   "id": "initial_id",
   "metadata": {
    "collapsed": true,
    "ExecuteTime": {
     "end_time": "2025-06-25T12:04:37.104936Z",
     "start_time": "2025-06-25T12:04:37.100977Z"
    }
   },
   "source": [
    "# First Crate a list variable\n",
    "to_do_list = [\"Buy groceries\", \"clean the house\", \"Pay bills\"]\n",
    "\n",
    "# Adding to task\n",
    "\n",
    "to_do_list.append(\"Schedule meeting to manager\")\n",
    "to_do_list.append(\"Go for a walk\")\n",
    "\n",
    "# Removing a completed task\n",
    "to_do_list.remove(\"clean the house\")\n",
    "\n",
    "# checking if a task is in the list\n",
    "\n",
    "if \"Pay bills\" in to_do_list:\n",
    "    print((\"you don't forget the pay the bills\"))\n",
    "\n",
    "\n",
    "print (\"To-Do List remaining:\")\n",
    "\n",
    "for task in to_do_list:\n",
    "    print(f\"- {task}\")\n",
    "\n"
   ],
   "outputs": [
    {
     "name": "stdout",
     "output_type": "stream",
     "text": [
      "you don't forget the pay the bills\n",
      "To-Do List remaining:\n",
      "- Buy groceries\n",
      "- Pay bills\n",
      "- Schedule meeting to manager\n",
      "- Go for a walk\n"
     ]
    }
   ],
   "execution_count": 3
  },
  {
   "metadata": {},
   "cell_type": "code",
   "outputs": [],
   "execution_count": null,
   "source": "",
   "id": "6175ae85bbe083cd"
  }
 ],
 "metadata": {
  "kernelspec": {
   "display_name": "Python 3",
   "language": "python",
   "name": "python3"
  },
  "language_info": {
   "codemirror_mode": {
    "name": "ipython",
    "version": 2
   },
   "file_extension": ".py",
   "mimetype": "text/x-python",
   "name": "python",
   "nbconvert_exporter": "python",
   "pygments_lexer": "ipython2",
   "version": "2.7.6"
  }
 },
 "nbformat": 4,
 "nbformat_minor": 5
}
