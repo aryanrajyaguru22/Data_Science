{
 "cells": [
  {
   "metadata": {},
   "cell_type": "markdown",
   "source": "# Organizing Student Grades #",
   "id": "5d5b93407d746793"
  },
  {
   "cell_type": "code",
   "id": "initial_id",
   "metadata": {
    "collapsed": true,
    "ExecuteTime": {
     "end_time": "2025-06-25T12:15:54.537379Z",
     "start_time": "2025-06-25T12:15:54.533715Z"
    }
   },
   "source": [
    "# Organizing student grades\n",
    "grades = [85,92,78,90,88]\n",
    "\n",
    "# Adding a new grade\n",
    "grades.append(95)\n",
    "\n",
    "# calculating the average grade\n",
    "average_grade = sum(grades)/ len(grades)\n",
    "print(f\"Average grade: {average_grade: .2f}\")\n",
    "\n",
    "# finding the highest and lowest grades\n",
    "highest_grade = max(grades)\n",
    "lowest_grade = min (grades)\n",
    "\n",
    "print(f\"Highest grade: {highest_grade}\")\n",
    "print(f\"Lowest grade: {lowest_grade}\")\n"
   ],
   "outputs": [
    {
     "name": "stdout",
     "output_type": "stream",
     "text": [
      "Average grade:  88.00\n",
      "Highest grade: 95\n",
      "Lowest grade: 78\n"
     ]
    }
   ],
   "execution_count": 3
  }
 ],
 "metadata": {
  "kernelspec": {
   "display_name": "Python 3",
   "language": "python",
   "name": "python3"
  },
  "language_info": {
   "codemirror_mode": {
    "name": "ipython",
    "version": 2
   },
   "file_extension": ".py",
   "mimetype": "text/x-python",
   "name": "python",
   "nbconvert_exporter": "python",
   "pygments_lexer": "ipython2",
   "version": "2.7.6"
  }
 },
 "nbformat": 4,
 "nbformat_minor": 5
}
