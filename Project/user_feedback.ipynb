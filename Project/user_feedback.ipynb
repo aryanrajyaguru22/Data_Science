{
 "cells": [
  {
   "metadata": {},
   "cell_type": "markdown",
   "source": "# Collecting User Feedback #",
   "id": "613f66cd76ce2cb1"
  },
  {
   "cell_type": "code",
   "id": "initial_id",
   "metadata": {
    "collapsed": true,
    "ExecuteTime": {
     "end_time": "2025-06-25T12:32:04.452483Z",
     "start_time": "2025-06-25T12:32:04.448767Z"
    }
   },
   "source": [
    "# Collecting user feedback\n",
    "\n",
    "feedback = [\"Great service\", \"very satisfied\", \"Could be better\", \"Excellent experience\", \"great support\"]\n",
    "\n",
    "# Adding new Feedback\n",
    "feedback.append(\"Not Happy with the service\")\n",
    "\n",
    "# counting specific feedback\n",
    "positive_feedback_count =  sum(1 for comment in feedback if \"great \" in comment.lower() or \"excellent\" in comment.lower())\n",
    "print(f\"Positive feedback count: {positive_feedback_count}\")\n",
    "\n",
    "# Printing all feedback\n",
    "print(\"user feedback:\")\n",
    "for comment in feedback:\n",
    "    print(f\"-{comment}\")"
   ],
   "outputs": [
    {
     "name": "stdout",
     "output_type": "stream",
     "text": [
      "Positive feedback count: 3\n",
      "user feedback:\n",
      "-Great service\n",
      "-very satisfied\n",
      "-Could be better\n",
      "-Excellent experience\n",
      "-great support\n",
      "-Not Happy with the service\n"
     ]
    }
   ],
   "execution_count": 2
  }
 ],
 "metadata": {
  "kernelspec": {
   "display_name": "Python 3",
   "language": "python",
   "name": "python3"
  },
  "language_info": {
   "codemirror_mode": {
    "name": "ipython",
    "version": 2
   },
   "file_extension": ".py",
   "mimetype": "text/x-python",
   "name": "python",
   "nbconvert_exporter": "python",
   "pygments_lexer": "ipython2",
   "version": "2.7.6"
  }
 },
 "nbformat": 4,
 "nbformat_minor": 5
}
